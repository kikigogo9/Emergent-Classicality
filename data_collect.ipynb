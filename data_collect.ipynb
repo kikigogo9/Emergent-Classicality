{
 "cells": [
  {
   "cell_type": "markdown",
   "id": "c521c87c-80a8-49b8-aeb5-b2315fe22957",
   "metadata": {},
   "source": [
    "# Classical Shadow Transformer"
   ]
  },
  {
   "cell_type": "markdown",
   "id": "19afc649-dd30-4b97-8e80-4d4af3a53bdb",
   "metadata": {},
   "source": [
    "## Initialization"
   ]
  },
  {
   "cell_type": "code",
   "execution_count": 2,
   "id": "d89fe125-8a42-446d-a0c5-c3c054625614",
   "metadata": {},
   "outputs": [
    {
     "name": "stdout",
     "output_type": "stream",
     "text": [
      "cuda\n"
     ]
    }
   ],
   "source": [
    "from CST import *\n",
    "import matplotlib.pyplot as plt\n",
    "import pickle\n",
    "import torch\n",
    "device = torch.device('cuda' if (torch.cuda.is_available()) else 'cpu') # 'cpu', 'cuda', 'mps' ..\n",
    "print(device)\n"
   ]
  },
  {
   "cell_type": "markdown",
   "id": "1d0b2f56-b6bf-44dd-bcbb-e06ed670bab8",
   "metadata": {
    "jp-MarkdownHeadingCollapsed": true,
    "tags": []
   },
   "source": [
    "## Testing"
   ]
  },
  {
   "cell_type": "markdown",
   "id": "97e105e3-0435-42c0-9e2c-609b868e4e92",
   "metadata": {
    "jp-MarkdownHeadingCollapsed": true,
    "tags": []
   },
   "source": [
    "### Transformer"
   ]
  },
  {
   "cell_type": "markdown",
   "id": "1d2f92b4-fda7-40cc-9902-086c9926ecf2",
   "metadata": {
    "jp-MarkdownHeadingCollapsed": true,
    "tags": []
   },
   "source": [
    "#### Test 1: Log Probability Estimation"
   ]
  },
  {
   "cell_type": "markdown",
   "id": "115a596c-62c0-4a76-97ce-cdcb1cd12d01",
   "metadata": {},
   "source": [
    "**Goal:** show that the log probability accumulated at sampling is the same as log probability evaluated by the model directly."
   ]
  },
  {
   "cell_type": "markdown",
   "id": "235034e9-ca67-449b-9105-f0dbdda9fa31",
   "metadata": {},
   "source": [
    "Create a model and put into evaluation mode (to disable dropout)."
   ]
  },
  {
   "cell_type": "code",
   "execution_count": 3,
   "id": "74c8b276-db01-4f36-9b90-63948af5cb3e",
   "metadata": {},
   "outputs": [],
   "source": [
    "tf = Transformer(outtk_size=2)\n",
    "tf.eval()\n",
    "x = torch.tensor([[4],[4],[5],[5],[6],[6]])"
   ]
  },
  {
   "cell_type": "code",
   "execution_count": 4,
   "id": "9d419e68-a3b7-4b63-9d66-b70854ea09bd",
   "metadata": {},
   "outputs": [
    {
     "data": {
      "text/plain": [
       "(tensor([[2],\n",
       "         [1],\n",
       "         [1],\n",
       "         [1],\n",
       "         [2],\n",
       "         [2]]),\n",
       " tensor([-1.0359, -0.4383, -0.5331, -0.5331, -0.8408, -0.8408]))"
      ]
     },
     "execution_count": 4,
     "metadata": {},
     "output_type": "execute_result"
    }
   ],
   "source": [
    "y, logprob = tf.sample(x, 1, need_logprob=True)\n",
    "y, logprob"
   ]
  },
  {
   "cell_type": "code",
   "execution_count": 5,
   "id": "2cb3d9dd-bff0-43e7-ac81-3d9317e2c7d6",
   "metadata": {
    "tags": []
   },
   "outputs": [
    {
     "data": {
      "text/plain": [
       "tensor([-1.0359, -0.4383, -0.5331, -0.5331, -0.8408, -0.8408],\n",
       "       grad_fn=<SumBackward1>)"
      ]
     },
     "execution_count": 5,
     "metadata": {},
     "output_type": "execute_result"
    }
   ],
   "source": [
    "tf.logprob(x, y)"
   ]
  },
  {
   "cell_type": "markdown",
   "id": "06d3553e-1cbe-4645-96f8-a4bd838380a5",
   "metadata": {},
   "source": [
    "Results are matched up."
   ]
  },
  {
   "cell_type": "markdown",
   "id": "2a89739d-1656-4129-bf74-6c0d17574fde",
   "metadata": {
    "jp-MarkdownHeadingCollapsed": true,
    "tags": []
   },
   "source": [
    "#### Test 2: Generative Modeling"
   ]
  },
  {
   "cell_type": "markdown",
   "id": "0f0d0418-da1c-4ebb-8f8a-6167c7d43fc2",
   "metadata": {},
   "source": [
    "**Goal:** test the ability of the transformer model to learn sequence-to-sequence map."
   ]
  },
  {
   "cell_type": "code",
   "execution_count": 6,
   "id": "1a8df019-0a2f-4d71-b247-2e7fce9d40b3",
   "metadata": {},
   "outputs": [],
   "source": [
    "tf = Transformer(outtk_size=2)\n",
    "x = torch.tensor([[4],[4],[5],[5],[6],[6],[6]])\n",
    "y = torch.tensor([[1],[1],[1],[2],[1],[2],[2]])\n",
    "y1 = torch.tensor([[1],[2],[1],[2],[1],[2],[2]])"
   ]
  },
  {
   "cell_type": "code",
   "execution_count": 7,
   "id": "576ac1c1-b4fe-4aeb-aabd-fddfe73b7b2a",
   "metadata": {},
   "outputs": [],
   "source": [
    "optimizer = torch.optim.Adam(tf.parameters(), lr=0.001)"
   ]
  },
  {
   "cell_type": "code",
   "execution_count": 8,
   "id": "6f25a2a4-18fe-4522-aeed-658dd9317880",
   "metadata": {},
   "outputs": [
    {
     "name": "stdout",
     "output_type": "stream",
     "text": [
      "  0:  0.82738\n",
      "  1:  0.59744\n",
      "  2:  0.61077\n",
      "  3:  0.64973\n",
      "  4:  0.59737\n",
      "  5:  0.54241\n",
      "  6:  0.50676\n",
      "  7:  0.49967\n",
      "  8:   0.5199\n",
      "  9:  0.48541\n"
     ]
    }
   ],
   "source": [
    "tf.train()\n",
    "for epoch in range(10):\n",
    "    optimizer.zero_grad()\n",
    "    loss = -tf.logprob(x, y).mean()\n",
    "    loss.backward()\n",
    "    optimizer.step()\n",
    "    print('{:3d}: {:8.5g}'.format(epoch, loss.item()))"
   ]
  },
  {
   "cell_type": "markdown",
   "id": "dd795a2e-3c16-4a52-b916-b629c07a77f1",
   "metadata": {},
   "source": [
    "Learns to predict $y$ from $x$."
   ]
  },
  {
   "cell_type": "code",
   "execution_count": 9,
   "id": "7835801e-f8d9-4e30-be5d-f0816f5a26f5",
   "metadata": {},
   "outputs": [
    {
     "data": {
      "text/plain": [
       "[0.9749937057495117,\n",
       " 0.02500627003610134,\n",
       " 0.6202125549316406,\n",
       " 0.379787415266037,\n",
       " 0.36519232392311096,\n",
       " 0.6348076462745667,\n",
       " 0.6348077058792114]"
      ]
     },
     "execution_count": 9,
     "metadata": {},
     "output_type": "execute_result"
    }
   ],
   "source": [
    "tf.eval()\n",
    "tf.logprob(x, y1).exp().tolist()"
   ]
  },
  {
   "cell_type": "markdown",
   "id": "8f795833-3f5a-4133-9f0c-fb816b24eb4c",
   "metadata": {
    "jp-MarkdownHeadingCollapsed": true,
    "tags": []
   },
   "source": [
    "#### Test 3: VAE loss"
   ]
  },
  {
   "cell_type": "markdown",
   "id": "5b39eda9-b791-4bc8-8a6f-4c1e08193bd8",
   "metadata": {},
   "source": [
    "**Goal**: test training the transformer with VAE bottleneck"
   ]
  },
  {
   "cell_type": "code",
   "execution_count": 10,
   "id": "d7ebe248-da2a-4010-9423-1f75e802cf8d",
   "metadata": {},
   "outputs": [],
   "source": [
    "tf = Transformer(outtk_size=2)\n",
    "x = torch.tensor([[4],[4],[5],[5],[6],[6],[6]])\n",
    "y = torch.tensor([[1],[1],[1],[2],[1],[2],[2]])\n",
    "y1 = torch.tensor([[1],[2],[1],[2],[1],[2],[2]])"
   ]
  },
  {
   "cell_type": "code",
   "execution_count": 11,
   "id": "4b5ebfd6-fb38-4bd8-a224-1551ad8bd58b",
   "metadata": {},
   "outputs": [],
   "source": [
    "optimizer = torch.optim.Adam(tf.parameters(), lr=0.001)"
   ]
  },
  {
   "cell_type": "code",
   "execution_count": 12,
   "id": "ed6de0be-360a-470d-b106-9b2541f722d5",
   "metadata": {},
   "outputs": [
    {
     "name": "stdout",
     "output_type": "stream",
     "text": [
      "  0:  0.66561 -0.66561  0.93652\n",
      "  1:  0.58895 -0.58895  0.93616\n",
      "  2:  0.55945 -0.55945   0.9435\n",
      "  3:  0.61124 -0.61124  0.94197\n",
      "  4:  0.56324 -0.56324  0.95584\n",
      "  5:  0.50166 -0.50166   0.9633\n",
      "  6:  0.57196 -0.57196  0.98183\n",
      "  7:  0.48587 -0.48587   0.9987\n",
      "  8:  0.58201 -0.58201   1.0358\n",
      "  9:  0.51206 -0.51206    1.057\n"
     ]
    }
   ],
   "source": [
    "tf.train()\n",
    "for epoch in range(10):\n",
    "    optimizer.zero_grad()\n",
    "    loss, logprob, kld = tf.loss(x, y, beta=0.)\n",
    "    loss.backward()\n",
    "    optimizer.step()\n",
    "    print(f'{epoch:3d}: {loss.item():8.5g} {logprob.item():8.5g} {kld.item():8.5g}')"
   ]
  },
  {
   "cell_type": "markdown",
   "id": "f0777c5b-732a-4030-9ded-3b813d079199",
   "metadata": {},
   "source": [
    "Learns to predict $y$ from $x$."
   ]
  },
  {
   "cell_type": "code",
   "execution_count": 13,
   "id": "69af57fe-69f3-4669-9785-2cf5231e3e87",
   "metadata": {},
   "outputs": [
    {
     "data": {
      "text/plain": [
       "[0.9711828231811523,\n",
       " 0.02881723828613758,\n",
       " 0.46497195959091187,\n",
       " 0.5350281000137329,\n",
       " 0.17913764715194702,\n",
       " 0.8208624124526978,\n",
       " 0.820862352848053]"
      ]
     },
     "execution_count": 13,
     "metadata": {},
     "output_type": "execute_result"
    }
   ],
   "source": [
    "tf.eval()\n",
    "tf.logprob(x, y1).exp().tolist()"
   ]
  },
  {
   "cell_type": "markdown",
   "id": "cf4fb0d1-6f77-4e03-805d-7b10801de75d",
   "metadata": {},
   "source": [
    "Now the accuracy can be controlled by the hyperparameter $\\beta$."
   ]
  },
  {
   "cell_type": "markdown",
   "id": "96e7e10c-0482-47a2-8e0f-aa9c3bc9430d",
   "metadata": {
    "jp-MarkdownHeadingCollapsed": true,
    "tags": []
   },
   "source": [
    "#### Test 4: Sampling"
   ]
  },
  {
   "cell_type": "markdown",
   "id": "2ff30b67-3f0b-47a9-9399-50eb331face9",
   "metadata": {},
   "source": [
    "**Goal**: test sampling and completion."
   ]
  },
  {
   "cell_type": "code",
   "execution_count": 14,
   "id": "2771c8c8-3569-4125-8b76-5df291f2409f",
   "metadata": {},
   "outputs": [
    {
     "data": {
      "text/plain": [
       "tensor([[2, 1, 1, 1],\n",
       "        [2, 2, 1, 2],\n",
       "        [2, 1, 2, 1]])"
      ]
     },
     "execution_count": 14,
     "metadata": {},
     "output_type": "execute_result"
    }
   ],
   "source": [
    "tf = Transformer(outtk_size=2)\n",
    "x = torch.randint(4,7,(3,5))\n",
    "tf.sample(x)"
   ]
  },
  {
   "cell_type": "markdown",
   "id": "7682be8f-68b2-4d74-9303-1abdb222a0fe",
   "metadata": {},
   "source": [
    "Completion task."
   ]
  },
  {
   "cell_type": "code",
   "execution_count": 15,
   "id": "fe82fd87-1d2f-4ec6-9ee9-893a1006d5d8",
   "metadata": {},
   "outputs": [
    {
     "data": {
      "text/plain": [
       "tensor([[2, 2],\n",
       "        [1, 2],\n",
       "        [2, 2]])"
      ]
     },
     "execution_count": 15,
     "metadata": {},
     "output_type": "execute_result"
    }
   ],
   "source": [
    "y = torch.randint(1,3,(3,2))\n",
    "y"
   ]
  },
  {
   "cell_type": "code",
   "execution_count": 16,
   "id": "c0d05e36-40b1-4bae-8a2c-ff9cf08e522d",
   "metadata": {},
   "outputs": [
    {
     "data": {
      "text/plain": [
       "tensor([[2, 2, 2, 2],\n",
       "        [1, 2, 2, 2],\n",
       "        [2, 2, 2, 2]])"
      ]
     },
     "execution_count": 16,
     "metadata": {},
     "output_type": "execute_result"
    }
   ],
   "source": [
    "tf.sample(x, tgt_seq=y)"
   ]
  },
  {
   "cell_type": "markdown",
   "id": "0ac92617-cb93-4153-8a0c-326042ccf9e5",
   "metadata": {
    "jp-MarkdownHeadingCollapsed": true,
    "tags": []
   },
   "source": [
    "### Operator"
   ]
  },
  {
   "cell_type": "markdown",
   "id": "a3c2c72a-d335-48a6-aa29-57f50e1badb3",
   "metadata": {
    "jp-MarkdownHeadingCollapsed": true,
    "tags": []
   },
   "source": [
    "#### Test 1: Operator Algebra"
   ]
  },
  {
   "cell_type": "markdown",
   "id": "71ee9df4-3ec2-42c5-84ea-2584e974007a",
   "metadata": {},
   "source": [
    "**Goal:** test operator algebra are correct"
   ]
  },
  {
   "cell_type": "code",
   "execution_count": 17,
   "id": "1e958809-1e0d-46e0-9822-dfac89af38d3",
   "metadata": {},
   "outputs": [
    {
     "data": {
      "text/plain": [
       "[I, X, Y, Z]"
      ]
     },
     "execution_count": 17,
     "metadata": {},
     "output_type": "execute_result"
    }
   ],
   "source": [
    "ops = [pauli([i]) for i in range(4)]\n",
    "ops"
   ]
  },
  {
   "cell_type": "markdown",
   "id": "c9f8a420-220b-49ee-917c-6a7ff0b18609",
   "metadata": {},
   "source": [
    "Multiplication table of Pauli operators"
   ]
  },
  {
   "cell_type": "code",
   "execution_count": 18,
   "id": "0386bb23-2288-4c7e-bc3b-e39080ce9f92",
   "metadata": {},
   "outputs": [
    {
     "name": "stdout",
     "output_type": "stream",
     "text": [
      "I @ I = I\n",
      "I @ X = X\n",
      "I @ Y = Y\n",
      "I @ Z = Z\n",
      "X @ I = X\n",
      "X @ X = I\n",
      "X @ Y = i Z\n",
      "X @ Z = -i Y\n",
      "Y @ I = Y\n",
      "Y @ X = -i Z\n",
      "Y @ Y = I\n",
      "Y @ Z = i X\n",
      "Z @ I = Z\n",
      "Z @ X = i Y\n",
      "Z @ Y = -i X\n",
      "Z @ Z = I\n"
     ]
    }
   ],
   "source": [
    "for op1 in ops: \n",
    "    for op2 in ops:\n",
    "        print(f'{op1} @ {op2} = {op1 @ op2}')"
   ]
  },
  {
   "cell_type": "markdown",
   "id": "648cdd31-9c93-4a61-8112-5a6a1e8b4e83",
   "metadata": {
    "jp-MarkdownHeadingCollapsed": true,
    "tags": []
   },
   "source": [
    "#### Test 2: Operator Gradient"
   ]
  },
  {
   "cell_type": "markdown",
   "id": "207da3cd-3dd6-4743-b656-33e3c016e234",
   "metadata": {},
   "source": [
    "Example: construct an operator"
   ]
  },
  {
   "cell_type": "code",
   "execution_count": 19,
   "id": "823d8aec-1b90-4f1e-b6b4-43c059542a6f",
   "metadata": {},
   "outputs": [
    {
     "data": {
      "text/plain": [
       "X + i Y -2 Z"
      ]
     },
     "execution_count": 19,
     "metadata": {},
     "output_type": "execute_result"
    }
   ],
   "source": [
    "O = pauli('X') + 1j * pauli('Y') - 2 * pauli('Z')\n",
    "O"
   ]
  },
  {
   "cell_type": "code",
   "execution_count": 20,
   "id": "151aac7c-704c-4107-a7ab-937efd137193",
   "metadata": {},
   "outputs": [
    {
     "data": {
      "text/plain": [
       "X + i Y -2 Z (requires_grad=True)"
      ]
     },
     "execution_count": 20,
     "metadata": {},
     "output_type": "execute_result"
    }
   ],
   "source": [
    "O = O.requires_grad_()\n",
    "O"
   ]
  },
  {
   "cell_type": "code",
   "execution_count": 21,
   "id": "11e9e9c5-a183-4661-8ee3-ee2dd63a1cf6",
   "metadata": {},
   "outputs": [
    {
     "data": {
      "text/plain": [
       "6 I -4 X -2 Z (grad_fn=<class 'IndexBackward0'>)"
      ]
     },
     "execution_count": 21,
     "metadata": {},
     "output_type": "execute_result"
    }
   ],
   "source": [
    "O.H @ O"
   ]
  },
  {
   "cell_type": "markdown",
   "id": "441bc50e-59ee-47e4-80c3-30711204767d",
   "metadata": {},
   "source": [
    "Operator norm is defined to be $\\Vert O\\Vert^2=\\mathrm{Tr}\\,O^\\dagger O$"
   ]
  },
  {
   "cell_type": "code",
   "execution_count": 22,
   "id": "2ef4e9f9-1944-4f44-b333-8613da1aa85d",
   "metadata": {},
   "outputs": [
    {
     "data": {
      "text/plain": [
       "tensor(6., grad_fn=<SelectBackward0>)"
      ]
     },
     "execution_count": 22,
     "metadata": {},
     "output_type": "execute_result"
    }
   ],
   "source": [
    "O.norm()"
   ]
  },
  {
   "cell_type": "code",
   "execution_count": 23,
   "id": "a20ba11b-e7c8-4e8b-9f8d-ded07e8ac9d9",
   "metadata": {},
   "outputs": [
    {
     "data": {
      "text/plain": [
       "2 X + (0.00+2.00i) Y -4 Z"
      ]
     },
     "execution_count": 23,
     "metadata": {},
     "output_type": "execute_result"
    }
   ],
   "source": [
    "O.norm().backward()\n",
    "O.grad"
   ]
  },
  {
   "cell_type": "markdown",
   "id": "fae5c69d-ae5c-4eab-8566-d25c206727ea",
   "metadata": {
    "jp-MarkdownHeadingCollapsed": true,
    "tags": []
   },
   "source": [
    "### Shadow"
   ]
  },
  {
   "cell_type": "markdown",
   "id": "ff165dd3-0b29-41da-9e38-b3d24c0630ea",
   "metadata": {
    "jp-MarkdownHeadingCollapsed": true,
    "tags": []
   },
   "source": [
    "#### Test 1: Shadow Evaluate "
   ]
  },
  {
   "cell_type": "markdown",
   "id": "4c003d71-f5f7-44b3-a574-8e93681dc562",
   "metadata": {},
   "source": [
    "**Goal:** evaluate operator expectation value on a shadow dataset."
   ]
  },
  {
   "cell_type": "code",
   "execution_count": 24,
   "id": "601bf235-543d-4ef6-8bac-f2f8fdffd549",
   "metadata": {},
   "outputs": [
    {
     "data": {
      "text/plain": [
       "| +X -X -Z |\n",
       "| +Y +Z +Z |\n",
       "| -X +X +Z |\n",
       "| +Y -Y +Z |\n",
       "| +Y -X +Y |\n",
       "| +X -Y +X |\n",
       "| +Y -X +Z |\n",
       "| -X -Y -Y |\n",
       "| +Y -X +Y |\n",
       "| -Y -Z +Y |\n",
       "| -X +Z +Z |\n",
       "| +Z +Z -Y |\n",
       "| +Y -Z -Z |\n",
       "| -Y +X -Z |\n",
       "| +Y -X +Y |\n",
       "| -Y -Y +Z |\n",
       "..."
      ]
     },
     "execution_count": 24,
     "metadata": {},
     "output_type": "execute_result"
    }
   ],
   "source": [
    "shd = ghz_shadow(3, 1000)\n",
    "shd"
   ]
  },
  {
   "cell_type": "code",
   "execution_count": 25,
   "id": "785f8c77-d592-48a2-a2a7-fb02ce38f295",
   "metadata": {},
   "outputs": [
    {
     "data": {
      "text/plain": [
       "tensor(0.9990+0.j)"
      ]
     },
     "execution_count": 25,
     "metadata": {},
     "output_type": "execute_result"
    }
   ],
   "source": [
    "pauli('ZZI').expectation(shd)"
   ]
  },
  {
   "cell_type": "markdown",
   "id": "aa3d377d-323c-4be0-a58b-706a7f67950d",
   "metadata": {},
   "source": [
    "### ClassicalShadowTransformer"
   ]
  },
  {
   "cell_type": "markdown",
   "id": "065ee90a-0b25-4898-a0e1-0a661e5709a9",
   "metadata": {
    "jp-MarkdownHeadingCollapsed": true,
    "tags": []
   },
   "source": [
    "#### Test 1: Sampling"
   ]
  },
  {
   "cell_type": "markdown",
   "id": "dfd732b7-025f-4290-a9cc-f3629719e9a0",
   "metadata": {},
   "source": [
    "**Goal**: test sampling and state reconstruction"
   ]
  },
  {
   "cell_type": "code",
   "execution_count": 26,
   "id": "aa86f48a-5498-43c4-a459-6b5695e2bd69",
   "metadata": {},
   "outputs": [
    {
     "data": {
      "text/plain": [
       "| +Z -X |\n",
       "| +X -Y |\n",
       "| -X +X |\n",
       "| +Y +Y |\n",
       "| +Z -X |\n",
       "| +Z -X |"
      ]
     },
     "execution_count": 26,
     "metadata": {},
     "output_type": "execute_result"
    }
   ],
   "source": [
    "cst = ClassicalShadowTransformer(2,0)\n",
    "cst.sample(6)"
   ]
  },
  {
   "cell_type": "markdown",
   "id": "fdecda7f-6c35-4696-bf49-b56ef20f2c1f",
   "metadata": {},
   "source": [
    "Reconstruct density operator (matrix)."
   ]
  },
  {
   "cell_type": "code",
   "execution_count": 27,
   "id": "569c3ba8-d99d-47c2-b75a-371a6c14402b",
   "metadata": {},
   "outputs": [
    {
     "data": {
      "text/plain": [
       "II -0.12 IX -0.03 IY -0.00 IZ + 0.58 XI -0.15 XX -0.11 XY -0.05 XZ + 0.66 YI -0.05 YX -0.02 YY + 0.01 YZ + 0.62 ZI -0.09 ZX -0.05 ZY -0.03 ZZ (grad_fn=<class 'SqueezeBackward4'>)"
      ]
     },
     "execution_count": 27,
     "metadata": {},
     "output_type": "execute_result"
    }
   ],
   "source": [
    "rho = cst.rho()\n",
    "rho"
   ]
  },
  {
   "cell_type": "code",
   "execution_count": 28,
   "id": "60a71544-95a1-4f43-a8c0-9e053860e055",
   "metadata": {},
   "outputs": [
    {
     "ename": "RuntimeError",
     "evalue": "Can't call numpy() on Tensor that requires grad. Use tensor.detach().numpy() instead.",
     "output_type": "error",
     "traceback": [
      "\u001b[1;31m---------------------------------------------------------------------------\u001b[0m",
      "\u001b[1;31mRuntimeError\u001b[0m                              Traceback (most recent call last)",
      "\u001b[1;32mc:\\Users\\Kiki\\Documents\\GitHub\\Emergent-Classicality\\data_collect.ipynb Cell 59\u001b[0m line \u001b[0;36m1\n\u001b[1;32m----> <a href='vscode-notebook-cell:/c%3A/Users/Kiki/Documents/GitHub/Emergent-Classicality/data_collect.ipynb#Y112sZmlsZQ%3D%3D?line=0'>1</a>\u001b[0m rhomat \u001b[39m=\u001b[39m rho\u001b[39m.\u001b[39;49mmatrix_form(\u001b[39m2\u001b[39;49m) \u001b[39m/\u001b[39m \u001b[39m2\u001b[39m\u001b[39m*\u001b[39m\u001b[39m*\u001b[39m\u001b[39m2\u001b[39m\n\u001b[0;32m      <a href='vscode-notebook-cell:/c%3A/Users/Kiki/Documents/GitHub/Emergent-Classicality/data_collect.ipynb#Y112sZmlsZQ%3D%3D?line=1'>2</a>\u001b[0m rhomat\n",
      "File \u001b[1;32mc:\\Users\\Kiki\\Documents\\GitHub\\Emergent-Classicality\\CST.py:567\u001b[0m, in \u001b[0;36mOperator.matrix_form\u001b[1;34m(self, n_qubit)\u001b[0m\n\u001b[0;32m    565\u001b[0m         \u001b[39melse\u001b[39;00m:\n\u001b[0;32m    566\u001b[0m             tensor \u001b[39m=\u001b[39m numpy\u001b[39m.\u001b[39mkron(tensor, mat)\n\u001b[1;32m--> 567\u001b[0m     pdm \u001b[39m=\u001b[39m pdm \u001b[39m+\u001b[39m c\u001b[39m.\u001b[39;49mnumpy() \u001b[39m*\u001b[39m tensor\n\u001b[0;32m    570\u001b[0m \u001b[39mreturn\u001b[39;00m pdm\n",
      "\u001b[1;31mRuntimeError\u001b[0m: Can't call numpy() on Tensor that requires grad. Use tensor.detach().numpy() instead."
     ]
    }
   ],
   "source": [
    "rhomat = rho.matrix_form(2) / 2**2\n",
    "rhomat"
   ]
  },
  {
   "cell_type": "code",
   "execution_count": null,
   "id": "fc1bc9db-d181-43ee-a261-53874893ca49",
   "metadata": {},
   "outputs": [
    {
     "data": {
      "text/plain": [
       "tensor([-0.1150,  0.0085,  0.3709,  0.7356], grad_fn=<LinalgEighBackward0>)"
      ]
     },
     "execution_count": 112,
     "metadata": {},
     "output_type": "execute_result"
    }
   ],
   "source": [
    "torch.linalg.eigvalsh(rhomat)"
   ]
  },
  {
   "cell_type": "markdown",
   "id": "a7b357f8-2319-4091-ae7c-cf4c8b706f95",
   "metadata": {
    "jp-MarkdownHeadingCollapsed": true,
    "tags": []
   },
   "source": [
    "#### Test 2: Evaluation"
   ]
  },
  {
   "cell_type": "markdown",
   "id": "4c9334dd-037b-42ea-8ced-9c9848840051",
   "metadata": {},
   "source": [
    "**Goal**: test logprob and loss function evaluation."
   ]
  },
  {
   "cell_type": "code",
   "execution_count": null,
   "id": "95ddf777-1a86-4237-9eed-6865aefab7c9",
   "metadata": {},
   "outputs": [],
   "source": [
    "cst = ClassicalShadowTransformer(2,0)\n",
    "cst.eval()\n",
    "shd = ghz_shadow(2,10)"
   ]
  },
  {
   "cell_type": "code",
   "execution_count": null,
   "id": "d5f095f1-32d2-44ef-bb9d-cdf0d681fb4b",
   "metadata": {},
   "outputs": [
    {
     "data": {
      "text/plain": [
       "tensor([-1.7702, -1.0585, -1.7702, -1.6669, -1.0810, -1.8320, -1.1911, -1.6669,\n",
       "        -1.2102, -1.7125], grad_fn=<SumBackward1>)"
      ]
     },
     "execution_count": 114,
     "metadata": {},
     "output_type": "execute_result"
    }
   ],
   "source": [
    "cst.logprob(shd)"
   ]
  },
  {
   "cell_type": "code",
   "execution_count": null,
   "id": "8a05ccc6-c03f-42ee-bf96-baec1e7500e4",
   "metadata": {},
   "outputs": [
    {
     "data": {
      "text/plain": [
       "(tensor(2.5820, grad_fn=<MeanBackward0>),\n",
       " tensor(-1.5054, grad_fn=<MeanBackward0>),\n",
       " tensor(1.0766, grad_fn=<MeanBackward0>))"
      ]
     },
     "execution_count": 115,
     "metadata": {},
     "output_type": "execute_result"
    }
   ],
   "source": [
    "cst.loss(shd)"
   ]
  },
  {
   "cell_type": "markdown",
   "id": "918c601b-e750-46c7-8f34-442de3e66038",
   "metadata": {},
   "source": [
    "## Training"
   ]
  },
  {
   "cell_type": "markdown",
   "id": "d4eafdd5-3704-483b-a795-8747e56cbbfe",
   "metadata": {},
   "source": [
    "### Batch Training"
   ]
  },
  {
   "cell_type": "markdown",
   "id": "68833c5a-e501-4340-ad70-0d0ac3c19c90",
   "metadata": {},
   "source": [
    "Scaning over parameter space and train a collection of models of different number of qubits and hyperparameter $\\beta$. `max_steps` - maximal optimization step, `nsr` - the noise signal ratio threshold for the loss function flucturation (optimization stop when the noise signal ratio is larger than this threshold), `window` - the window size used to estimate noise signal ratio (larger window size stricter convergence criterion), `n_sample` - number of classical shadow samples used in each iteration, `lr` -  learning rate."
   ]
  },
  {
   "cell_type": "code",
   "execution_count": 29,
   "id": "0c50fc51-1db3-42d0-92eb-39c98b1ba824",
   "metadata": {
    "tags": []
   },
   "outputs": [
    {
     "name": "stdout",
     "output_type": "stream",
     "text": [
      "./model/CST_d64_h16_l1/GHZ_N6_b5\n"
     ]
    },
    {
     "name": "stderr",
     "output_type": "stream",
     "text": [
      " 33%|███▎      | 10000/30000 [01:45<03:30, 95.18it/s]\n"
     ]
    },
    {
     "name": "stdout",
     "output_type": "stream",
     "text": [
      "./model/CST_d64_h16_l1/GHZ_N6_b6\n"
     ]
    },
    {
     "name": "stderr",
     "output_type": "stream",
     "text": [
      " 33%|███▎      | 10000/30000 [01:44<03:29, 95.62it/s]\n"
     ]
    }
   ],
   "source": [
    "for n_qubit in range(6,7):\n",
    "    for logbeta in range(5,7):\n",
    "        cst = ClassicalShadowTransformer(n_qubit, logbeta).to(device).load()\n",
    "        cst.optimize(10000, max_steps=30000, nsr=32, window=400, n_sample=200, lr=0.0001, seed=42)"
   ]
  },
  {
   "cell_type": "markdown",
   "id": "f2c50c7f-21f6-468c-8a19-b2d0403439da",
   "metadata": {},
   "source": [
    "Inspect loss history to determine convergence."
   ]
  },
  {
   "cell_type": "code",
   "execution_count": 30,
   "id": "4e6f36ff-4b15-4314-9d2b-a95b5ef97a59",
   "metadata": {},
   "outputs": [
    {
     "data": {
      "text/plain": [
       "[<matplotlib.lines.Line2D at 0x24c32e66eb0>]"
      ]
     },
     "execution_count": 30,
     "metadata": {},
     "output_type": "execute_result"
    },
    {
     "data": {
      "image/png": "[encoded data removed]",
      "text/plain": [
       "<Figure size 640x480 with 1 Axes>"
      ]
     },
     "metadata": {},
     "output_type": "display_data"
    }
   ],
   "source": [
    "cst = ClassicalShadowTransformer(5,-6).load()\n",
    "#print(cst.transformer.repara.logvar)\n",
    "plt.plot(cst.loss_history)"
   ]
  },
  {
   "cell_type": "markdown",
   "id": "26302402-5c12-487a-b50b-9e28f016dc0b",
   "metadata": {
    "jp-MarkdownHeadingCollapsed": true,
    "tags": []
   },
   "source": [
    "### Fine Tuning"
   ]
  },
  {
   "cell_type": "markdown",
   "id": "341f4426-d36f-40fb-b97e-c7159f33d432",
   "metadata": {},
   "source": [
    "If necessary, a model can be loaded for fine tuning with smaller training rate to ensure convergence."
   ]
  },
  {
   "cell_type": "code",
   "execution_count": null,
   "id": "944ad39a-2502-48fb-8a21-60bcae7eb23e",
   "metadata": {},
   "outputs": [],
   "source": [
    "cst = ClassicalShadowTransformer(5, -6).load()"
   ]
  },
  {
   "cell_type": "code",
   "execution_count": null,
   "id": "7e850afd-c559-45b6-8b5c-5aae269a082f",
   "metadata": {},
   "outputs": [
    {
     "name": "stdout",
     "output_type": "stream",
     "text": [
      "./model/CST_d64_h16_l1/GHZ_N5_b-6\n",
      "531:  2.87878 -2.87629  0.15949 -0.35431\n"
     ]
    },
    {
     "ename": "KeyboardInterrupt",
     "evalue": "",
     "output_type": "error",
     "traceback": [
      "\u001b[1;31m---------------------------------------------------------------------------\u001b[0m",
      "\u001b[1;31mKeyboardInterrupt\u001b[0m                         Traceback (most recent call last)",
      "Cell \u001b[1;32mIn[71], line 1\u001b[0m\n\u001b[1;32m----> 1\u001b[0m cst\u001b[39m.\u001b[39;49moptimize(\u001b[39m1000\u001b[39;49m, max_steps\u001b[39m=\u001b[39;49m\u001b[39m10000\u001b[39;49m, nsr\u001b[39m=\u001b[39;49m\u001b[39m32\u001b[39;49m, window\u001b[39m=\u001b[39;49m\u001b[39m1000\u001b[39;49m, n_sample\u001b[39m=\u001b[39;49m\u001b[39m1000\u001b[39;49m, lr\u001b[39m=\u001b[39;49m\u001b[39m0.00001\u001b[39;49m)\n",
      "File \u001b[1;32m~\\Documents\\GitHub\\Emergent-Classicality\\CST.py:851\u001b[0m, in \u001b[0;36mClassicalShadowTransformer.optimize\u001b[1;34m(self, steps, max_steps, n_sample, lr, autosave, **kwargs)\u001b[0m\n\u001b[0;32m    849\u001b[0m     \u001b[39mbreak\u001b[39;00m\n\u001b[0;32m    850\u001b[0m \u001b[39mself\u001b[39m\u001b[39m.\u001b[39moptimizer\u001b[39m.\u001b[39mzero_grad()\n\u001b[1;32m--> 851\u001b[0m shadow \u001b[39m=\u001b[39m \u001b[39mself\u001b[39;49m\u001b[39m.\u001b[39;49mshadow(n_sample)\u001b[39m.\u001b[39mto(\u001b[39mself\u001b[39m\u001b[39m.\u001b[39mdevice)\n\u001b[0;32m    852\u001b[0m loss, logprob, kld \u001b[39m=\u001b[39m \u001b[39mself\u001b[39m\u001b[39m.\u001b[39mloss(shadow)\n\u001b[0;32m    853\u001b[0m loss\u001b[39m.\u001b[39mbackward()\n",
      "File \u001b[1;32m~\\Documents\\GitHub\\Emergent-Classicality\\CST.py:780\u001b[0m, in \u001b[0;36mClassicalShadowTransformer.shadow\u001b[1;34m(self, n_sample)\u001b[0m\n\u001b[0;32m    778\u001b[0m out \u001b[39m=\u001b[39m []\n\u001b[0;32m    779\u001b[0m \u001b[39mfor\u001b[39;00m _ \u001b[39min\u001b[39;00m \u001b[39mrange\u001b[39m(n_sample):\n\u001b[1;32m--> 780\u001b[0m     sigma \u001b[39m=\u001b[39m qst\u001b[39m.\u001b[39;49mrandom_pauli_state(\u001b[39mself\u001b[39;49m\u001b[39m.\u001b[39;49mn_qubit)\n\u001b[0;32m    781\u001b[0m     bit \u001b[39m=\u001b[39m rho\u001b[39m.\u001b[39mcopy()\u001b[39m.\u001b[39mmeasure(sigma)[\u001b[39m0\u001b[39m]\n\u001b[0;32m    782\u001b[0m     tok \u001b[39m=\u001b[39m sigma\u001b[39m.\u001b[39mtokenize()\n",
      "File \u001b[1;32m~\\Documents\\GitHub\\Emergent-Classicality\\qst\\stabilizer.py:266\u001b[0m, in \u001b[0;36mrandom_pauli_state\u001b[1;34m(N, r)\u001b[0m\n\u001b[0;32m    265\u001b[0m \u001b[39mdef\u001b[39;00m \u001b[39mrandom_pauli_state\u001b[39m(N, r\u001b[39m=\u001b[39m\u001b[39mNone\u001b[39;00m):\n\u001b[1;32m--> 266\u001b[0m     \u001b[39mreturn\u001b[39;00m random_pauli_map(N)\u001b[39m.\u001b[39mto_state(r)\n",
      "File \u001b[1;32m~\\Documents\\GitHub\\Emergent-Classicality\\qst\\stabilizer.py:217\u001b[0m, in \u001b[0;36mrandom_pauli_map\u001b[1;34m(N)\u001b[0m\n\u001b[0;32m    215\u001b[0m \u001b[39mdef\u001b[39;00m \u001b[39mrandom_pauli_map\u001b[39m(N):\n\u001b[0;32m    216\u001b[0m \u001b[39m    \u001b[39m\u001b[39m'''construct random Pauli map of N qubits.'''\u001b[39;00m\n\u001b[1;32m--> 217\u001b[0m     gs \u001b[39m=\u001b[39m random_pauli(N) \u001b[39m# shape (2*N, 2*N), mapping matrix\u001b[39;00m\n\u001b[0;32m    218\u001b[0m     ps \u001b[39m=\u001b[39m \u001b[39m2\u001b[39m \u001b[39m*\u001b[39m numpy\u001b[39m.\u001b[39mrandom\u001b[39m.\u001b[39mrandint(\u001b[39m0\u001b[39m,\u001b[39m2\u001b[39m,\u001b[39m2\u001b[39m\u001b[39m*\u001b[39mN) \u001b[39m# shape (2*N), phase indicator\u001b[39;00m\n\u001b[0;32m    219\u001b[0m     \u001b[39mreturn\u001b[39;00m CliffordMap(gs, ps)\n",
      "File \u001b[1;32m~\\Documents\\GitHub\\Emergent-Classicality\\qst\\utils.py:418\u001b[0m, in \u001b[0;36mrandom_pauli\u001b[1;34m(N)\u001b[0m\n\u001b[0;32m    416\u001b[0m gs \u001b[39m=\u001b[39m numpy\u001b[39m.\u001b[39mzeros((\u001b[39m2\u001b[39m\u001b[39m*\u001b[39mN,\u001b[39m2\u001b[39m\u001b[39m*\u001b[39mN), dtype\u001b[39m=\u001b[39mnumpy\u001b[39m.\u001b[39mint_)\n\u001b[0;32m    417\u001b[0m \u001b[39mfor\u001b[39;00m i \u001b[39min\u001b[39;00m \u001b[39mrange\u001b[39m(N):\n\u001b[1;32m--> 418\u001b[0m     g1, g2 \u001b[39m=\u001b[39m random_pair(\u001b[39m1\u001b[39;49m)\n\u001b[0;32m    419\u001b[0m     gs[\u001b[39m2\u001b[39m\u001b[39m*\u001b[39mi  ,\u001b[39m2\u001b[39m\u001b[39m*\u001b[39mi:\u001b[39m2\u001b[39m\u001b[39m*\u001b[39mi\u001b[39m+\u001b[39m\u001b[39m2\u001b[39m] \u001b[39m=\u001b[39m g1\n\u001b[0;32m    420\u001b[0m     gs[\u001b[39m2\u001b[39m\u001b[39m*\u001b[39mi\u001b[39m+\u001b[39m\u001b[39m1\u001b[39m,\u001b[39m2\u001b[39m\u001b[39m*\u001b[39mi:\u001b[39m2\u001b[39m\u001b[39m*\u001b[39mi\u001b[39m+\u001b[39m\u001b[39m2\u001b[39m] \u001b[39m=\u001b[39m g2\n",
      "File \u001b[1;32m~\\Documents\\GitHub\\Emergent-Classicality\\qst\\utils.py:397\u001b[0m, in \u001b[0;36mrandom_pair\u001b[1;34m(N)\u001b[0m\n\u001b[0;32m    387\u001b[0m \u001b[39m\u001b[39m\u001b[39m'''Sample an anticommuting pair of random stabilizer and destabilizer.\u001b[39;00m\n\u001b[0;32m    388\u001b[0m \n\u001b[0;32m    389\u001b[0m \u001b[39mParameters:\u001b[39;00m\n\u001b[1;32m   (...)\u001b[0m\n\u001b[0;32m    394\u001b[0m \u001b[39mg2: int (2*N) - binary representation of destabilizer.\u001b[39;00m\n\u001b[0;32m    395\u001b[0m \u001b[39m'''\u001b[39;00m\n\u001b[0;32m    396\u001b[0m g1 \u001b[39m=\u001b[39m numpy\u001b[39m.\u001b[39mrandom\u001b[39m.\u001b[39mrandint(\u001b[39m0\u001b[39m,\u001b[39m2\u001b[39m,\u001b[39m2\u001b[39m\u001b[39m*\u001b[39mN)\n\u001b[1;32m--> 397\u001b[0m g2 \u001b[39m=\u001b[39m numpy\u001b[39m.\u001b[39;49mrandom\u001b[39m.\u001b[39;49mrandint(\u001b[39m0\u001b[39;49m,\u001b[39m2\u001b[39;49m,\u001b[39m2\u001b[39;49m\u001b[39m*\u001b[39;49mN)\n\u001b[0;32m    398\u001b[0m \u001b[39mwhile\u001b[39;00m (g1 \u001b[39m==\u001b[39m \u001b[39m0\u001b[39m)\u001b[39m.\u001b[39mall(): \u001b[39m# resample g1 if it is all zero\u001b[39;00m\n\u001b[0;32m    399\u001b[0m     g1 \u001b[39m=\u001b[39m numpy\u001b[39m.\u001b[39mrandom\u001b[39m.\u001b[39mrandint(\u001b[39m0\u001b[39m,\u001b[39m2\u001b[39m,\u001b[39m2\u001b[39m\u001b[39m*\u001b[39mN)\n",
      "\u001b[1;31mKeyboardInterrupt\u001b[0m: "
     ]
    }
   ],
   "source": [
    "cst.optimize(1000, max_steps=10000, nsr=32, window=1000, n_sample=1000, lr=0.00001)"
   ]
  },
  {
   "cell_type": "markdown",
   "id": "fe082190-6c80-4291-9cd5-2ab3cd4e7e17",
   "metadata": {},
   "source": [
    "## Evaluation"
   ]
  },
  {
   "cell_type": "markdown",
   "id": "76c50cd5-278e-4e2d-8dc7-1232373d5e94",
   "metadata": {
    "jp-MarkdownHeadingCollapsed": true,
    "tags": []
   },
   "source": [
    "### Loss Function History"
   ]
  },
  {
   "cell_type": "code",
   "execution_count": 35,
   "id": "1e59c304-8d80-404b-9a5d-eb5373661613",
   "metadata": {},
   "outputs": [
    {
     "data": {
      "image/png": "[encoded data removed]",
      "text/plain": [
       "<Figure size 640x480 with 1 Axes>"
      ]
     },
     "metadata": {},
     "output_type": "display_data"
    }
   ],
   "source": [
    "for logbeta in range(-6,7):\n",
    "    cst = ClassicalShadowTransformer(7,logbeta).load()\n",
    "    plt.plot(cst.loss_history)\n",
    "    plt.yscale('log')\n",
    "    \n"
   ]
  },
  {
   "cell_type": "markdown",
   "id": "91772a8c-cb30-4857-ac85-ea80db1c38ba",
   "metadata": {},
   "source": [
    "### Fidelity and Entropy Map"
   ]
  },
  {
   "cell_type": "markdown",
   "id": "6b7ab237-8755-408e-8ee7-95ec4b34812f",
   "metadata": {},
   "source": [
    "Compute fidelity and entropy (in unit of bit) of the reconstructed density matrix."
   ]
  },
  {
   "cell_type": "code",
   "execution_count": 38,
   "id": "2ed2f1f2-7f96-4290-b0c9-19ed8d065f06",
   "metadata": {},
   "outputs": [],
   "source": [
    "\n",
    "import gc\n",
    "gc.collect()\n",
    "data = []"
   ]
  },
  {
   "cell_type": "code",
   "execution_count": 39,
   "id": "fbaadfeb",
   "metadata": {},
   "outputs": [
    {
     "name": "stderr",
     "output_type": "stream",
     "text": [
      "100%|██████████| 13/13 [03:24<00:00, 15.70s/it]"
     ]
    },
    {
     "name": "stdout",
     "output_type": "stream",
     "text": [
      "./model/CST_d64_h16_l1/GHZ_N6_b6\n",
      "F = 0.046308394437801326, S = 5.149879428136716\n"
     ]
    },
    {
     "name": "stderr",
     "output_type": "stream",
     "text": [
      "\n"
     ]
    },
    {
     "data": {
      "text/plain": [
       "[[1, -6, 0.9999611079692841, -8.740147163627765e-05],\n",
       " [1, -5, 0.9999701976776123, -6.761229188749328e-05],\n",
       " [1, -4, 0.9999535083770752, -5.098903469466436e-05],\n",
       " [1, -3, 0.9999237954616547, -7.758078621443888e-05],\n",
       " [1, -2, 0.999833732843399, 0.000992598157835814],\n",
       " [1, -1, 0.9998943507671356, 0.00033788567989863024],\n",
       " [1, 0, 0.999840646982193, 0.0006358839002583679],\n",
       " [1, 1, 0.9998319149017334, 0.0014512450564470657],\n",
       " [1, 2, 0.9997420608997345, 0.0032612744964470065],\n",
       " [1, 3, 0.9976140856742859, 0.023566572931327585],\n",
       " [1, 4, 0.6669470071792603, 0.7431900446059414],\n",
       " [1, 5, 0.6662160754203796, 0.7454913670078737],\n",
       " [1, 6, 0.6652795523405075, 0.7486829458417945],\n",
       " [2, -6, 0.999695748090744, 0.06401194022043513],\n",
       " [2, -5, 0.9998426586389542, 0.03914306077585899],\n",
       " [2, -4, 0.9997840374708176, 0.0668632575975332],\n",
       " [2, -3, 0.9997417330741882, 0.04316181090222406],\n",
       " [2, -2, 0.9997195452451706, 0.04103686821707506],\n",
       " [2, -1, 0.9998792856931686, 0.05270804122181405],\n",
       " [2, 0, 0.9996458739042282, 0.03645697247580718],\n",
       " [2, 1, 0.9997415840625763, 0.06806133841993578],\n",
       " [2, 2, 0.9995612800121307, 0.08458900741521024],\n",
       " [2, 3, 0.9979963600635529, 0.08088101411590391],\n",
       " [2, 4, 0.9540323466062546, 0.34674421756659185],\n",
       " [2, 5, 0.27853331156075, 1.9135928437346519],\n",
       " [2, 6, 0.27866158448159695, 1.9123733299331178],\n",
       " [3, -6, 0.9997976943850517, 0.21886377354150974],\n",
       " [3, -5, 0.9998204335570335, 0.18467759534699105],\n",
       " [3, -4, 0.9998960122466087, 0.22052055770808002],\n",
       " [3, -3, 0.9996214434504509, 0.21534642232135692],\n",
       " [3, -2, 0.9997494518756866, 0.22753928456783556],\n",
       " [3, -1, 0.9998860284686089, 0.226075808459166],\n",
       " [3, 0, 0.9998289719223976, 0.2409668030002134],\n",
       " [3, 1, 0.999643437564373, 0.17471404836404697],\n",
       " [3, 2, 0.9996438696980476, 0.20512579544358361],\n",
       " [3, 3, 0.3574809171259403, 2.1868673161341974],\n",
       " [3, 4, 0.18098347913473845, 2.7101927303483793],\n",
       " [3, 5, 0.18125613499432802, 2.709274550446536],\n",
       " [3, 6, 0.18014526646584272, 2.71956526578808],\n",
       " [4, -6, 0.9999526776373386, 0.46227889632026997],\n",
       " [4, -5, 0.9999076649546623, 0.46464959608330964],\n",
       " [4, -4, 0.9998512379825115, 0.4334514764049073],\n",
       " [4, -3, 0.9999135583639145, 0.2708434134526298],\n",
       " [4, -2, 0.9999146349728107, 0.24382993054441754],\n",
       " [4, -1, 0.9969612658023834, 0.45027989301982313],\n",
       " [4, 0, 0.8724800146592315, 1.8053908102676965],\n",
       " [4, 1, 0.8497767247899901, 2.215942438206236],\n",
       " [4, 2, 0.8740122055169195, 1.8024511442228284],\n",
       " [4, 3, 0.49072145065292716, 2.212082059964935],\n",
       " [4, 4, 0.11222724011167884, 3.3131050592436746],\n",
       " [4, 5, 0.11301555996760726, 3.2955174492651906],\n",
       " [4, 6, 0.11215187096968293, 3.3117316261799132],\n",
       " [5, -6, 0.9999954421073198, 0.8686527701526237],\n",
       " [5, -5, 0.9999843705445528, 0.598797939472385],\n",
       " [5, -4, 0.5051641359459609, 1.9759739971649855],\n",
       " [5, -3, 0.5008560991554987, 1.6745580387510497],\n",
       " [5, -2, 0.5012143140484113, 1.6824240434493],\n",
       " [5, -1, 0.500649361682008, 1.4232897070265356],\n",
       " [5, 0, 0.5012863679294242, 1.4728783957877698],\n",
       " [5, 1, 0.5022520285565406, 1.7216232780093732],\n",
       " [5, 2, 0.500604455039138, 1.4871030287563527],\n",
       " [5, 3, 0.49928205215837806, 1.524736190675387],\n",
       " [5, 4, 0.40558975396561436, 3.1488769084667614],\n",
       " [5, 5, 0.11428966076346114, 4.164575828337798],\n",
       " [5, 6, 0.06612087285611778, 4.367141353374193],\n",
       " [6, -6, 0.49999893540029916, 1.348946877535841],\n",
       " [6, -5, 0.4999954108456848, 1.658209107162901],\n",
       " [6, -4, 0.4999803589074645, 1.4295017830591905],\n",
       " [6, -3, 0.49996621871787283, 1.3669960690841743],\n",
       " [6, -2, 0.4999783970408771, 1.439430355746958],\n",
       " [6, -1, 0.4999764083753462, 1.4964642985291403],\n",
       " [6, 0, 0.499976794175069, 1.3171469213271743],\n",
       " [6, 1, 0.4999652598177988, 1.8503030281369985],\n",
       " [6, 2, 0.4999352185445787, 1.7813853816279217],\n",
       " [6, 3, 0.4995992221265624, 1.745295501128727],\n",
       " [6, 4, 0.27371983478678885, 4.874554757209096],\n",
       " [6, 5, 0.046300564497869345, 5.0532681171223235],\n",
       " [6, 6, 0.046308394437801326, 5.149879428136716]]"
      ]
     },
     "execution_count": 39,
     "metadata": {},
     "output_type": "execute_result"
    }
   ],
   "source": [
    "import numpy as np\n",
    "for n_qubit in range(1, 7):\n",
    "    for logbeta in tqdm(range(-6, 7)):\n",
    "        cst = ClassicalShadowTransformer(n_qubit, logbeta).load().eval()\n",
    "        with torch.no_grad():\n",
    "            rho = cst.rho().matrix_form(n_qubit)/2**cst.n_qubit # reconstruction\n",
    "        # compute fidelity\n",
    "        fid = (rho[0,0] + rho[-1,-1] + rho[0,-1] + rho[-1,0])/2\n",
    "        fid = fid.real.item()\n",
    "        vals = np.linalg.eigvalsh(rho)\n",
    "        vals = vals[vals > 0.]\n",
    "        ent = -np.log2(vals).dot(vals).item()\n",
    "        clear_output(wait=True)\n",
    "        print(cst.path + '/' + cst.file)\n",
    "        print(f'F = {fid}, S = {ent}')\n",
    "        data.append([n_qubit, logbeta, fid, ent])\n",
    "        gc.collect()\n",
    "\n",
    "data"
   ]
  },
  {
   "cell_type": "code",
   "execution_count": 41,
   "id": "ea2bea56",
   "metadata": {},
   "outputs": [
    {
     "data": {
      "image/png": "[encoded data removed]",
      "text/plain": [
       "<Figure size 640x480 with 2 Axes>"
      ]
     },
     "metadata": {},
     "output_type": "display_data"
    },
    {
     "data": {
      "text/plain": [
       "[[1, -6, 0.9999611079692841, -8.740147163627765e-05],\n",
       " [1, -5, 0.9999701976776123, -6.761229188749328e-05],\n",
       " [1, -4, 0.9999535083770752, -5.098903469466436e-05],\n",
       " [1, -3, 0.9999237954616547, -7.758078621443888e-05],\n",
       " [1, -2, 0.999833732843399, 0.000992598157835814],\n",
       " [1, -1, 0.9998943507671356, 0.00033788567989863024],\n",
       " [1, 0, 0.999840646982193, 0.0006358839002583679],\n",
       " [1, 1, 0.9998319149017334, 0.0014512450564470657],\n",
       " [1, 2, 0.9997420608997345, 0.0032612744964470065],\n",
       " [1, 3, 0.9976140856742859, 0.023566572931327585],\n",
       " [1, 4, 0.6669470071792603, 0.7431900446059414],\n",
       " [1, 5, 0.6662160754203796, 0.7454913670078737],\n",
       " [1, 6, 0.6652795523405075, 0.7486829458417945],\n",
       " [2, -6, 0.999695748090744, 0.06401194022043513],\n",
       " [2, -5, 0.9998426586389542, 0.03914306077585899],\n",
       " [2, -4, 0.9997840374708176, 0.0668632575975332],\n",
       " [2, -3, 0.9997417330741882, 0.04316181090222406],\n",
       " [2, -2, 0.9997195452451706, 0.04103686821707506],\n",
       " [2, -1, 0.9998792856931686, 0.05270804122181405],\n",
       " [2, 0, 0.9996458739042282, 0.03645697247580718],\n",
       " [2, 1, 0.9997415840625763, 0.06806133841993578],\n",
       " [2, 2, 0.9995612800121307, 0.08458900741521024],\n",
       " [2, 3, 0.9979963600635529, 0.08088101411590391],\n",
       " [2, 4, 0.9540323466062546, 0.34674421756659185],\n",
       " [2, 5, 0.27853331156075, 1.9135928437346519],\n",
       " [2, 6, 0.27866158448159695, 1.9123733299331178],\n",
       " [3, -6, 0.9997976943850517, 0.21886377354150974],\n",
       " [3, -5, 0.9998204335570335, 0.18467759534699105],\n",
       " [3, -4, 0.9998960122466087, 0.22052055770808002],\n",
       " [3, -3, 0.9996214434504509, 0.21534642232135692],\n",
       " [3, -2, 0.9997494518756866, 0.22753928456783556],\n",
       " [3, -1, 0.9998860284686089, 0.226075808459166],\n",
       " [3, 0, 0.9998289719223976, 0.2409668030002134],\n",
       " [3, 1, 0.999643437564373, 0.17471404836404697],\n",
       " [3, 2, 0.9996438696980476, 0.20512579544358361],\n",
       " [3, 3, 0.3574809171259403, 2.1868673161341974],\n",
       " [3, 4, 0.18098347913473845, 2.7101927303483793],\n",
       " [3, 5, 0.18125613499432802, 2.709274550446536],\n",
       " [3, 6, 0.18014526646584272, 2.71956526578808],\n",
       " [4, -6, 0.9999526776373386, 0.46227889632026997],\n",
       " [4, -5, 0.9999076649546623, 0.46464959608330964],\n",
       " [4, -4, 0.9998512379825115, 0.4334514764049073],\n",
       " [4, -3, 0.9999135583639145, 0.2708434134526298],\n",
       " [4, -2, 0.9999146349728107, 0.24382993054441754],\n",
       " [4, -1, 0.9969612658023834, 0.45027989301982313],\n",
       " [4, 0, 0.8724800146592315, 1.8053908102676965],\n",
       " [4, 1, 0.8497767247899901, 2.215942438206236],\n",
       " [4, 2, 0.8740122055169195, 1.8024511442228284],\n",
       " [4, 3, 0.49072145065292716, 2.212082059964935],\n",
       " [4, 4, 0.11222724011167884, 3.3131050592436746],\n",
       " [4, 5, 0.11301555996760726, 3.2955174492651906],\n",
       " [4, 6, 0.11215187096968293, 3.3117316261799132],\n",
       " [5, -6, 0.9999954421073198, 0.8686527701526237],\n",
       " [5, -5, 0.9999843705445528, 0.598797939472385],\n",
       " [5, -4, 0.5051641359459609, 1.9759739971649855],\n",
       " [5, -3, 0.5008560991554987, 1.6745580387510497],\n",
       " [5, -2, 0.5012143140484113, 1.6824240434493],\n",
       " [5, -1, 0.500649361682008, 1.4232897070265356],\n",
       " [5, 0, 0.5012863679294242, 1.4728783957877698],\n",
       " [5, 1, 0.5022520285565406, 1.7216232780093732],\n",
       " [5, 2, 0.500604455039138, 1.4871030287563527],\n",
       " [5, 3, 0.49928205215837806, 1.524736190675387],\n",
       " [5, 4, 0.40558975396561436, 3.1488769084667614],\n",
       " [5, 5, 0.11428966076346114, 4.164575828337798],\n",
       " [5, 6, 0.06612087285611778, 4.367141353374193],\n",
       " [6, -6, 0.49999893540029916, 1.348946877535841],\n",
       " [6, -5, 0.4999954108456848, 1.658209107162901],\n",
       " [6, -4, 0.4999803589074645, 1.4295017830591905],\n",
       " [6, -3, 0.49996621871787283, 1.3669960690841743],\n",
       " [6, -2, 0.4999783970408771, 1.439430355746958],\n",
       " [6, -1, 0.4999764083753462, 1.4964642985291403],\n",
       " [6, 0, 0.499976794175069, 1.3171469213271743],\n",
       " [6, 1, 0.4999652598177988, 1.8503030281369985],\n",
       " [6, 2, 0.4999352185445787, 1.7813853816279217],\n",
       " [6, 3, 0.4995992221265624, 1.745295501128727],\n",
       " [6, 4, 0.27371983478678885, 4.874554757209096],\n",
       " [6, 5, 0.046300564497869345, 5.0532681171223235],\n",
       " [6, 6, 0.046308394437801326, 5.149879428136716]]"
      ]
     },
     "execution_count": 41,
     "metadata": {},
     "output_type": "execute_result"
    }
   ],
   "source": [
    "import numpy as np\n",
    "\n",
    "x, y, z, _ = np.array(data).T\n",
    "square_size = 1.0\n",
    "\n",
    "fig, ax = plt.subplots()\n",
    "\n",
    "for x, y, z in zip(y, x, z):\n",
    "    square = plt.Rectangle((x, y), square_size, square_size, color=plt.cm.viridis(z))\n",
    "    ax.add_patch(square)\n",
    "\n",
    "\n",
    "sc = plt.scatter([], [], c=[], cmap='viridis', s=100)\n",
    "plt.colorbar(sc, label='Fidelity')\n",
    "ax.set_ylabel('Number of Qubits')\n",
    "ax.set_xlabel('log2(beta)')\n",
    "plt.show()\n",
    "\n",
    "data"
   ]
  },
  {
   "cell_type": "code",
   "execution_count": 44,
   "id": "9ab13a93",
   "metadata": {},
   "outputs": [
    {
     "data": {
      "image/png": "[encoded data removed]",
      "text/plain": [
       "<Figure size 640x480 with 2 Axes>"
      ]
     },
     "metadata": {},
     "output_type": "display_data"
    }
   ],
   "source": [
    "import numpy as np\n",
    "\n",
    "x, y, _, z = np.array(data).T\n",
    "square_size = 1.0\n",
    "\n",
    "max_z = np.max(z)\n",
    "fig, ax = plt.subplots()\n",
    "\n",
    "for x, y, z in zip(y, x, z):\n",
    "    square = plt.Rectangle((x, y), square_size, square_size, color=plt.cm.viridis(z/max_z))\n",
    "    ax.add_patch(square)\n",
    "\n",
    "\n",
    "\n",
    "sc = plt.scatter([], [], c=[], cmap='viridis', s=100, vmin=0, vmax=max_z)\n",
    "plt.colorbar(sc, label='Entropy')\n",
    "ax.set_ylabel('Number of Qubits')\n",
    "ax.set_xlabel('log2(beta)')\n",
    "plt.show()"
   ]
  },
  {
   "cell_type": "code",
   "execution_count": null,
   "id": "d2f72b89",
   "metadata": {},
   "outputs": [],
   "source": [
    "\n",
    "fig, ax = plt.subplots()\n",
    "\n",
    "for x, y, z in zip(x, y, z):\n",
    "    square = plt.Rectangle((x - square_size / 2, y - square_size / 2), square_size, square_size, color=plt.cm.viridis(z))\n",
    "    ax.add_patch(square)\n",
    "\n",
    "\n",
    "sc = plt.scatter([], [], c=[], cmap='viridis', s=100)\n",
    "plt.colorbar(sc, label='Fidelity')\n",
    "ax.set_xlabel('Number of Qubits')\n",
    "ax.set_ylabel('log2(beta)')\n",
    "plt.show()"
   ]
  },
  {
   "cell_type": "code",
   "execution_count": null,
   "id": "a0367ddc-36d5-4508-bfb7-dfa695b2a726",
   "metadata": {},
   "outputs": [],
   "source": [
    "with open('./data/map.dat', 'wb') as f:\n",
    "    pickle.dump(data, f)"
   ]
  },
  {
   "cell_type": "markdown",
   "id": "8ed405a4-6f0b-42cd-b4ff-22caff3dfab9",
   "metadata": {},
   "source": [
    "Fidelity for 6 qubits (and beyond) can only be estimated by classical shadow tomography. First, prepare the GHZ state density matrix and convert it to Operator class."
   ]
  },
  {
   "cell_type": "code",
   "execution_count": null,
   "id": "68644b36-f216-4ced-85e5-66bed257cd1e",
   "metadata": {},
   "outputs": [],
   "source": [
    "rho = qst.ghz_state(6).density_matrix\n",
    "tok = rho.tokenize()\n",
    "paulis = tok[:,:-1]\n",
    "coeffs = (9.-2.*tok[:,-1]) * rho.cs\n",
    "rho = Operator(torch.tensor(paulis), torch.tensor(coeffs))"
   ]
  },
  {
   "cell_type": "markdown",
   "id": "bd5fe5ab-dc24-41a8-a98d-514cdea21511",
   "metadata": {},
   "source": [
    "Then evaluate the expectation value of the density matrix on the classical shadow ensemble."
   ]
  },
  {
   "cell_type": "code",
   "execution_count": null,
   "id": "e34594ec-fb41-424d-bc98-cd9fdc25027b",
   "metadata": {},
   "outputs": [
    {
     "name": "stdout",
     "output_type": "stream",
     "text": [
      "./model/CST_d128_h16_l2/GHZ_N6_b6\n",
      "F =  0.07216\n",
      "F =  0.06822\n",
      "F =  0.05655\n",
      "F =  0.07230\n",
      "F =  0.08284\n"
     ]
    }
   ],
   "source": [
    "#data = []\n",
    "for logbeta in range(2, 7):\n",
    "    cst = ClassicalShadowTransformer(6, logbeta, embed_dim=128, n_layers=2).load().eval();\n",
    "    clear_output(wait=True)\n",
    "    print(cst.path + '/' + cst.file)\n",
    "    fids = []\n",
    "    for _ in range(5):\n",
    "        shd = cst.sample(100000)\n",
    "        fid = rho.expectation(shd, batch_size=1000).real.item()\n",
    "        print(f'F = {fid:8.5f}')\n",
    "        fids.append(fid)\n",
    "    data.append([6, logbeta, fids])"
   ]
  },
  {
   "cell_type": "code",
   "execution_count": null,
   "id": "1426c031-8a55-480b-9fdf-fb80599ff417",
   "metadata": {},
   "outputs": [],
   "source": [
    "with open('./data/fid6_d128_l2.dat', 'wb') as f:\n",
    "    pickle.dump(data, f)"
   ]
  },
  {
   "cell_type": "markdown",
   "id": "7dd3ac36-744b-4dcf-86d0-558ee85b005e",
   "metadata": {},
   "source": [
    "### Atlas Boreas Cygnus"
   ]
  },
  {
   "cell_type": "markdown",
   "id": "da28ee3a-b4d9-48fa-b126-0683b412af58",
   "metadata": {},
   "source": [
    "Take three representative models."
   ]
  },
  {
   "cell_type": "code",
   "execution_count": null,
   "id": "a6b8d590-e27b-42e2-96af-9b7cc0926288",
   "metadata": {},
   "outputs": [],
   "source": [
    "mdls = {\n",
    "    'atlas': ClassicalShadowTransformer(5, -5).load().eval(),\n",
    "    'boreas': ClassicalShadowTransformer(5, -1).load().eval(),\n",
    "    'cygnus': ClassicalShadowTransformer(5, 6).load().eval()}"
   ]
  },
  {
   "cell_type": "markdown",
   "id": "5a962a6f-221e-492b-a883-66d9854414d2",
   "metadata": {},
   "source": [
    "Chat with the model. Dictionary:\n",
    "\n",
    "| Number | Symbol |\n",
    "|--------|--------|\n",
    "| `1`    | `+`    |\n",
    "| `2`    | `-`    |\n",
    "| `3`    | `I`    |\n",
    "| `4`    | `X`    |\n",
    "| `5`    | `Y`    |\n",
    "| `6`    | `Z`    |\n",
    "\n",
    "* Z-test: `x: ZZZZZ, y:abcd?`, where $a,b,c,d\\in\\{+,-\\}$ \n",
    "* X-test: `x: XXXXX, y:abcd?`, where $a,b,c,d\\in\\{+,-\\}$ \n",
    "* XZ-test: `x: XXXXZ, y:abcd?`, where $a,b,c,d\\in\\{+,-\\}$ \n",
    "\n",
    "Collect data:"
   ]
  },
  {
   "cell_type": "code",
   "execution_count": null,
   "id": "5e74cc48-9519-4807-b7a9-4be665d93ddb",
   "metadata": {},
   "outputs": [
    {
     "ename": "RuntimeError",
     "evalue": "Sizes of tensors must match except in dimension 1. Expected size 16 but got size 3 for tensor number 1 in the list.",
     "output_type": "error",
     "traceback": [
      "\u001b[1;31m---------------------------------------------------------------------------\u001b[0m",
      "\u001b[1;31mRuntimeError\u001b[0m                              Traceback (most recent call last)",
      "Cell \u001b[1;32mIn[80], line 3\u001b[0m\n\u001b[0;32m      1\u001b[0m data \u001b[39m=\u001b[39m {}\n\u001b[0;32m      2\u001b[0m y0 \u001b[39m=\u001b[39m torch\u001b[39m.\u001b[39mcartesian_prod(\u001b[39m*\u001b[39m[torch\u001b[39m.\u001b[39mtensor([\u001b[39m1\u001b[39m,\u001b[39m2\u001b[39m])]\u001b[39m*\u001b[39m\u001b[39m4\u001b[39m)\n\u001b[1;32m----> 3\u001b[0m y \u001b[39m=\u001b[39m torch\u001b[39m.\u001b[39;49mcat([y0,torch\u001b[39m.\u001b[39;49mzeros(y\u001b[39m.\u001b[39;49mshape[\u001b[39m0\u001b[39;49m], dtype\u001b[39m=\u001b[39;49mtorch\u001b[39m.\u001b[39;49mlong)[:,\u001b[39mNone\u001b[39;49;00m]],\u001b[39m1\u001b[39;49m)\n\u001b[0;32m      4\u001b[0m x \u001b[39m=\u001b[39m torch\u001b[39m.\u001b[39mzeros_like(y) \u001b[39m+\u001b[39m \u001b[39m6\u001b[39m\n\u001b[0;32m      5\u001b[0m data[\u001b[39m'\u001b[39m\u001b[39mobs\u001b[39m\u001b[39m'\u001b[39m] \u001b[39m=\u001b[39m y0\u001b[39m.\u001b[39mtolist()\n",
      "\u001b[1;31mRuntimeError\u001b[0m: Sizes of tensors must match except in dimension 1. Expected size 16 but got size 3 for tensor number 1 in the list."
     ]
    }
   ],
   "source": [
    "data = {}\n",
    "y0 = torch.cartesian_prod(*[torch.tensor([1,2])]*4)\n",
    "y = torch.cat([y0,torch.zeros(y.shape[0], dtype=torch.long)[:,None]],1)\n",
    "x = torch.zeros_like(y) + 6\n",
    "data['obs'] = y0.tolist()\n",
    "with torch.no_grad():\n",
    "    for name, mdl in mdls.items():\n",
    "        logit = mdl.transformer(x, y)[:,-1]\n",
    "        data[name] = logit.tolist()\n",
    "with open('./data/z_test.dat', 'wb') as f:\n",
    "    pickle.dump(data, f)"
   ]
  },
  {
   "cell_type": "code",
   "execution_count": null,
   "id": "b9f049cb-d9ea-4102-9d7a-7bfa5a8bcf7e",
   "metadata": {},
   "outputs": [],
   "source": [
    "data = {}\n",
    "y0 = torch.cartesian_prod(*[torch.tensor([1,2])]*4)\n",
    "y = torch.cat([y0,torch.zeros(y.shape[0], dtype=torch.long)[:,None]],1)\n",
    "x = torch.zeros_like(y) + 4\n",
    "data['obs'] = y0.tolist()\n",
    "with torch.no_grad():\n",
    "    for name, mdl in mdls.items():\n",
    "        logit = mdl.transformer(x, y)[:,-1]\n",
    "        data[name] = logit.tolist()\n",
    "with open('./data/x_test.dat', 'wb') as f:\n",
    "    pickle.dump(data, f)"
   ]
  },
  {
   "cell_type": "code",
   "execution_count": null,
   "id": "0121429e-5222-4e59-b325-1c373153d27d",
   "metadata": {},
   "outputs": [],
   "source": [
    "data = {}\n",
    "y0 = torch.cartesian_prod(*[torch.tensor([1,2])]*4)\n",
    "y = torch.cat([y0,torch.zeros(y.shape[0], dtype=torch.long)[:,None]],1)\n",
    "x = torch.zeros_like(y) + 4\n",
    "x[:,-1] = 6\n",
    "data['obs'] = y0.tolist()\n",
    "with torch.no_grad():\n",
    "    for name, mdl in mdls.items():\n",
    "        logit = mdl.transformer(x, y)[:,-1]\n",
    "        data[name] = logit.tolist()\n",
    "with open('./data/xz_test.dat', 'wb') as f:\n",
    "    pickle.dump(data, f)"
   ]
  },
  {
   "cell_type": "markdown",
   "id": "b4121d1b-7b9b-4d56-8a91-9f417bd111d4",
   "metadata": {},
   "source": [
    "### Density Matrix Reconstruction"
   ]
  },
  {
   "cell_type": "markdown",
   "id": "d13ffa88-acd2-4ae2-9780-7bf3756fbad8",
   "metadata": {},
   "source": [
    "Reconstruct density matrices for representative models."
   ]
  },
  {
   "cell_type": "code",
   "execution_count": null,
   "id": "f5c7d2ef-8f38-4ee0-bdb2-69a2f8d20406",
   "metadata": {},
   "outputs": [],
   "source": [
    "data = {}\n",
    "for name, mdl in mdls.items():\n",
    "    with torch.no_grad():\n",
    "        rho = mdl.rho().matrix_form()/2**mdl.n_qubit # reconstruction\n",
    "    data[name] = rho.tolist()\n",
    "with open('./data/rhos.dat', 'wb') as f:\n",
    "    pickle.dump(data, f)"
   ]
  },
  {
   "cell_type": "markdown",
   "id": "6e9ee244-b0d1-4b1d-ac86-9480ede70816",
   "metadata": {},
   "source": [
    "### Latent Space Structure"
   ]
  },
  {
   "cell_type": "code",
   "execution_count": null,
   "id": "96276cb9-cb86-44c7-b1db-bfc53ebefc1f",
   "metadata": {},
   "outputs": [],
   "source": [
    "from sklearn.manifold import TSNE\n",
    "tsne = TSNE(2)\n",
    "x = torch.cartesian_prod(*[torch.tensor([4,5,6])]*5)\n",
    "data = {'x': (x-3).tolist()}\n",
    "for name, mdl in mdls.items():\n",
    "    with torch.no_grad():\n",
    "        src = mdl.transformer.embed(x)\n",
    "        mem = mdl.transformer.encode(src)\n",
    "    mem = mem.view(mem.shape[0],-1)\n",
    "    z = tsne.fit_transform(mem)\n",
    "    data[name] = z.tolist()\n",
    "with open('./data/z_embed.dat', 'wb') as f:\n",
    "    pickle.dump(data, f)"
   ]
  },
  {
   "cell_type": "code",
   "execution_count": null,
   "id": "25f8a2d9-d199-4188-8bb3-76c68ba4a9ec",
   "metadata": {},
   "outputs": [
    {
     "name": "stdout",
     "output_type": "stream",
     "text": [
      "[[ 11  22  33  44]\n",
      " [ 55  66  77  88]\n",
      " [ 99 110 121 132]\n",
      " [143 154 165 176]]\n"
     ]
    }
   ],
   "source": [
    "import numpy as np\n",
    "\n",
    "# Create two 4x4 NumPy arrays\n",
    "array1 = np.array([[1, 2, 3, 4],\n",
    "                   [5, 6, 7, 8],\n",
    "                   [9, 10, 11, 12],\n",
    "                   [13, 14, 15, 16]])\n",
    "\n",
    "array2 = np.array([[10, 20, 30, 40],\n",
    "                   [50, 60, 70, 80],\n",
    "                   [90, 100, 110, 120],\n",
    "                   [130, 140, 150, 160]])\n",
    "c=[1]\n",
    "# Add the arrays element-wise\n",
    "result = array1 + c * array2\n",
    "\n",
    "# Print the result\n",
    "print(result)\n"
   ]
  },
  {
   "cell_type": "code",
   "execution_count": null,
   "id": "bd47d8c9",
   "metadata": {},
   "outputs": [
    {
     "data": {
      "text/plain": [
       "4258"
      ]
     },
     "execution_count": 31,
     "metadata": {},
     "output_type": "execute_result"
    }
   ],
   "source": [
    "import gc\n",
    "gc.collect()"
   ]
  },
  {
   "cell_type": "code",
   "execution_count": null,
   "id": "cf816c50",
   "metadata": {},
   "outputs": [],
   "source": []
  }
 ],
 "metadata": {
  "kernelspec": {
   "display_name": "Python 3 (ipykernel)",
   "language": "python",
   "name": "python3"
  },
  "language_info": {
   "codemirror_mode": {
    "name": "ipython",
    "version": 3
   },
   "file_extension": ".py",
   "mimetype": "text/x-python",
   "name": "python",
   "nbconvert_exporter": "python",
   "pygments_lexer": "ipython3",
   "version": "3.8.10"
  }
 },
 "nbformat": 4,
 "nbformat_minor": 5
}
