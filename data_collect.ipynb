{
 "cells": [
  {
   "cell_type": "markdown",
   "id": "c521c87c-80a8-49b8-aeb5-b2315fe22957",
   "metadata": {},
   "source": [
    "# Classical Shadow Transformer"
   ]
  },
  {
   "cell_type": "markdown",
   "id": "19afc649-dd30-4b97-8e80-4d4af3a53bdb",
   "metadata": {},
   "source": [
    "## Initialization"
   ]
  },
  {
   "cell_type": "code",
   "execution_count": 85,
   "id": "d89fe125-8a42-446d-a0c5-c3c054625614",
   "metadata": {},
   "outputs": [
    {
     "name": "stdout",
     "output_type": "stream",
     "text": [
      "cpu\n"
     ]
    }
   ],
   "source": [
    "from CST import *\n",
    "import matplotlib.pyplot as plt\n",
    "import pickle\n",
<<<<<<< Updated upstream
    "device = torch.device('cpu') # 'cpu', 'cuda', 'mps' ..."
=======
    "import torch\n",
    "device = torch.device('cuda' if (torch.cuda.is_available()) else 'cpu') # 'cpu', 'cuda', 'mps' ..\n",
    "print(device)\n"
>>>>>>> Stashed changes
   ]
  },
  {
   "cell_type": "markdown",
   "id": "1d0b2f56-b6bf-44dd-bcbb-e06ed670bab8",
   "metadata": {
    "jp-MarkdownHeadingCollapsed": true,
    "tags": []
   },
   "source": [
    "## Testing"
   ]
  },
  {
   "cell_type": "markdown",
   "id": "97e105e3-0435-42c0-9e2c-609b868e4e92",
   "metadata": {
    "jp-MarkdownHeadingCollapsed": true,
    "tags": []
   },
   "source": [
    "### Transformer"
   ]
  },
  {
   "cell_type": "markdown",
   "id": "1d2f92b4-fda7-40cc-9902-086c9926ecf2",
   "metadata": {
    "jp-MarkdownHeadingCollapsed": true,
    "tags": []
   },
   "source": [
    "#### Test 1: Log Probability Estimation"
   ]
  },
  {
   "cell_type": "markdown",
   "id": "115a596c-62c0-4a76-97ce-cdcb1cd12d01",
   "metadata": {},
   "source": [
    "**Goal:** show that the log probability accumulated at sampling is the same as log probability evaluated by the model directly."
   ]
  },
  {
   "cell_type": "markdown",
   "id": "235034e9-ca67-449b-9105-f0dbdda9fa31",
   "metadata": {},
   "source": [
    "Create a model and put into evaluation mode (to disable dropout)."
   ]
  },
  {
   "cell_type": "code",
   "execution_count": 86,
   "id": "74c8b276-db01-4f36-9b90-63948af5cb3e",
   "metadata": {},
   "outputs": [],
   "source": [
    "tf = Transformer(outtk_size=2)\n",
    "tf.eval()\n",
    "x = torch.tensor([[4],[4],[5],[5],[6],[6]])"
   ]
  },
  {
   "cell_type": "code",
   "execution_count": 87,
   "id": "9d419e68-a3b7-4b63-9d66-b70854ea09bd",
   "metadata": {},
   "outputs": [
    {
     "data": {
      "text/plain": [
       "(tensor([[2],\n",
       "         [1],\n",
       "         [2],\n",
       "         [2],\n",
       "         [2],\n",
       "         [2]]),\n",
       " tensor([-0.3522, -1.2146, -0.3775, -0.3775, -0.4173, -0.4173]))"
      ]
     },
     "execution_count": 87,
     "metadata": {},
     "output_type": "execute_result"
    }
   ],
   "source": [
    "y, logprob = tf.sample(x, 1, need_logprob=True)\n",
    "y, logprob"
   ]
  },
  {
   "cell_type": "code",
   "execution_count": 88,
   "id": "2cb3d9dd-bff0-43e7-ac81-3d9317e2c7d6",
   "metadata": {
    "tags": []
   },
   "outputs": [
    {
     "data": {
      "text/plain": [
       "tensor([-0.3522, -1.2146, -0.3775, -0.3775, -0.4173, -0.4173],\n",
       "       grad_fn=<SumBackward1>)"
      ]
     },
     "execution_count": 88,
     "metadata": {},
     "output_type": "execute_result"
    }
   ],
   "source": [
    "tf.logprob(x, y)"
   ]
  },
  {
   "cell_type": "markdown",
   "id": "06d3553e-1cbe-4645-96f8-a4bd838380a5",
   "metadata": {},
   "source": [
    "Results are matched up."
   ]
  },
  {
   "cell_type": "markdown",
   "id": "2a89739d-1656-4129-bf74-6c0d17574fde",
   "metadata": {
    "jp-MarkdownHeadingCollapsed": true,
    "tags": []
   },
   "source": [
    "#### Test 2: Generative Modeling"
   ]
  },
  {
   "cell_type": "markdown",
   "id": "0f0d0418-da1c-4ebb-8f8a-6167c7d43fc2",
   "metadata": {},
   "source": [
    "**Goal:** test the ability of the transformer model to learn sequence-to-sequence map."
   ]
  },
  {
   "cell_type": "code",
   "execution_count": 89,
   "id": "1a8df019-0a2f-4d71-b247-2e7fce9d40b3",
   "metadata": {},
   "outputs": [],
   "source": [
    "tf = Transformer(outtk_size=2)\n",
    "x = torch.tensor([[4],[4],[5],[5],[6],[6],[6]])\n",
    "y = torch.tensor([[1],[1],[1],[2],[1],[2],[2]])\n",
    "y1 = torch.tensor([[1],[2],[1],[2],[1],[2],[2]])"
   ]
  },
  {
   "cell_type": "code",
   "execution_count": 90,
   "id": "576ac1c1-b4fe-4aeb-aabd-fddfe73b7b2a",
   "metadata": {},
   "outputs": [],
   "source": [
    "optimizer = torch.optim.Adam(tf.parameters(), lr=0.001)"
   ]
  },
  {
   "cell_type": "code",
   "execution_count": 91,
   "id": "6f25a2a4-18fe-4522-aeed-658dd9317880",
   "metadata": {},
   "outputs": [
    {
     "name": "stdout",
     "output_type": "stream",
     "text": [
      "  0:  0.77411\n",
      "  1:  0.64843\n",
      "  2:  0.65071\n",
      "  3:  0.62789\n",
      "  4:   0.5706\n",
      "  5:  0.52893\n",
      "  6:  0.52436\n",
      "  7:  0.52283\n",
      "  8:  0.51316\n",
      "  9:  0.51047\n"
     ]
    }
   ],
   "source": [
    "tf.train()\n",
    "for epoch in range(10):\n",
    "    optimizer.zero_grad()\n",
    "    loss = -tf.logprob(x, y).mean()\n",
    "    loss.backward()\n",
    "    optimizer.step()\n",
    "    print('{:3d}: {:8.5g}'.format(epoch, loss.item()))"
   ]
  },
  {
   "cell_type": "markdown",
   "id": "dd795a2e-3c16-4a52-b916-b629c07a77f1",
   "metadata": {},
   "source": [
    "Learns to predict $y$ from $x$."
   ]
  },
  {
   "cell_type": "code",
   "execution_count": 92,
   "id": "7835801e-f8d9-4e30-be5d-f0816f5a26f5",
   "metadata": {},
   "outputs": [
    {
     "data": {
      "text/plain": [
       "[0.9418697953224182,\n",
       " 0.05813014879822731,\n",
       " 0.4844800531864166,\n",
       " 0.5155199766159058,\n",
       " 0.2483062595129013,\n",
       " 0.7516936659812927,\n",
       " 0.7516937851905823]"
      ]
     },
     "execution_count": 92,
     "metadata": {},
     "output_type": "execute_result"
    }
   ],
   "source": [
    "tf.eval()\n",
    "tf.logprob(x, y1).exp().tolist()"
   ]
  },
  {
   "cell_type": "markdown",
   "id": "8f795833-3f5a-4133-9f0c-fb816b24eb4c",
   "metadata": {
    "jp-MarkdownHeadingCollapsed": true,
    "tags": []
   },
   "source": [
    "#### Test 3: VAE loss"
   ]
  },
  {
   "cell_type": "markdown",
   "id": "5b39eda9-b791-4bc8-8a6f-4c1e08193bd8",
   "metadata": {},
   "source": [
    "**Goal**: test training the transformer with VAE bottleneck"
   ]
  },
  {
   "cell_type": "code",
   "execution_count": 93,
   "id": "d7ebe248-da2a-4010-9423-1f75e802cf8d",
   "metadata": {},
   "outputs": [],
   "source": [
    "tf = Transformer(outtk_size=2)\n",
    "x = torch.tensor([[4],[4],[5],[5],[6],[6],[6]])\n",
    "y = torch.tensor([[1],[1],[1],[2],[1],[2],[2]])\n",
    "y1 = torch.tensor([[1],[2],[1],[2],[1],[2],[2]])"
   ]
  },
  {
   "cell_type": "code",
   "execution_count": 94,
   "id": "4b5ebfd6-fb38-4bd8-a224-1551ad8bd58b",
   "metadata": {},
   "outputs": [],
   "source": [
    "optimizer = torch.optim.Adam(tf.parameters(), lr=0.001)"
   ]
  },
  {
   "cell_type": "code",
   "execution_count": 95,
   "id": "ed6de0be-360a-470d-b106-9b2541f722d5",
   "metadata": {},
   "outputs": [
    {
     "name": "stdout",
     "output_type": "stream",
     "text": [
      "  0:  0.64473 -0.64473    1.093\n",
      "  1:  0.64067 -0.64067   1.1037\n",
      "  2:  0.54926 -0.54926   1.0844\n",
      "  3:  0.48115 -0.48115   1.0929\n",
      "  4:  0.48667 -0.48667   1.0919\n",
      "  5:  0.50662 -0.50662   1.0963\n",
      "  6:  0.42666 -0.42666   1.1169\n",
      "  7:   0.5599  -0.5599   1.1261\n",
      "  8:  0.55426 -0.55426   1.1504\n",
      "  9:  0.59386 -0.59386   1.1653\n"
     ]
    }
   ],
   "source": [
    "tf.train()\n",
    "for epoch in range(10):\n",
    "    optimizer.zero_grad()\n",
    "    loss, logprob, kld = tf.loss(x, y, beta=0.)\n",
    "    loss.backward()\n",
    "    optimizer.step()\n",
    "    print(f'{epoch:3d}: {loss.item():8.5g} {logprob.item():8.5g} {kld.item():8.5g}')"
   ]
  },
  {
   "cell_type": "markdown",
   "id": "f0777c5b-732a-4030-9ded-3b813d079199",
   "metadata": {},
   "source": [
    "Learns to predict $y$ from $x$."
   ]
  },
  {
   "cell_type": "code",
   "execution_count": 96,
   "id": "69af57fe-69f3-4669-9785-2cf5231e3e87",
   "metadata": {},
   "outputs": [
    {
     "data": {
      "text/plain": [
       "[0.9884812831878662,\n",
       " 0.01151876337826252,\n",
       " 0.6350278258323669,\n",
       " 0.36497223377227783,\n",
       " 0.2811685800552368,\n",
       " 0.7188314199447632,\n",
       " 0.718831479549408]"
      ]
     },
     "execution_count": 96,
     "metadata": {},
     "output_type": "execute_result"
    }
   ],
   "source": [
    "tf.eval()\n",
    "tf.logprob(x, y1).exp().tolist()"
   ]
  },
  {
   "cell_type": "markdown",
   "id": "cf4fb0d1-6f77-4e03-805d-7b10801de75d",
   "metadata": {},
   "source": [
    "Now the accuracy can be controlled by the hyperparameter $\\beta$."
   ]
  },
  {
   "cell_type": "markdown",
   "id": "96e7e10c-0482-47a2-8e0f-aa9c3bc9430d",
   "metadata": {
    "jp-MarkdownHeadingCollapsed": true,
    "tags": []
   },
   "source": [
    "#### Test 4: Sampling"
   ]
  },
  {
   "cell_type": "markdown",
   "id": "2ff30b67-3f0b-47a9-9399-50eb331face9",
   "metadata": {},
   "source": [
    "**Goal**: test sampling and completion."
   ]
  },
  {
   "cell_type": "code",
   "execution_count": 97,
   "id": "2771c8c8-3569-4125-8b76-5df291f2409f",
   "metadata": {},
   "outputs": [
    {
     "data": {
      "text/plain": [
       "tensor([[1, 1, 1, 1],\n",
       "        [1, 2, 2, 1],\n",
       "        [2, 2, 2, 1]])"
      ]
     },
     "execution_count": 97,
     "metadata": {},
     "output_type": "execute_result"
    }
   ],
   "source": [
    "tf = Transformer(outtk_size=2)\n",
    "x = torch.randint(4,7,(3,5))\n",
    "tf.sample(x)"
   ]
  },
  {
   "cell_type": "markdown",
   "id": "7682be8f-68b2-4d74-9303-1abdb222a0fe",
   "metadata": {},
   "source": [
    "Completion task."
   ]
  },
  {
   "cell_type": "code",
   "execution_count": 98,
   "id": "fe82fd87-1d2f-4ec6-9ee9-893a1006d5d8",
   "metadata": {},
   "outputs": [
    {
     "data": {
      "text/plain": [
       "tensor([[2, 1],\n",
       "        [2, 2],\n",
       "        [1, 2]])"
      ]
     },
     "execution_count": 98,
     "metadata": {},
     "output_type": "execute_result"
    }
   ],
   "source": [
    "y = torch.randint(1,3,(3,2))\n",
    "y"
   ]
  },
  {
   "cell_type": "code",
   "execution_count": 99,
   "id": "c0d05e36-40b1-4bae-8a2c-ff9cf08e522d",
   "metadata": {},
   "outputs": [
    {
     "data": {
      "text/plain": [
       "tensor([[2, 1, 2, 1],\n",
       "        [2, 2, 2, 2],\n",
       "        [1, 2, 1, 1]])"
      ]
     },
     "execution_count": 99,
     "metadata": {},
     "output_type": "execute_result"
    }
   ],
   "source": [
    "tf.sample(x, tgt_seq=y)"
   ]
  },
  {
   "cell_type": "markdown",
   "id": "0ac92617-cb93-4153-8a0c-326042ccf9e5",
   "metadata": {
    "jp-MarkdownHeadingCollapsed": true,
    "tags": []
   },
   "source": [
    "### Operator"
   ]
  },
  {
   "cell_type": "markdown",
   "id": "a3c2c72a-d335-48a6-aa29-57f50e1badb3",
   "metadata": {
    "jp-MarkdownHeadingCollapsed": true,
    "tags": []
   },
   "source": [
    "#### Test 1: Operator Algebra"
   ]
  },
  {
   "cell_type": "markdown",
   "id": "71ee9df4-3ec2-42c5-84ea-2584e974007a",
   "metadata": {},
   "source": [
    "**Goal:** test operator algebra are correct"
   ]
  },
  {
   "cell_type": "code",
   "execution_count": 100,
   "id": "1e958809-1e0d-46e0-9822-dfac89af38d3",
   "metadata": {},
   "outputs": [
    {
     "data": {
      "text/plain": [
       "[I, X, Y, Z]"
      ]
     },
     "execution_count": 100,
     "metadata": {},
     "output_type": "execute_result"
    }
   ],
   "source": [
    "ops = [pauli([i]) for i in range(4)]\n",
    "ops"
   ]
  },
  {
   "cell_type": "markdown",
   "id": "c9f8a420-220b-49ee-917c-6a7ff0b18609",
   "metadata": {},
   "source": [
    "Multiplication table of Pauli operators"
   ]
  },
  {
   "cell_type": "code",
   "execution_count": 101,
   "id": "0386bb23-2288-4c7e-bc3b-e39080ce9f92",
   "metadata": {},
   "outputs": [
    {
     "name": "stdout",
     "output_type": "stream",
     "text": [
      "I @ I = I\n",
      "I @ X = X\n",
      "I @ Y = Y\n",
      "I @ Z = Z\n",
      "X @ I = X\n",
      "X @ X = I\n",
      "X @ Y = i Z\n",
      "X @ Z = -i Y\n",
      "Y @ I = Y\n",
      "Y @ X = -i Z\n",
      "Y @ Y = I\n",
      "Y @ Z = i X\n",
      "Z @ I = Z\n",
      "Z @ X = i Y\n",
      "Z @ Y = -i X\n",
      "Z @ Z = I\n"
     ]
    }
   ],
   "source": [
    "for op1 in ops: \n",
    "    for op2 in ops:\n",
    "        print(f'{op1} @ {op2} = {op1 @ op2}')"
   ]
  },
  {
   "cell_type": "markdown",
   "id": "648cdd31-9c93-4a61-8112-5a6a1e8b4e83",
   "metadata": {
    "jp-MarkdownHeadingCollapsed": true,
    "tags": []
   },
   "source": [
    "#### Test 2: Operator Gradient"
   ]
  },
  {
   "cell_type": "markdown",
   "id": "207da3cd-3dd6-4743-b656-33e3c016e234",
   "metadata": {},
   "source": [
    "Example: construct an operator"
   ]
  },
  {
   "cell_type": "code",
   "execution_count": 102,
   "id": "823d8aec-1b90-4f1e-b6b4-43c059542a6f",
   "metadata": {},
   "outputs": [
    {
     "data": {
      "text/plain": [
       "X + i Y -2 Z"
      ]
     },
     "execution_count": 102,
     "metadata": {},
     "output_type": "execute_result"
    }
   ],
   "source": [
    "O = pauli('X') + 1j * pauli('Y') - 2 * pauli('Z')\n",
    "O"
   ]
  },
  {
   "cell_type": "code",
   "execution_count": 103,
   "id": "151aac7c-704c-4107-a7ab-937efd137193",
   "metadata": {},
   "outputs": [
    {
     "data": {
      "text/plain": [
       "X + i Y -2 Z (requires_grad=True)"
      ]
     },
     "execution_count": 103,
     "metadata": {},
     "output_type": "execute_result"
    }
   ],
   "source": [
    "O = O.requires_grad_()\n",
    "O"
   ]
  },
  {
   "cell_type": "code",
   "execution_count": 104,
   "id": "11e9e9c5-a183-4661-8ee3-ee2dd63a1cf6",
   "metadata": {},
   "outputs": [
    {
     "data": {
      "text/plain": [
       "6 I -4 X -2 Z (grad_fn=<class 'IndexBackward0'>)"
      ]
     },
     "execution_count": 104,
     "metadata": {},
     "output_type": "execute_result"
    }
   ],
   "source": [
    "O.H @ O"
   ]
  },
  {
   "cell_type": "markdown",
   "id": "441bc50e-59ee-47e4-80c3-30711204767d",
   "metadata": {},
   "source": [
    "Operator norm is defined to be $\\Vert O\\Vert^2=\\mathrm{Tr}\\,O^\\dagger O$"
   ]
  },
  {
   "cell_type": "code",
   "execution_count": 105,
   "id": "2ef4e9f9-1944-4f44-b333-8613da1aa85d",
   "metadata": {},
   "outputs": [
    {
     "data": {
      "text/plain": [
       "tensor(6., grad_fn=<SelectBackward0>)"
      ]
     },
     "execution_count": 105,
     "metadata": {},
     "output_type": "execute_result"
    }
   ],
   "source": [
    "O.norm()"
   ]
  },
  {
   "cell_type": "code",
   "execution_count": 106,
   "id": "a20ba11b-e7c8-4e8b-9f8d-ded07e8ac9d9",
   "metadata": {},
   "outputs": [
    {
     "data": {
      "text/plain": [
       "2 X + (0.00+2.00i) Y -4 Z"
      ]
     },
     "execution_count": 106,
     "metadata": {},
     "output_type": "execute_result"
    }
   ],
   "source": [
    "O.norm().backward()\n",
    "O.grad"
   ]
  },
  {
   "cell_type": "markdown",
   "id": "fae5c69d-ae5c-4eab-8566-d25c206727ea",
   "metadata": {
    "jp-MarkdownHeadingCollapsed": true,
    "tags": []
   },
   "source": [
    "### Shadow"
   ]
  },
  {
   "cell_type": "markdown",
   "id": "ff165dd3-0b29-41da-9e38-b3d24c0630ea",
   "metadata": {
    "jp-MarkdownHeadingCollapsed": true,
    "tags": []
   },
   "source": [
    "#### Test 1: Shadow Evaluate "
   ]
  },
  {
   "cell_type": "markdown",
   "id": "4c003d71-f5f7-44b3-a574-8e93681dc562",
   "metadata": {},
   "source": [
    "**Goal:** evaluate operator expectation value on a shadow dataset."
   ]
  },
  {
   "cell_type": "code",
   "execution_count": 107,
   "id": "601bf235-543d-4ef6-8bac-f2f8fdffd549",
   "metadata": {},
   "outputs": [
    {
     "data": {
      "text/plain": [
       "| -X +Y +X |\n",
       "| +Y -Z -Z |\n",
       "| -Y -X -X |\n",
       "| +Z -Y +X |\n",
       "| +Y +X +X |\n",
       "| +Y +Y +Z |\n",
       "| +X -X +Z |\n",
       "| +Z +Z +Z |\n",
       "| -Z +X +Y |\n",
       "| +X -Z +Y |\n",
       "| -Z -X -X |\n",
       "| -Y -Z -Y |\n",
       "| +Y +Y -Y |\n",
       "| +Y -Y -Z |\n",
       "| +X +Y -Y |\n",
       "| -Y +Y -Z |\n",
       "..."
      ]
     },
     "execution_count": 107,
     "metadata": {},
     "output_type": "execute_result"
    }
   ],
   "source": [
    "shd = ghz_shadow(3, 1000)\n",
    "shd"
   ]
  },
  {
   "cell_type": "code",
   "execution_count": 108,
   "id": "785f8c77-d592-48a2-a2a7-fb02ce38f295",
   "metadata": {},
   "outputs": [
    {
     "data": {
      "text/plain": [
       "tensor(0.8010+0.j)"
      ]
     },
     "execution_count": 108,
     "metadata": {},
     "output_type": "execute_result"
    }
   ],
   "source": [
    "pauli('ZZI').expectation(shd)"
   ]
  },
  {
   "cell_type": "markdown",
   "id": "aa3d377d-323c-4be0-a58b-706a7f67950d",
   "metadata": {},
   "source": [
    "### ClassicalShadowTransformer"
   ]
  },
  {
   "cell_type": "markdown",
   "id": "065ee90a-0b25-4898-a0e1-0a661e5709a9",
   "metadata": {
    "jp-MarkdownHeadingCollapsed": true,
    "tags": []
   },
   "source": [
    "#### Test 1: Sampling"
   ]
  },
  {
   "cell_type": "markdown",
   "id": "dfd732b7-025f-4290-a9cc-f3629719e9a0",
   "metadata": {},
   "source": [
    "**Goal**: test sampling and state reconstruction"
   ]
  },
  {
   "cell_type": "code",
   "execution_count": 109,
   "id": "aa86f48a-5498-43c4-a459-6b5695e2bd69",
   "metadata": {},
   "outputs": [
    {
     "data": {
      "text/plain": [
       "| -Z -Z |\n",
       "| -X +X |\n",
       "| -X -Z |\n",
       "| -X -Z |\n",
       "| -Z +X |\n",
       "| +Z -X |"
      ]
     },
     "execution_count": 109,
     "metadata": {},
     "output_type": "execute_result"
    }
   ],
   "source": [
    "cst = ClassicalShadowTransformer(2,0)\n",
    "cst.sample(6)"
   ]
  },
  {
   "cell_type": "markdown",
   "id": "fdecda7f-6c35-4696-bf49-b56ef20f2c1f",
   "metadata": {},
   "source": [
    "Reconstruct density operator (matrix)."
   ]
  },
  {
   "cell_type": "code",
   "execution_count": 110,
   "id": "569c3ba8-d99d-47c2-b75a-371a6c14402b",
   "metadata": {},
   "outputs": [
    {
     "data": {
      "text/plain": [
       "1.00 II -0.32 IX -0.25 IY -0.27 IZ + 0.11 XI -0.41 XX -0.41 XY -0.40 XZ + 0.21 YI -0.42 YX -0.42 YY -0.40 YZ + 0.10 ZI -0.42 ZX -0.40 ZY -0.33 ZZ (grad_fn=<class 'SqueezeBackward4'>)"
      ]
     },
     "execution_count": 110,
     "metadata": {},
     "output_type": "execute_result"
    }
   ],
   "source": [
    "rho = cst.rho()\n",
    "rho"
   ]
  },
  {
   "cell_type": "code",
   "execution_count": 111,
   "id": "60a71544-95a1-4f43-a8c0-9e053860e055",
   "metadata": {},
   "outputs": [
    {
     "data": {
      "text/plain": [
       "tensor([[ 0.1234+0.0000j, -0.1859+0.1620j, -0.0731+0.0489j,  0.0012+0.2076j],\n",
       "        [-0.1859-0.1620j,  0.4256+0.0000j, -0.2068+0.0017j,  0.1288-0.1535j],\n",
       "        [-0.0731-0.0489j, -0.2068-0.0017j,  0.2411+0.0000j,  0.0257-0.0381j],\n",
       "        [ 0.0012-0.2076j,  0.1288+0.1535j,  0.0257+0.0381j,  0.2098+0.0000j]],\n",
       "       grad_fn=<DivBackward0>)"
      ]
     },
     "execution_count": 111,
     "metadata": {},
     "output_type": "execute_result"
    }
   ],
   "source": [
    "rhomat = rho.matrix_form() / 2**2\n",
    "rhomat"
   ]
  },
  {
   "cell_type": "code",
   "execution_count": 112,
   "id": "fc1bc9db-d181-43ee-a261-53874893ca49",
   "metadata": {},
   "outputs": [
    {
     "data": {
      "text/plain": [
       "tensor([-0.1150,  0.0085,  0.3709,  0.7356], grad_fn=<LinalgEighBackward0>)"
      ]
     },
     "execution_count": 112,
     "metadata": {},
     "output_type": "execute_result"
    }
   ],
   "source": [
    "torch.linalg.eigvalsh(rhomat)"
   ]
  },
  {
   "cell_type": "markdown",
   "id": "a7b357f8-2319-4091-ae7c-cf4c8b706f95",
   "metadata": {
    "jp-MarkdownHeadingCollapsed": true,
    "tags": []
   },
   "source": [
    "#### Test 2: Evaluation"
   ]
  },
  {
   "cell_type": "markdown",
   "id": "4c9334dd-037b-42ea-8ced-9c9848840051",
   "metadata": {},
   "source": [
    "**Goal**: test logprob and loss function evaluation."
   ]
  },
  {
   "cell_type": "code",
   "execution_count": 113,
   "id": "95ddf777-1a86-4237-9eed-6865aefab7c9",
   "metadata": {},
   "outputs": [],
   "source": [
    "cst = ClassicalShadowTransformer(2,0)\n",
    "cst.eval()\n",
    "shd = ghz_shadow(2,10)"
   ]
  },
  {
   "cell_type": "code",
   "execution_count": 114,
   "id": "d5f095f1-32d2-44ef-bb9d-cdf0d681fb4b",
   "metadata": {},
   "outputs": [
    {
     "data": {
      "text/plain": [
       "tensor([-1.7702, -1.0585, -1.7702, -1.6669, -1.0810, -1.8320, -1.1911, -1.6669,\n",
       "        -1.2102, -1.7125], grad_fn=<SumBackward1>)"
      ]
     },
     "execution_count": 114,
     "metadata": {},
     "output_type": "execute_result"
    }
   ],
   "source": [
    "cst.logprob(shd)"
   ]
  },
  {
   "cell_type": "code",
   "execution_count": 115,
   "id": "8a05ccc6-c03f-42ee-bf96-baec1e7500e4",
   "metadata": {},
   "outputs": [
    {
     "data": {
      "text/plain": [
       "(tensor(2.5820, grad_fn=<MeanBackward0>),\n",
       " tensor(-1.5054, grad_fn=<MeanBackward0>),\n",
       " tensor(1.0766, grad_fn=<MeanBackward0>))"
      ]
     },
     "execution_count": 115,
     "metadata": {},
     "output_type": "execute_result"
    }
   ],
   "source": [
    "cst.loss(shd)"
   ]
  },
  {
   "cell_type": "markdown",
   "id": "918c601b-e750-46c7-8f34-442de3e66038",
   "metadata": {},
   "source": [
    "## Training"
   ]
  },
  {
   "cell_type": "markdown",
   "id": "d4eafdd5-3704-483b-a795-8747e56cbbfe",
   "metadata": {},
   "source": [
    "### Batch Training"
   ]
  },
  {
   "cell_type": "markdown",
   "id": "68833c5a-e501-4340-ad70-0d0ac3c19c90",
   "metadata": {},
   "source": [
    "Scaning over parameter space and train a collection of models of different number of qubits and hyperparameter $\\beta$. `max_steps` - maximal optimization step, `nsr` - the noise signal ratio threshold for the loss function flucturation (optimization stop when the noise signal ratio is larger than this threshold), `window` - the window size used to estimate noise signal ratio (larger window size stricter convergence criterion), `n_sample` - number of classical shadow samples used in each iteration, `lr` -  learning rate."
   ]
  },
  {
   "cell_type": "code",
   "execution_count": 116,
   "id": "0c50fc51-1db3-42d0-92eb-39c98b1ba824",
   "metadata": {
    "tags": []
   },
   "outputs": [
    {
     "name": "stdout",
     "output_type": "stream",
     "text": [
      "./model/CST_d64_h16_l1/GHZ_N1_b-6\n",
      "1527:  0.45641 -0.45547  0.06021 -0.10659\n"
     ]
    },
    {
     "ename": "KeyboardInterrupt",
     "evalue": "",
     "output_type": "error",
     "traceback": [
      "\u001b[1;31m---------------------------------------------------------------------------\u001b[0m",
      "\u001b[1;31mKeyboardInterrupt\u001b[0m                         Traceback (most recent call last)",
      "Cell \u001b[1;32mIn[116], line 4\u001b[0m\n\u001b[0;32m      2\u001b[0m \u001b[39mfor\u001b[39;00m logbeta \u001b[39min\u001b[39;00m \u001b[39mrange\u001b[39m(\u001b[39m-\u001b[39m\u001b[39m6\u001b[39m,\u001b[39m7\u001b[39m):\n\u001b[0;32m      3\u001b[0m     cst \u001b[39m=\u001b[39m ClassicalShadowTransformer(n_qubit, logbeta)\u001b[39m.\u001b[39mto(device)\u001b[39m.\u001b[39mload()\n\u001b[1;32m----> 4\u001b[0m     cst\u001b[39m.\u001b[39;49moptimize(\u001b[39m10000\u001b[39;49m, max_steps\u001b[39m=\u001b[39;49m\u001b[39m30000\u001b[39;49m, nsr\u001b[39m=\u001b[39;49m\u001b[39m32\u001b[39;49m, window\u001b[39m=\u001b[39;49m\u001b[39m400\u001b[39;49m, n_sample\u001b[39m=\u001b[39;49m\u001b[39m1000\u001b[39;49m, lr\u001b[39m=\u001b[39;49m\u001b[39m0.0001\u001b[39;49m)\n",
      "File \u001b[1;32mc:\\Users\\Kiki\\Documents\\GitHub\\Emergent-Classicality\\CST.py:856\u001b[0m, in \u001b[0;36mClassicalShadowTransformer.optimize\u001b[1;34m(self, steps, max_steps, n_sample, lr, autosave, **kwargs)\u001b[0m\n\u001b[0;32m    854\u001b[0m \u001b[39mself\u001b[39m\u001b[39m.\u001b[39moptimizer\u001b[39m.\u001b[39mstep()\n\u001b[0;32m    855\u001b[0m \u001b[39mself\u001b[39m\u001b[39m.\u001b[39mloss_history\u001b[39m.\u001b[39mappend(loss\u001b[39m.\u001b[39mitem())\n\u001b[1;32m--> 856\u001b[0m clear_output(wait\u001b[39m=\u001b[39;49m\u001b[39mTrue\u001b[39;49;00m)\n\u001b[0;32m    857\u001b[0m \u001b[39mprint\u001b[39m(\u001b[39mself\u001b[39m\u001b[39m.\u001b[39mpath \u001b[39m+\u001b[39m \u001b[39m'\u001b[39m\u001b[39m/\u001b[39m\u001b[39m'\u001b[39m \u001b[39m+\u001b[39m \u001b[39mself\u001b[39m\u001b[39m.\u001b[39mfile)\n\u001b[0;32m    858\u001b[0m \u001b[39mprint\u001b[39m(\u001b[39mf\u001b[39m\u001b[39m'\u001b[39m\u001b[39m{\u001b[39;00mstep\u001b[39m:\u001b[39;00m\u001b[39m3d\u001b[39m\u001b[39m}\u001b[39;00m\u001b[39m: \u001b[39m\u001b[39m{\u001b[39;00mloss\u001b[39m.\u001b[39mitem()\u001b[39m:\u001b[39;00m\u001b[39m8.5f\u001b[39m\u001b[39m}\u001b[39;00m\u001b[39m \u001b[39m\u001b[39m{\u001b[39;00mlogprob\u001b[39m.\u001b[39mitem()\u001b[39m:\u001b[39;00m\u001b[39m8.5f\u001b[39m\u001b[39m}\u001b[39;00m\u001b[39m \u001b[39m\u001b[39m{\u001b[39;00mkld\u001b[39m.\u001b[39mitem()\u001b[39m:\u001b[39;00m\u001b[39m8.5f\u001b[39m\u001b[39m}\u001b[39;00m\u001b[39m \u001b[39m\u001b[39m{\u001b[39;00m\u001b[39mself\u001b[39m\u001b[39m.\u001b[39mtransformer\u001b[39m.\u001b[39mrepara\u001b[39m.\u001b[39mlogvar\u001b[39m.\u001b[39mmean()\u001b[39m.\u001b[39mitem()\u001b[39m:\u001b[39;00m\u001b[39m8.5f\u001b[39m\u001b[39m}\u001b[39;00m\u001b[39m'\u001b[39m)\n",
      "File \u001b[1;32mc:\\Users\\Kiki\\AppData\\Local\\Programs\\Python\\Python38\\lib\\site-packages\\IPython\\core\\display_functions.py:386\u001b[0m, in \u001b[0;36mclear_output\u001b[1;34m(wait)\u001b[0m\n\u001b[0;32m    384\u001b[0m \u001b[39mfrom\u001b[39;00m \u001b[39mIPython\u001b[39;00m\u001b[39m.\u001b[39;00m\u001b[39mcore\u001b[39;00m\u001b[39m.\u001b[39;00m\u001b[39minteractiveshell\u001b[39;00m \u001b[39mimport\u001b[39;00m InteractiveShell\n\u001b[0;32m    385\u001b[0m \u001b[39mif\u001b[39;00m InteractiveShell\u001b[39m.\u001b[39minitialized():\n\u001b[1;32m--> 386\u001b[0m     InteractiveShell\u001b[39m.\u001b[39;49minstance()\u001b[39m.\u001b[39;49mdisplay_pub\u001b[39m.\u001b[39;49mclear_output(wait)\n\u001b[0;32m    387\u001b[0m \u001b[39melse\u001b[39;00m:\n\u001b[0;32m    388\u001b[0m     \u001b[39mprint\u001b[39m(\u001b[39m'\u001b[39m\u001b[39m\\033\u001b[39;00m\u001b[39m[2K\u001b[39m\u001b[39m\\r\u001b[39;00m\u001b[39m'\u001b[39m, end\u001b[39m=\u001b[39m\u001b[39m'\u001b[39m\u001b[39m'\u001b[39m)\n",
      "File \u001b[1;32mc:\\Users\\Kiki\\AppData\\Local\\Programs\\Python\\Python38\\lib\\site-packages\\ipykernel\\zmqshell.py:146\u001b[0m, in \u001b[0;36mZMQDisplayPublisher.clear_output\u001b[1;34m(self, wait)\u001b[0m\n\u001b[0;32m    135\u001b[0m \u001b[39m\u001b[39m\u001b[39m\"\"\"Clear output associated with the current execution (cell).\u001b[39;00m\n\u001b[0;32m    136\u001b[0m \n\u001b[0;32m    137\u001b[0m \u001b[39mParameters\u001b[39;00m\n\u001b[1;32m   (...)\u001b[0m\n\u001b[0;32m    143\u001b[0m \n\u001b[0;32m    144\u001b[0m \u001b[39m\"\"\"\u001b[39;00m\n\u001b[0;32m    145\u001b[0m content \u001b[39m=\u001b[39m \u001b[39mdict\u001b[39m(wait\u001b[39m=\u001b[39mwait)\n\u001b[1;32m--> 146\u001b[0m \u001b[39mself\u001b[39;49m\u001b[39m.\u001b[39;49m_flush_streams()\n\u001b[0;32m    147\u001b[0m \u001b[39mself\u001b[39m\u001b[39m.\u001b[39msession\u001b[39m.\u001b[39msend(\n\u001b[0;32m    148\u001b[0m     \u001b[39mself\u001b[39m\u001b[39m.\u001b[39mpub_socket,\n\u001b[0;32m    149\u001b[0m     \u001b[39m\"\u001b[39m\u001b[39mclear_output\u001b[39m\u001b[39m\"\u001b[39m,\n\u001b[1;32m   (...)\u001b[0m\n\u001b[0;32m    152\u001b[0m     ident\u001b[39m=\u001b[39m\u001b[39mself\u001b[39m\u001b[39m.\u001b[39mtopic,\n\u001b[0;32m    153\u001b[0m )\n",
      "File \u001b[1;32mc:\\Users\\Kiki\\AppData\\Local\\Programs\\Python\\Python38\\lib\\site-packages\\ipykernel\\zmqshell.py:66\u001b[0m, in \u001b[0;36mZMQDisplayPublisher._flush_streams\u001b[1;34m(self)\u001b[0m\n\u001b[0;32m     64\u001b[0m \u001b[39m\u001b[39m\u001b[39m\"\"\"flush IO Streams prior to display\"\"\"\u001b[39;00m\n\u001b[0;32m     65\u001b[0m sys\u001b[39m.\u001b[39mstdout\u001b[39m.\u001b[39mflush()\n\u001b[1;32m---> 66\u001b[0m sys\u001b[39m.\u001b[39;49mstderr\u001b[39m.\u001b[39;49mflush()\n",
      "File \u001b[1;32mc:\\Users\\Kiki\\AppData\\Local\\Programs\\Python\\Python38\\lib\\site-packages\\ipykernel\\iostream.py:521\u001b[0m, in \u001b[0;36mOutStream.flush\u001b[1;34m(self)\u001b[0m\n\u001b[0;32m    510\u001b[0m \u001b[39m\u001b[39m\u001b[39m\"\"\"trigger actual zmq send\u001b[39;00m\n\u001b[0;32m    511\u001b[0m \n\u001b[0;32m    512\u001b[0m \u001b[39msend will happen in the background thread\u001b[39;00m\n\u001b[0;32m    513\u001b[0m \u001b[39m\"\"\"\u001b[39;00m\n\u001b[0;32m    514\u001b[0m \u001b[39mif\u001b[39;00m (\n\u001b[0;32m    515\u001b[0m     \u001b[39mself\u001b[39m\u001b[39m.\u001b[39mpub_thread\n\u001b[0;32m    516\u001b[0m     \u001b[39mand\u001b[39;00m \u001b[39mself\u001b[39m\u001b[39m.\u001b[39mpub_thread\u001b[39m.\u001b[39mthread \u001b[39mis\u001b[39;00m \u001b[39mnot\u001b[39;00m \u001b[39mNone\u001b[39;00m\n\u001b[1;32m   (...)\u001b[0m\n\u001b[0;32m    519\u001b[0m ):\n\u001b[0;32m    520\u001b[0m     \u001b[39m# request flush on the background thread\u001b[39;00m\n\u001b[1;32m--> 521\u001b[0m     \u001b[39mself\u001b[39;49m\u001b[39m.\u001b[39;49mpub_thread\u001b[39m.\u001b[39;49mschedule(\u001b[39mself\u001b[39;49m\u001b[39m.\u001b[39;49m_flush)\n\u001b[0;32m    522\u001b[0m     \u001b[39m# wait for flush to actually get through, if we can.\u001b[39;00m\n\u001b[0;32m    523\u001b[0m     evt \u001b[39m=\u001b[39m threading\u001b[39m.\u001b[39mEvent()\n",
      "File \u001b[1;32mc:\\Users\\Kiki\\AppData\\Local\\Programs\\Python\\Python38\\lib\\site-packages\\ipykernel\\iostream.py:213\u001b[0m, in \u001b[0;36mIOPubThread.schedule\u001b[1;34m(self, f)\u001b[0m\n\u001b[0;32m    211\u001b[0m     \u001b[39mself\u001b[39m\u001b[39m.\u001b[39m_events\u001b[39m.\u001b[39mappend(f)\n\u001b[0;32m    212\u001b[0m     \u001b[39m# wake event thread (message content is ignored)\u001b[39;00m\n\u001b[1;32m--> 213\u001b[0m     \u001b[39mself\u001b[39;49m\u001b[39m.\u001b[39;49m_event_pipe\u001b[39m.\u001b[39;49msend(\u001b[39mb\u001b[39;49m\u001b[39m\"\u001b[39;49m\u001b[39m\"\u001b[39;49m)\n\u001b[0;32m    214\u001b[0m \u001b[39melse\u001b[39;00m:\n\u001b[0;32m    215\u001b[0m     f()\n",
      "File \u001b[1;32mc:\\Users\\Kiki\\AppData\\Local\\Programs\\Python\\Python38\\lib\\site-packages\\zmq\\sugar\\socket.py:688\u001b[0m, in \u001b[0;36mSocket.send\u001b[1;34m(self, data, flags, copy, track, routing_id, group)\u001b[0m\n\u001b[0;32m    681\u001b[0m         data \u001b[39m=\u001b[39m zmq\u001b[39m.\u001b[39mFrame(\n\u001b[0;32m    682\u001b[0m             data,\n\u001b[0;32m    683\u001b[0m             track\u001b[39m=\u001b[39mtrack,\n\u001b[0;32m    684\u001b[0m             copy\u001b[39m=\u001b[39mcopy \u001b[39mor\u001b[39;00m \u001b[39mNone\u001b[39;00m,\n\u001b[0;32m    685\u001b[0m             copy_threshold\u001b[39m=\u001b[39m\u001b[39mself\u001b[39m\u001b[39m.\u001b[39mcopy_threshold,\n\u001b[0;32m    686\u001b[0m         )\n\u001b[0;32m    687\u001b[0m     data\u001b[39m.\u001b[39mgroup \u001b[39m=\u001b[39m group\n\u001b[1;32m--> 688\u001b[0m \u001b[39mreturn\u001b[39;00m \u001b[39msuper\u001b[39;49m()\u001b[39m.\u001b[39;49msend(data, flags\u001b[39m=\u001b[39;49mflags, copy\u001b[39m=\u001b[39;49mcopy, track\u001b[39m=\u001b[39;49mtrack)\n",
      "File \u001b[1;32mzmq\\backend\\cython\\socket.pyx:742\u001b[0m, in \u001b[0;36mzmq.backend.cython.socket.Socket.send\u001b[1;34m()\u001b[0m\n",
      "File \u001b[1;32mzmq\\backend\\cython\\socket.pyx:789\u001b[0m, in \u001b[0;36mzmq.backend.cython.socket.Socket.send\u001b[1;34m()\u001b[0m\n",
      "File \u001b[1;32mzmq\\backend\\cython\\socket.pyx:250\u001b[0m, in \u001b[0;36mzmq.backend.cython.socket._send_copy\u001b[1;34m()\u001b[0m\n",
      "File \u001b[1;32mc:\\Users\\Kiki\\AppData\\Local\\Programs\\Python\\Python38\\lib\\site-packages\\zmq\\backend\\cython\\checkrc.pxd:13\u001b[0m, in \u001b[0;36mzmq.backend.cython.checkrc._check_rc\u001b[1;34m()\u001b[0m\n",
      "\u001b[1;31mKeyboardInterrupt\u001b[0m: "
     ]
    }
   ],
   "source": [
    "for n_qubit in range(1,6):\n",
    "    for logbeta in range(-6,7):\n",
    "        cst = ClassicalShadowTransformer(n_qubit, logbeta).to(device).load()\n",
    "        cst.optimize(10000, max_steps=30000, nsr=32, window=400, n_sample=1000, lr=0.0001)"
   ]
  },
  {
   "cell_type": "markdown",
   "id": "f2c50c7f-21f6-468c-8a19-b2d0403439da",
   "metadata": {},
   "source": [
    "Inspect loss history to determine convergence."
   ]
  },
  {
   "cell_type": "code",
   "execution_count": null,
   "id": "4e6f36ff-4b15-4314-9d2b-a95b5ef97a59",
   "metadata": {},
   "outputs": [
    {
     "data": {
      "text/plain": [
       "[<matplotlib.lines.Line2D at 0x1da65b67cd0>]"
      ]
     },
     "execution_count": 69,
     "metadata": {},
     "output_type": "execute_result"
    },
    {
     "data": {
      "image/png": "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",
      "text/plain": [
       "<Figure size 640x480 with 1 Axes>"
      ]
     },
     "metadata": {},
     "output_type": "display_data"
    }
   ],
   "source": [
    "cst = ClassicalShadowTransformer(5,-4).load()\n",
    "#print(cst.transformer.repara.logvar)\n",
    "plt.plot(cst.loss_history[100:])"
   ]
  },
  {
   "cell_type": "markdown",
   "id": "26302402-5c12-487a-b50b-9e28f016dc0b",
   "metadata": {
    "jp-MarkdownHeadingCollapsed": true,
    "tags": []
   },
   "source": [
    "### Fine Tuning"
   ]
  },
  {
   "cell_type": "markdown",
   "id": "341f4426-d36f-40fb-b97e-c7159f33d432",
   "metadata": {},
   "source": [
    "If necessary, a model can be loaded for fine tuning with smaller training rate to ensure convergence."
   ]
  },
  {
   "cell_type": "code",
   "execution_count": null,
   "id": "944ad39a-2502-48fb-8a21-60bcae7eb23e",
   "metadata": {},
   "outputs": [],
   "source": [
    "cst = ClassicalShadowTransformer(5, -6).load()"
   ]
  },
  {
   "cell_type": "code",
   "execution_count": null,
   "id": "7e850afd-c559-45b6-8b5c-5aae269a082f",
   "metadata": {},
   "outputs": [
    {
     "name": "stdout",
     "output_type": "stream",
     "text": [
      "./model/CST_d64_h16_l1/GHZ_N5_b-6\n",
      "531:  2.87878 -2.87629  0.15949 -0.35431\n"
     ]
    },
    {
     "ename": "KeyboardInterrupt",
     "evalue": "",
     "output_type": "error",
     "traceback": [
      "\u001b[1;31m---------------------------------------------------------------------------\u001b[0m",
      "\u001b[1;31mKeyboardInterrupt\u001b[0m                         Traceback (most recent call last)",
      "Cell \u001b[1;32mIn[71], line 1\u001b[0m\n\u001b[1;32m----> 1\u001b[0m cst\u001b[39m.\u001b[39;49moptimize(\u001b[39m1000\u001b[39;49m, max_steps\u001b[39m=\u001b[39;49m\u001b[39m10000\u001b[39;49m, nsr\u001b[39m=\u001b[39;49m\u001b[39m32\u001b[39;49m, window\u001b[39m=\u001b[39;49m\u001b[39m1000\u001b[39;49m, n_sample\u001b[39m=\u001b[39;49m\u001b[39m1000\u001b[39;49m, lr\u001b[39m=\u001b[39;49m\u001b[39m0.00001\u001b[39;49m)\n",
      "File \u001b[1;32m~\\Documents\\GitHub\\Emergent-Classicality\\CST.py:851\u001b[0m, in \u001b[0;36mClassicalShadowTransformer.optimize\u001b[1;34m(self, steps, max_steps, n_sample, lr, autosave, **kwargs)\u001b[0m\n\u001b[0;32m    849\u001b[0m     \u001b[39mbreak\u001b[39;00m\n\u001b[0;32m    850\u001b[0m \u001b[39mself\u001b[39m\u001b[39m.\u001b[39moptimizer\u001b[39m.\u001b[39mzero_grad()\n\u001b[1;32m--> 851\u001b[0m shadow \u001b[39m=\u001b[39m \u001b[39mself\u001b[39;49m\u001b[39m.\u001b[39;49mshadow(n_sample)\u001b[39m.\u001b[39mto(\u001b[39mself\u001b[39m\u001b[39m.\u001b[39mdevice)\n\u001b[0;32m    852\u001b[0m loss, logprob, kld \u001b[39m=\u001b[39m \u001b[39mself\u001b[39m\u001b[39m.\u001b[39mloss(shadow)\n\u001b[0;32m    853\u001b[0m loss\u001b[39m.\u001b[39mbackward()\n",
      "File \u001b[1;32m~\\Documents\\GitHub\\Emergent-Classicality\\CST.py:780\u001b[0m, in \u001b[0;36mClassicalShadowTransformer.shadow\u001b[1;34m(self, n_sample)\u001b[0m\n\u001b[0;32m    778\u001b[0m out \u001b[39m=\u001b[39m []\n\u001b[0;32m    779\u001b[0m \u001b[39mfor\u001b[39;00m _ \u001b[39min\u001b[39;00m \u001b[39mrange\u001b[39m(n_sample):\n\u001b[1;32m--> 780\u001b[0m     sigma \u001b[39m=\u001b[39m qst\u001b[39m.\u001b[39;49mrandom_pauli_state(\u001b[39mself\u001b[39;49m\u001b[39m.\u001b[39;49mn_qubit)\n\u001b[0;32m    781\u001b[0m     bit \u001b[39m=\u001b[39m rho\u001b[39m.\u001b[39mcopy()\u001b[39m.\u001b[39mmeasure(sigma)[\u001b[39m0\u001b[39m]\n\u001b[0;32m    782\u001b[0m     tok \u001b[39m=\u001b[39m sigma\u001b[39m.\u001b[39mtokenize()\n",
      "File \u001b[1;32m~\\Documents\\GitHub\\Emergent-Classicality\\qst\\stabilizer.py:266\u001b[0m, in \u001b[0;36mrandom_pauli_state\u001b[1;34m(N, r)\u001b[0m\n\u001b[0;32m    265\u001b[0m \u001b[39mdef\u001b[39;00m \u001b[39mrandom_pauli_state\u001b[39m(N, r\u001b[39m=\u001b[39m\u001b[39mNone\u001b[39;00m):\n\u001b[1;32m--> 266\u001b[0m     \u001b[39mreturn\u001b[39;00m random_pauli_map(N)\u001b[39m.\u001b[39mto_state(r)\n",
      "File \u001b[1;32m~\\Documents\\GitHub\\Emergent-Classicality\\qst\\stabilizer.py:217\u001b[0m, in \u001b[0;36mrandom_pauli_map\u001b[1;34m(N)\u001b[0m\n\u001b[0;32m    215\u001b[0m \u001b[39mdef\u001b[39;00m \u001b[39mrandom_pauli_map\u001b[39m(N):\n\u001b[0;32m    216\u001b[0m \u001b[39m    \u001b[39m\u001b[39m'''construct random Pauli map of N qubits.'''\u001b[39;00m\n\u001b[1;32m--> 217\u001b[0m     gs \u001b[39m=\u001b[39m random_pauli(N) \u001b[39m# shape (2*N, 2*N), mapping matrix\u001b[39;00m\n\u001b[0;32m    218\u001b[0m     ps \u001b[39m=\u001b[39m \u001b[39m2\u001b[39m \u001b[39m*\u001b[39m numpy\u001b[39m.\u001b[39mrandom\u001b[39m.\u001b[39mrandint(\u001b[39m0\u001b[39m,\u001b[39m2\u001b[39m,\u001b[39m2\u001b[39m\u001b[39m*\u001b[39mN) \u001b[39m# shape (2*N), phase indicator\u001b[39;00m\n\u001b[0;32m    219\u001b[0m     \u001b[39mreturn\u001b[39;00m CliffordMap(gs, ps)\n",
      "File \u001b[1;32m~\\Documents\\GitHub\\Emergent-Classicality\\qst\\utils.py:418\u001b[0m, in \u001b[0;36mrandom_pauli\u001b[1;34m(N)\u001b[0m\n\u001b[0;32m    416\u001b[0m gs \u001b[39m=\u001b[39m numpy\u001b[39m.\u001b[39mzeros((\u001b[39m2\u001b[39m\u001b[39m*\u001b[39mN,\u001b[39m2\u001b[39m\u001b[39m*\u001b[39mN), dtype\u001b[39m=\u001b[39mnumpy\u001b[39m.\u001b[39mint_)\n\u001b[0;32m    417\u001b[0m \u001b[39mfor\u001b[39;00m i \u001b[39min\u001b[39;00m \u001b[39mrange\u001b[39m(N):\n\u001b[1;32m--> 418\u001b[0m     g1, g2 \u001b[39m=\u001b[39m random_pair(\u001b[39m1\u001b[39;49m)\n\u001b[0;32m    419\u001b[0m     gs[\u001b[39m2\u001b[39m\u001b[39m*\u001b[39mi  ,\u001b[39m2\u001b[39m\u001b[39m*\u001b[39mi:\u001b[39m2\u001b[39m\u001b[39m*\u001b[39mi\u001b[39m+\u001b[39m\u001b[39m2\u001b[39m] \u001b[39m=\u001b[39m g1\n\u001b[0;32m    420\u001b[0m     gs[\u001b[39m2\u001b[39m\u001b[39m*\u001b[39mi\u001b[39m+\u001b[39m\u001b[39m1\u001b[39m,\u001b[39m2\u001b[39m\u001b[39m*\u001b[39mi:\u001b[39m2\u001b[39m\u001b[39m*\u001b[39mi\u001b[39m+\u001b[39m\u001b[39m2\u001b[39m] \u001b[39m=\u001b[39m g2\n",
      "File \u001b[1;32m~\\Documents\\GitHub\\Emergent-Classicality\\qst\\utils.py:397\u001b[0m, in \u001b[0;36mrandom_pair\u001b[1;34m(N)\u001b[0m\n\u001b[0;32m    387\u001b[0m \u001b[39m\u001b[39m\u001b[39m'''Sample an anticommuting pair of random stabilizer and destabilizer.\u001b[39;00m\n\u001b[0;32m    388\u001b[0m \n\u001b[0;32m    389\u001b[0m \u001b[39mParameters:\u001b[39;00m\n\u001b[1;32m   (...)\u001b[0m\n\u001b[0;32m    394\u001b[0m \u001b[39mg2: int (2*N) - binary representation of destabilizer.\u001b[39;00m\n\u001b[0;32m    395\u001b[0m \u001b[39m'''\u001b[39;00m\n\u001b[0;32m    396\u001b[0m g1 \u001b[39m=\u001b[39m numpy\u001b[39m.\u001b[39mrandom\u001b[39m.\u001b[39mrandint(\u001b[39m0\u001b[39m,\u001b[39m2\u001b[39m,\u001b[39m2\u001b[39m\u001b[39m*\u001b[39mN)\n\u001b[1;32m--> 397\u001b[0m g2 \u001b[39m=\u001b[39m numpy\u001b[39m.\u001b[39;49mrandom\u001b[39m.\u001b[39;49mrandint(\u001b[39m0\u001b[39;49m,\u001b[39m2\u001b[39;49m,\u001b[39m2\u001b[39;49m\u001b[39m*\u001b[39;49mN)\n\u001b[0;32m    398\u001b[0m \u001b[39mwhile\u001b[39;00m (g1 \u001b[39m==\u001b[39m \u001b[39m0\u001b[39m)\u001b[39m.\u001b[39mall(): \u001b[39m# resample g1 if it is all zero\u001b[39;00m\n\u001b[0;32m    399\u001b[0m     g1 \u001b[39m=\u001b[39m numpy\u001b[39m.\u001b[39mrandom\u001b[39m.\u001b[39mrandint(\u001b[39m0\u001b[39m,\u001b[39m2\u001b[39m,\u001b[39m2\u001b[39m\u001b[39m*\u001b[39mN)\n",
      "\u001b[1;31mKeyboardInterrupt\u001b[0m: "
     ]
    }
   ],
   "source": [
    "cst.optimize(1000, max_steps=10000, nsr=32, window=1000, n_sample=1000, lr=0.00001)"
   ]
  },
  {
   "cell_type": "markdown",
   "id": "fe082190-6c80-4291-9cd5-2ab3cd4e7e17",
   "metadata": {},
   "source": [
    "## Evaluation"
   ]
  },
  {
   "cell_type": "markdown",
   "id": "76c50cd5-278e-4e2d-8dc7-1232373d5e94",
   "metadata": {
    "jp-MarkdownHeadingCollapsed": true,
    "tags": []
   },
   "source": [
    "### Loss Function History"
   ]
  },
  {
   "cell_type": "code",
   "execution_count": null,
   "id": "1e59c304-8d80-404b-9a5d-eb5373661613",
   "metadata": {},
   "outputs": [
    {
     "data": {
      "image/png": "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",
      "text/plain": [
       "<Figure size 640x480 with 1 Axes>"
      ]
     },
     "metadata": {},
     "output_type": "display_data"
    }
   ],
   "source": [
    "for logbeta in range(-6,7):\n",
    "    cst = ClassicalShadowTransformer(4,logbeta).load()\n",
    "    plt.plot(cst.loss_history)\n",
    "    plt.yscale('log')\n",
    "    plt.xscale('log')\n"
   ]
  },
  {
   "cell_type": "markdown",
   "id": "91772a8c-cb30-4857-ac85-ea80db1c38ba",
   "metadata": {},
   "source": [
    "### Fidelity and Entropy Map"
   ]
  },
  {
   "cell_type": "markdown",
   "id": "6b7ab237-8755-408e-8ee7-95ec4b34812f",
   "metadata": {},
   "source": [
    "Compute fidelity and entropy (in unit of bit) of the reconstructed density matrix."
   ]
  },
  {
   "cell_type": "code",
   "execution_count": 118,
   "id": "2ed2f1f2-7f96-4290-b0c9-19ed8d065f06",
   "metadata": {},
   "outputs": [
    {
     "name": "stdout",
     "output_type": "stream",
     "text": [
      "./model/CST_d64_h16_l1/GHZ_N5_b6\n",
      "F = 0.06341647356748581, S = 4.413327217102051\n"
     ]
    }
   ],
   "source": [
    "data = []\n",
    "for n_qubit in range(1, 6):\n",
    "    for logbeta in range(-6, 7):\n",
    "        cst = ClassicalShadowTransformer(n_qubit, logbeta).load().eval()\n",
    "        with torch.no_grad():\n",
    "            rho = cst.rho().matrix_form()/2**cst.n_qubit # reconstruction\n",
    "        # compute fidelity\n",
    "        fid = (rho[0,0] + rho[-1,-1] + rho[0,-1] + rho[-1,0])/2\n",
    "        fid = fid.real.item()\n",
    "        vals = torch.linalg.eigvalsh(rho)\n",
    "        vals = vals[vals > 0.]\n",
    "        ent = -torch.log2(vals).dot(vals).item()\n",
    "        clear_output(wait=True)\n",
    "        print(cst.path + '/' + cst.file)\n",
    "        print(f'F = {fid}, S = {ent}')\n",
    "        data.append([n_qubit, logbeta, fid, ent])\n",
    "\n"
   ]
  },
  {
   "cell_type": "code",
   "execution_count": 131,
   "id": "2479585a",
   "metadata": {},
   "outputs": [
    {
     "name": "stdout",
     "output_type": "stream",
     "text": [
      "./model/CST_d64_h16_l1/GHZ_N6_b6\n",
      "F = 0.04680816829204559, S = 5.163440704345703\n"
     ]
    }
   ],
   "source": [
    "for n_qubit in range(6, 7):\n",
    "    for logbeta in range(-6, 7):\n",
    "        cst = ClassicalShadowTransformer(n_qubit, logbeta).load().eval()\n",
    "        with torch.no_grad():\n",
    "            rho = cst.rho().matrix_form()/2**cst.n_qubit # reconstruction\n",
    "        # compute fidelity\n",
    "        fid = (rho[0,0] + rho[-1,-1] + rho[0,-1] + rho[-1,0])/2\n",
    "        fid = fid.real.item()\n",
    "        vals = torch.linalg.eigvalsh(rho)\n",
    "        vals = vals[vals > 0.]\n",
    "        ent = -torch.log2(vals).dot(vals).item()\n",
    "        clear_output(wait=True)\n",
    "        print(cst.path + '/' + cst.file)\n",
    "        print(f'F = {fid}, S = {ent}')\n",
    "        data.append([n_qubit, logbeta, fid, ent])"
   ]
  },
  {
   "cell_type": "code",
   "execution_count": 134,
   "id": "ea2bea56",
   "metadata": {},
   "outputs": [
    {
     "data": {
      "image/png": "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",
      "text/plain": [
       "<Figure size 640x480 with 2 Axes>"
      ]
     },
     "metadata": {},
     "output_type": "display_data"
    }
   ],
   "source": [
    "import numpy as np\n",
    "\n",
    "x, y, z, _ = np.array(data).T\n",
    "square_size = 1.0\n",
    "\n",
    "fig, ax = plt.subplots()\n",
    "\n",
    "for x, y, z in zip(x, y, z):\n",
    "    square = plt.Rectangle((x, y), square_size, square_size, color=plt.cm.viridis(z))\n",
    "    ax.add_patch(square)\n",
    "\n",
    "\n",
    "sc = plt.scatter([], [], c=[], cmap='viridis', s=100)\n",
    "plt.colorbar(sc, label='Fidelity')\n",
    "ax.set_xlabel('Number of Qubits')\n",
    "ax.set_ylabel('log2(beta)')\n",
    "plt.show()"
   ]
  },
  {
   "cell_type": "code",
   "execution_count": 133,
   "id": "9ab13a93",
   "metadata": {},
   "outputs": [
    {
     "data": {
      "image/png": "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",
      "text/plain": [
       "<Figure size 640x480 with 2 Axes>"
      ]
     },
     "metadata": {},
     "output_type": "display_data"
    }
   ],
   "source": [
    "import numpy as np\n",
    "\n",
    "x, y, _, z = np.array(data).T\n",
    "square_size = 1.0\n",
    "\n",
    "fig, ax = plt.subplots()\n",
    "\n",
    "for x, y, z in zip(x, y, z):\n",
    "    square = plt.Rectangle((x, y), square_size, square_size, color=plt.cm.viridis(z))\n",
    "    ax.add_patch(square)\n",
    "\n",
    "\n",
    "sc = plt.scatter([], [], c=[], cmap='viridis', s=100)\n",
    "plt.colorbar(sc, label='Entropy')\n",
    "ax.set_xlabel('Number of Qubits')\n",
    "ax.set_ylabel('log2(beta)')\n",
    "plt.show()"
   ]
  },
  {
   "cell_type": "code",
   "execution_count": null,
   "id": "d2f72b89",
   "metadata": {},
   "outputs": [],
   "source": [
    "\n",
    "fig, ax = plt.subplots()\n",
    "\n",
    "for x, y, z in zip(x, y, z):\n",
    "    square = plt.Rectangle((x - square_size / 2, y - square_size / 2), square_size, square_size, color=plt.cm.viridis(z))\n",
    "    ax.add_patch(square)\n",
    "\n",
    "\n",
    "sc = plt.scatter([], [], c=[], cmap='viridis', s=100)\n",
    "plt.colorbar(sc, label='Fidelity')\n",
    "ax.set_xlabel('Number of Qubits')\n",
    "ax.set_ylabel('log2(beta)')\n",
    "plt.show()"
   ]
  },
  {
   "cell_type": "code",
   "execution_count": null,
   "id": "a0367ddc-36d5-4508-bfb7-dfa695b2a726",
   "metadata": {},
   "outputs": [],
   "source": [
    "with open('./data/map.dat', 'wb') as f:\n",
    "    pickle.dump(data, f)"
   ]
  },
  {
   "cell_type": "markdown",
   "id": "8ed405a4-6f0b-42cd-b4ff-22caff3dfab9",
   "metadata": {},
   "source": [
    "Fidelity for 6 qubits (and beyond) can only be estimated by classical shadow tomography. First, prepare the GHZ state density matrix and convert it to Operator class."
   ]
  },
  {
   "cell_type": "code",
   "execution_count": null,
   "id": "68644b36-f216-4ced-85e5-66bed257cd1e",
   "metadata": {},
   "outputs": [],
   "source": [
    "rho = qst.ghz_state(6).density_matrix\n",
    "tok = rho.tokenize()\n",
    "paulis = tok[:,:-1]\n",
    "coeffs = (9.-2.*tok[:,-1]) * rho.cs\n",
    "rho = Operator(torch.tensor(paulis), torch.tensor(coeffs))"
   ]
  },
  {
   "cell_type": "markdown",
   "id": "bd5fe5ab-dc24-41a8-a98d-514cdea21511",
   "metadata": {},
   "source": [
    "Then evaluate the expectation value of the density matrix on the classical shadow ensemble."
   ]
  },
  {
   "cell_type": "code",
   "execution_count": null,
   "id": "e34594ec-fb41-424d-bc98-cd9fdc25027b",
   "metadata": {},
   "outputs": [
    {
     "name": "stdout",
     "output_type": "stream",
     "text": [
      "./model/CST_d128_h16_l2/GHZ_N6_b6\n",
      "F =  0.07216\n",
      "F =  0.06822\n",
      "F =  0.05655\n",
      "F =  0.07230\n",
      "F =  0.08284\n"
     ]
    }
   ],
   "source": [
    "#data = []\n",
    "for logbeta in range(2, 7):\n",
    "    cst = ClassicalShadowTransformer(6, logbeta, embed_dim=128, n_layers=2).load().eval();\n",
    "    clear_output(wait=True)\n",
    "    print(cst.path + '/' + cst.file)\n",
    "    fids = []\n",
    "    for _ in range(5):\n",
    "        shd = cst.sample(100000)\n",
    "        fid = rho.expectation(shd, batch_size=1000).real.item()\n",
    "        print(f'F = {fid:8.5f}')\n",
    "        fids.append(fid)\n",
    "    data.append([6, logbeta, fids])"
   ]
  },
  {
   "cell_type": "code",
   "execution_count": null,
   "id": "1426c031-8a55-480b-9fdf-fb80599ff417",
   "metadata": {},
   "outputs": [],
   "source": [
    "with open('./data/fid6_d128_l2.dat', 'wb') as f:\n",
    "    pickle.dump(data, f)"
   ]
  },
  {
   "cell_type": "markdown",
   "id": "7dd3ac36-744b-4dcf-86d0-558ee85b005e",
   "metadata": {},
   "source": [
    "### Atlas Boreas Cygnus"
   ]
  },
  {
   "cell_type": "markdown",
   "id": "da28ee3a-b4d9-48fa-b126-0683b412af58",
   "metadata": {},
   "source": [
    "Take three representative models."
   ]
  },
  {
   "cell_type": "code",
   "execution_count": null,
   "id": "a6b8d590-e27b-42e2-96af-9b7cc0926288",
   "metadata": {},
   "outputs": [],
   "source": [
    "mdls = {\n",
    "    'atlas': ClassicalShadowTransformer(5, -5).load().eval(),\n",
    "    'boreas': ClassicalShadowTransformer(5, -1).load().eval(),\n",
    "    'cygnus': ClassicalShadowTransformer(5, 6).load().eval()}"
   ]
  },
  {
   "cell_type": "markdown",
   "id": "5a962a6f-221e-492b-a883-66d9854414d2",
   "metadata": {},
   "source": [
    "Chat with the model. Dictionary:\n",
    "\n",
    "| Number | Symbol |\n",
    "|--------|--------|\n",
    "| `1`    | `+`    |\n",
    "| `2`    | `-`    |\n",
    "| `3`    | `I`    |\n",
    "| `4`    | `X`    |\n",
    "| `5`    | `Y`    |\n",
    "| `6`    | `Z`    |\n",
    "\n",
    "* Z-test: `x: ZZZZZ, y:abcd?`, where $a,b,c,d\\in\\{+,-\\}$ \n",
    "* X-test: `x: XXXXX, y:abcd?`, where $a,b,c,d\\in\\{+,-\\}$ \n",
    "* XZ-test: `x: XXXXZ, y:abcd?`, where $a,b,c,d\\in\\{+,-\\}$ \n",
    "\n",
    "Collect data:"
   ]
  },
  {
   "cell_type": "code",
   "execution_count": null,
   "id": "5e74cc48-9519-4807-b7a9-4be665d93ddb",
   "metadata": {},
   "outputs": [
    {
     "ename": "RuntimeError",
     "evalue": "Sizes of tensors must match except in dimension 1. Expected size 16 but got size 3 for tensor number 1 in the list.",
     "output_type": "error",
     "traceback": [
      "\u001b[1;31m---------------------------------------------------------------------------\u001b[0m",
      "\u001b[1;31mRuntimeError\u001b[0m                              Traceback (most recent call last)",
      "Cell \u001b[1;32mIn[80], line 3\u001b[0m\n\u001b[0;32m      1\u001b[0m data \u001b[39m=\u001b[39m {}\n\u001b[0;32m      2\u001b[0m y0 \u001b[39m=\u001b[39m torch\u001b[39m.\u001b[39mcartesian_prod(\u001b[39m*\u001b[39m[torch\u001b[39m.\u001b[39mtensor([\u001b[39m1\u001b[39m,\u001b[39m2\u001b[39m])]\u001b[39m*\u001b[39m\u001b[39m4\u001b[39m)\n\u001b[1;32m----> 3\u001b[0m y \u001b[39m=\u001b[39m torch\u001b[39m.\u001b[39;49mcat([y0,torch\u001b[39m.\u001b[39;49mzeros(y\u001b[39m.\u001b[39;49mshape[\u001b[39m0\u001b[39;49m], dtype\u001b[39m=\u001b[39;49mtorch\u001b[39m.\u001b[39;49mlong)[:,\u001b[39mNone\u001b[39;49;00m]],\u001b[39m1\u001b[39;49m)\n\u001b[0;32m      4\u001b[0m x \u001b[39m=\u001b[39m torch\u001b[39m.\u001b[39mzeros_like(y) \u001b[39m+\u001b[39m \u001b[39m6\u001b[39m\n\u001b[0;32m      5\u001b[0m data[\u001b[39m'\u001b[39m\u001b[39mobs\u001b[39m\u001b[39m'\u001b[39m] \u001b[39m=\u001b[39m y0\u001b[39m.\u001b[39mtolist()\n",
      "\u001b[1;31mRuntimeError\u001b[0m: Sizes of tensors must match except in dimension 1. Expected size 16 but got size 3 for tensor number 1 in the list."
     ]
    }
   ],
   "source": [
    "data = {}\n",
    "y0 = torch.cartesian_prod(*[torch.tensor([1,2])]*4)\n",
    "y = torch.cat([y0,torch.zeros(y.shape[0], dtype=torch.long)[:,None]],1)\n",
    "x = torch.zeros_like(y) + 6\n",
    "data['obs'] = y0.tolist()\n",
    "with torch.no_grad():\n",
    "    for name, mdl in mdls.items():\n",
    "        logit = mdl.transformer(x, y)[:,-1]\n",
    "        data[name] = logit.tolist()\n",
    "with open('./data/z_test.dat', 'wb') as f:\n",
    "    pickle.dump(data, f)"
   ]
  },
  {
   "cell_type": "code",
   "execution_count": null,
   "id": "b9f049cb-d9ea-4102-9d7a-7bfa5a8bcf7e",
   "metadata": {},
   "outputs": [],
   "source": [
    "data = {}\n",
    "y0 = torch.cartesian_prod(*[torch.tensor([1,2])]*4)\n",
    "y = torch.cat([y0,torch.zeros(y.shape[0], dtype=torch.long)[:,None]],1)\n",
    "x = torch.zeros_like(y) + 4\n",
    "data['obs'] = y0.tolist()\n",
    "with torch.no_grad():\n",
    "    for name, mdl in mdls.items():\n",
    "        logit = mdl.transformer(x, y)[:,-1]\n",
    "        data[name] = logit.tolist()\n",
    "with open('./data/x_test.dat', 'wb') as f:\n",
    "    pickle.dump(data, f)"
   ]
  },
  {
   "cell_type": "code",
   "execution_count": null,
   "id": "0121429e-5222-4e59-b325-1c373153d27d",
   "metadata": {},
   "outputs": [],
   "source": [
    "data = {}\n",
    "y0 = torch.cartesian_prod(*[torch.tensor([1,2])]*4)\n",
    "y = torch.cat([y0,torch.zeros(y.shape[0], dtype=torch.long)[:,None]],1)\n",
    "x = torch.zeros_like(y) + 4\n",
    "x[:,-1] = 6\n",
    "data['obs'] = y0.tolist()\n",
    "with torch.no_grad():\n",
    "    for name, mdl in mdls.items():\n",
    "        logit = mdl.transformer(x, y)[:,-1]\n",
    "        data[name] = logit.tolist()\n",
    "with open('./data/xz_test.dat', 'wb') as f:\n",
    "    pickle.dump(data, f)"
   ]
  },
  {
   "cell_type": "markdown",
   "id": "b4121d1b-7b9b-4d56-8a91-9f417bd111d4",
   "metadata": {},
   "source": [
    "### Density Matrix Reconstruction"
   ]
  },
  {
   "cell_type": "markdown",
   "id": "d13ffa88-acd2-4ae2-9780-7bf3756fbad8",
   "metadata": {},
   "source": [
    "Reconstruct density matrices for representative models."
   ]
  },
  {
   "cell_type": "code",
   "execution_count": null,
   "id": "f5c7d2ef-8f38-4ee0-bdb2-69a2f8d20406",
   "metadata": {},
   "outputs": [],
   "source": [
    "data = {}\n",
    "for name, mdl in mdls.items():\n",
    "    with torch.no_grad():\n",
    "        rho = mdl.rho().matrix_form()/2**mdl.n_qubit # reconstruction\n",
    "    data[name] = rho.tolist()\n",
    "with open('./data/rhos.dat', 'wb') as f:\n",
    "    pickle.dump(data, f)"
   ]
  },
  {
   "cell_type": "markdown",
   "id": "6e9ee244-b0d1-4b1d-ac86-9480ede70816",
   "metadata": {},
   "source": [
    "### Latent Space Structure"
   ]
  },
  {
   "cell_type": "code",
   "execution_count": null,
   "id": "96276cb9-cb86-44c7-b1db-bfc53ebefc1f",
   "metadata": {},
   "outputs": [],
   "source": [
    "from sklearn.manifold import TSNE\n",
    "tsne = TSNE(2)\n",
    "x = torch.cartesian_prod(*[torch.tensor([4,5,6])]*5)\n",
    "data = {'x': (x-3).tolist()}\n",
    "for name, mdl in mdls.items():\n",
    "    with torch.no_grad():\n",
    "        src = mdl.transformer.embed(x)\n",
    "        mem = mdl.transformer.encode(src)\n",
    "    mem = mem.view(mem.shape[0],-1)\n",
    "    z = tsne.fit_transform(mem)\n",
    "    data[name] = z.tolist()\n",
    "with open('./data/z_embed.dat', 'wb') as f:\n",
    "    pickle.dump(data, f)"
   ]
  },
  {
   "cell_type": "code",
   "execution_count": null,
   "id": "25f8a2d9-d199-4188-8bb3-76c68ba4a9ec",
   "metadata": {},
   "outputs": [],
   "source": []
  }
 ],
 "metadata": {
  "kernelspec": {
   "display_name": "Python 3 (ipykernel)",
   "language": "python",
   "name": "python3"
  },
  "language_info": {
   "codemirror_mode": {
    "name": "ipython",
    "version": 3
   },
   "file_extension": ".py",
   "mimetype": "text/x-python",
   "name": "python",
   "nbconvert_exporter": "python",
   "pygments_lexer": "ipython3",
   "version": "3.8.10"
  }
 },
 "nbformat": 4,
 "nbformat_minor": 5
}
