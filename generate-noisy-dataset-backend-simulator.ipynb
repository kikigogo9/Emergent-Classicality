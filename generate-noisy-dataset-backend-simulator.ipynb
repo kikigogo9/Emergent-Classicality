{
 "cells": [
  {
   "cell_type": "code",
   "execution_count": 1,
   "id": "1dfcf212",
   "metadata": {},
   "outputs": [],
   "source": [
    "# Import the necessary libraries\n",
    "from qiskit import QuantumCircuit, transpile, Aer, execute\n",
    "import matplotlib.pyplot as plt\n",
    "import random\n",
    "import pandas as pd\n",
    "import numpy as np\n",
    "from qiskit.quantum_info import DensityMatrix\n",
    "import pickle #For exporting the variables\n",
    "from tqdm import tqdm\n",
    "\n",
    "from qiskit import QuantumCircuit\n",
    "from qiskit.providers.fake_provider import FakePerth\n",
    "from qiskit import transpile\n",
    "from qiskit.tools.visualization import plot_histogram\n",
    "from qiskit.providers.ibmq import IBMQ\n",
    "from qiskit.providers.aer import AerSimulator"
   ]
  },
  {
   "cell_type": "code",
   "execution_count": 4,
   "id": "f1dc4ff4",
   "metadata": {},
   "outputs": [
    {
     "ename": "IBMQAccountCredentialsNotFound",
     "evalue": "'No IBM Quantum Experience credentials found on disk.'",
     "output_type": "error",
     "traceback": [
      "\u001b[0;31m---------------------------------------------------------------------------\u001b[0m",
      "\u001b[0;31mIBMQAccountCredentialsNotFound\u001b[0m            Traceback (most recent call last)",
      "\u001b[0;32m/tmp/ipykernel_157365/2459858502.py\u001b[0m in \u001b[0;36m<module>\u001b[0;34m\u001b[0m\n\u001b[1;32m      1\u001b[0m \u001b[0;31m# load ibm-q acc\u001b[0m\u001b[0;34m\u001b[0m\u001b[0;34m\u001b[0m\u001b[0m\n\u001b[0;32m----> 2\u001b[0;31m \u001b[0mIBMQ\u001b[0m\u001b[0;34m.\u001b[0m\u001b[0mdelete_account\u001b[0m\u001b[0;34m(\u001b[0m\u001b[0;34m)\u001b[0m\u001b[0;34m\u001b[0m\u001b[0m\n\u001b[0m\u001b[1;32m      3\u001b[0m \u001b[0mprint\u001b[0m\u001b[0;34m(\u001b[0m\u001b[0mIBMQ\u001b[0m\u001b[0;34m.\u001b[0m\u001b[0mactive_account\u001b[0m\u001b[0;34m(\u001b[0m\u001b[0;34m)\u001b[0m\u001b[0;34m)\u001b[0m\u001b[0;34m\u001b[0m\u001b[0m\n",
      "\u001b[0;32m~/miniconda3/envs/trialqule/lib/python3.7/site-packages/qiskit/providers/ibmq/ibmqfactory.py\u001b[0m in \u001b[0;36mdelete_account\u001b[0;34m()\u001b[0m\n\u001b[1;32m    291\u001b[0m         \u001b[0;32mif\u001b[0m \u001b[0;32mnot\u001b[0m \u001b[0mstored_credentials\u001b[0m\u001b[0;34m:\u001b[0m\u001b[0;34m\u001b[0m\u001b[0m\n\u001b[1;32m    292\u001b[0m             raise IBMQAccountCredentialsNotFound(\n\u001b[0;32m--> 293\u001b[0;31m                 'No IBM Quantum Experience credentials found on disk.')\n\u001b[0m\u001b[1;32m    294\u001b[0m \u001b[0;34m\u001b[0m\u001b[0m\n\u001b[1;32m    295\u001b[0m         \u001b[0;32mif\u001b[0m \u001b[0mlen\u001b[0m\u001b[0;34m(\u001b[0m\u001b[0mstored_credentials\u001b[0m\u001b[0;34m)\u001b[0m \u001b[0;34m!=\u001b[0m \u001b[0;36m1\u001b[0m\u001b[0;34m:\u001b[0m\u001b[0;34m\u001b[0m\u001b[0m\n",
      "\u001b[0;31mIBMQAccountCredentialsNotFound\u001b[0m: 'No IBM Quantum Experience credentials found on disk.'"
     ]
    }
   ],
   "source": [
    "# load ibm-q acc\n",
    "IBMQ.delete_account()\n",
    "print(IBMQ.active_account())"
   ]
  },
  {
   "cell_type": "code",
   "execution_count": 6,
   "id": "717d3fbe",
   "metadata": {},
   "outputs": [],
   "source": [
    "IBMQ.save_account(\"87702973231459fc9d5e341987cc22103b9dc42f76ef6bce251fc0205e80b2b947da639ca062a8af16b1d2096b4c8ca1250861a96d7d21395fcd67728bf0df89\", overwrite=True)"
   ]
  },
  {
   "cell_type": "code",
   "execution_count": 7,
   "id": "f8e663ba",
   "metadata": {},
   "outputs": [],
   "source": [
    "def initialize_all_zeros(nr_qubits):\n",
    "    # Create a quantum circuit with N qubits\n",
    "    qc = QuantumCircuit(nr_qubits)\n",
    "    \n",
    "    # Initialize all qubits in the |0⟩ state\n",
    "    for qubit in range(nr_qubits):\n",
    "        qc.initialize([1, 0], qubit)\n",
    "    \n",
    "    return qc\n",
    "\n",
    "def apply_cnot_chain(qc, control_qubit, nr_qubits):\n",
    "    # Apply CNOT gates from the control qubit to the list of target qubits\n",
    "    for target_qubit in range(nr_qubits-1):\n",
    "        qc.cx(control_qubit, target_qubit+1)\n",
    "\n",
    "# def random_measurement_basis(nr_qubits): #applies to 1 qubit\n",
    "#     measurement_basis = [1, 2, 3]\n",
    "#     return [random.choice(measurement_basis) for _ in range(nr_qubits)]\n",
    "\n",
    "def measurement_bases_N(nr_qubits):\n",
    "    # Generate nr_qubits random numbers from the set {x=1, y=2, z=3}\n",
    "    # random_bases = np.random.choice([1, 2, 3], size=nr_qubits) # X=1 Y=2 Z=3\n",
    "\n",
    "    random_bases = np.random.choice([1, 2, 3], size=nr_qubits)\n",
    "\n",
    "    return random_bases\n",
    "\n"
   ]
  },
  {
   "cell_type": "code",
   "execution_count": 9,
   "id": "2e6f9589",
   "metadata": {},
   "outputs": [
    {
     "name": "stdout",
     "output_type": "stream",
     "text": [
      "['ibmq_qasm_simulator', 'simulator_statevector', 'simulator_mps', 'simulator_extended_stabilizer', 'simulator_stabilizer', 'ibm_lagos', 'ibm_nairobi', 'ibm_perth', 'ibm_brisbane']\n"
     ]
    }
   ],
   "source": [
    "provider = IBMQ.load_account()\n",
    "print([backend.name() for backend in IBMQ.providers()[0].backends()])"
   ]
  },
  {
   "cell_type": "code",
   "execution_count": 10,
   "id": "e5a91fe5",
   "metadata": {},
   "outputs": [
    {
     "name": "stdout",
     "output_type": "stream",
     "text": [
      "ibm_nairobi\n"
     ]
    }
   ],
   "source": [
    "# least busy backend\n",
    "from qiskit.providers.ibmq import least_busy\n",
    "backend_free = least_busy(provider.backends(filters= lambda x: not x.configuration().simulator))\n",
    "print(backend_free)"
   ]
  },
  {
   "cell_type": "code",
   "execution_count": 14,
   "id": "80ebe43f",
   "metadata": {},
   "outputs": [],
   "source": [
    "backend = provider.get_backend('ibm_nairobi')"
   ]
  },
  {
   "cell_type": "code",
   "execution_count": 16,
   "id": "54dd8f38",
   "metadata": {},
   "outputs": [
    {
     "name": "stdout",
     "output_type": "stream",
     "text": [
      "This backend is called ibm_nairobi, and is on version 1.3.3. It has 7 qubits. It does not support OpenPulse programs. The basis gates supported on this device are ['id', 'rz', 'sx', 'x', 'cx', 'reset'].\n"
     ]
    }
   ],
   "source": [
    "# backend info for interpretation\n",
    "\n",
    "config = backend.configuration()\n",
    "print(\"This backend is called {0}, and is on version {1}. It has {2} qubit{3}. It \"\n",
    "      \"{4} OpenPulse programs. The basis gates supported on this device are {5}.\"\n",
    "      \"\".format(config.backend_name,\n",
    "                config.backend_version,\n",
    "                config.n_qubits,\n",
    "                '' if config.n_qubits == 1 else 's',\n",
    "                'supports' if config.open_pulse else 'does not support',\n",
    "                config.basis_gates))"
   ]
  },
  {
   "cell_type": "code",
   "execution_count": 17,
   "id": "fa82a414",
   "metadata": {},
   "outputs": [],
   "source": [
    "props = backend.properties()\n",
    "def describe_qubit(qubit, properties):\n",
    "    \"\"\"Print a string describing some of reported properties of the given qubit.\"\"\"\n",
    "\n",
    "    # Conversion factors from standard SI units\n",
    "    us = 1e6\n",
    "    ns = 1e9\n",
    "    GHz = 1e-9\n",
    "\n",
    "    print(\"Qubit {0} has a \\n\"\n",
    "          \"  - T1 time of {1} microseconds\\n\"\n",
    "          \"  - T2 time of {2} microseconds\\n\"\n",
    "          \"  - U2 gate error of {3}\\n\"\n",
    "          \"  - U2 gate duration of {4} nanoseconds\\n\"\n",
    "          \"  - resonant frequency of {5} GHz\".format(\n",
    "              qubit,\n",
    "              properties.t1(qubit) * us,\n",
    "              properties.t2(qubit) * us,\n",
    "              properties.gate_error('sx', qubit),\n",
    "              properties.gate_length('sx', qubit) * ns,\n",
    "              properties.frequency(qubit) * GHz))"
   ]
  },
  {
   "cell_type": "code",
   "execution_count": 21,
   "id": "3f91eece",
   "metadata": {},
   "outputs": [
    {
     "name": "stdout",
     "output_type": "stream",
     "text": [
      "Qubit 0 has a \n",
      "  - T1 time of 62.897228108691934 microseconds\n",
      "  - T2 time of 29.3308587174565 microseconds\n",
      "  - U2 gate error of 0.00027313783815884665\n",
      "  - U2 gate duration of 35.55555555555556 nanoseconds\n",
      "  - resonant frequency of 5.260485684922551 GHz\n",
      "Qubit 1 has a \n",
      "  - T1 time of 63.781351239657525 microseconds\n",
      "  - T2 time of 84.38983380886546 microseconds\n",
      "  - U2 gate error of 0.00026662702376520006\n",
      "  - U2 gate duration of 35.55555555555556 nanoseconds\n",
      "  - resonant frequency of 5.17044166224392 GHz\n",
      "Qubit 2 has a \n",
      "  - T1 time of 99.19033222770494 microseconds\n",
      "  - T2 time of 121.97531392588765 microseconds\n",
      "  - U2 gate error of 0.00025832009687682246\n",
      "  - U2 gate duration of 35.55555555555556 nanoseconds\n",
      "  - resonant frequency of 5.274335093198603 GHz\n",
      "Qubit 3 has a \n",
      "  - T1 time of 109.70778855763636 microseconds\n",
      "  - T2 time of 56.797368652841996 microseconds\n",
      "  - U2 gate error of 0.00039261763960023936\n",
      "  - U2 gate duration of 35.55555555555556 nanoseconds\n",
      "  - resonant frequency of 5.026597148994701 GHz\n",
      "Qubit 4 has a \n",
      "  - T1 time of 85.44121815394459 microseconds\n",
      "  - T2 time of 72.71303916370029 microseconds\n",
      "  - U2 gate error of 0.0002704240548121217\n",
      "  - U2 gate duration of 35.55555555555556 nanoseconds\n",
      "  - resonant frequency of 5.177190079049954 GHz\n",
      "Qubit 5 has a \n",
      "  - T1 time of 87.6903949092879 microseconds\n",
      "  - T2 time of 20.549236916942213 microseconds\n",
      "  - U2 gate error of 0.0005380705317404166\n",
      "  - U2 gate duration of 35.55555555555556 nanoseconds\n",
      "  - resonant frequency of 5.2927316772388195 GHz\n",
      "Qubit 6 has a \n",
      "  - T1 time of 126.26450675522332 microseconds\n",
      "  - T2 time of 159.68957148125395 microseconds\n",
      "  - U2 gate error of 0.00014568301357996974\n",
      "  - U2 gate duration of 35.55555555555556 nanoseconds\n",
      "  - resonant frequency of 5.128690027980554 GHz\n"
     ]
    }
   ],
   "source": [
    "n_qubits = config.n_qubits\n",
    "for i in range(n_qubits):\n",
    "    describe_qubit(i, props)"
   ]
  },
  {
   "cell_type": "code",
   "execution_count": 8,
   "id": "b1247384",
   "metadata": {},
   "outputs": [
    {
     "name": "stderr",
     "output_type": "stream",
     "text": [
      "  0%|                                                    | 0/20 [00:07<?, ?it/s]\n"
     ]
    },
    {
     "ename": "QiskitBackendNotFoundError",
     "evalue": "'No backend matches the criteria'",
     "output_type": "error",
     "traceback": [
      "\u001b[0;31m---------------------------------------------------------------------------\u001b[0m",
      "\u001b[0;31mQiskitBackendNotFoundError\u001b[0m                Traceback (most recent call last)",
      "\u001b[0;32m/tmp/ipykernel_157365/419630767.py\u001b[0m in \u001b[0;36m<module>\u001b[0;34m\u001b[0m\n\u001b[1;32m     46\u001b[0m \u001b[0;34m\u001b[0m\u001b[0m\n\u001b[1;32m     47\u001b[0m     \u001b[0mprovider\u001b[0m \u001b[0;34m=\u001b[0m \u001b[0mIBMQ\u001b[0m\u001b[0;34m.\u001b[0m\u001b[0mload_account\u001b[0m\u001b[0;34m(\u001b[0m\u001b[0;34m)\u001b[0m\u001b[0;34m\u001b[0m\u001b[0m\n\u001b[0;32m---> 48\u001b[0;31m     \u001b[0mbackend\u001b[0m \u001b[0;34m=\u001b[0m \u001b[0mprovider\u001b[0m\u001b[0;34m.\u001b[0m\u001b[0mget_backend\u001b[0m\u001b[0;34m(\u001b[0m\u001b[0;34m'ibmq_perth'\u001b[0m\u001b[0;34m)\u001b[0m\u001b[0;34m\u001b[0m\u001b[0m\n\u001b[0m\u001b[1;32m     49\u001b[0m \u001b[0;34m\u001b[0m\u001b[0m\n\u001b[1;32m     50\u001b[0m     \u001b[0mbackend_sim\u001b[0m \u001b[0;34m=\u001b[0m \u001b[0mAerSimulator\u001b[0m\u001b[0;34m.\u001b[0m\u001b[0mfrom_backend\u001b[0m\u001b[0;34m(\u001b[0m\u001b[0mbackend\u001b[0m\u001b[0;34m)\u001b[0m\u001b[0;34m\u001b[0m\u001b[0m\n",
      "\u001b[0;32m~/miniconda3/envs/trialqule/lib/python3.7/site-packages/qiskit/providers/provider.py\u001b[0m in \u001b[0;36mget_backend\u001b[0;34m(self, name, **kwargs)\u001b[0m\n\u001b[1;32m     53\u001b[0m             \u001b[0;32mraise\u001b[0m \u001b[0mQiskitBackendNotFoundError\u001b[0m\u001b[0;34m(\u001b[0m\u001b[0;34m\"More than one backend matches the criteria\"\u001b[0m\u001b[0;34m)\u001b[0m\u001b[0;34m\u001b[0m\u001b[0m\n\u001b[1;32m     54\u001b[0m         \u001b[0;32mif\u001b[0m \u001b[0;32mnot\u001b[0m \u001b[0mbackends\u001b[0m\u001b[0;34m:\u001b[0m\u001b[0;34m\u001b[0m\u001b[0m\n\u001b[0;32m---> 55\u001b[0;31m             \u001b[0;32mraise\u001b[0m \u001b[0mQiskitBackendNotFoundError\u001b[0m\u001b[0;34m(\u001b[0m\u001b[0;34m\"No backend matches the criteria\"\u001b[0m\u001b[0;34m)\u001b[0m\u001b[0;34m\u001b[0m\u001b[0m\n\u001b[0m\u001b[1;32m     56\u001b[0m \u001b[0;34m\u001b[0m\u001b[0m\n\u001b[1;32m     57\u001b[0m         \u001b[0;32mreturn\u001b[0m \u001b[0mbackends\u001b[0m\u001b[0;34m[\u001b[0m\u001b[0;36m0\u001b[0m\u001b[0;34m]\u001b[0m\u001b[0;34m\u001b[0m\u001b[0m\n",
      "\u001b[0;31mQiskitBackendNotFoundError\u001b[0m: 'No backend matches the criteria'"
     ]
    }
   ],
   "source": [
    "nr_qubits = 6\n",
    "\n",
    "n_sample = 20 #amount of times the shadows are generated and measured with 1 shot each\n",
    "\n",
    "# Initialize a list to store the rows\n",
    "rows = []\n",
    "\n",
    "# Initialize an empty list to store the measured result and bases in the correct format for the AI model\n",
    "measurement_results_in_specific_format = np.zeros((n_sample,nr_qubits), dtype=int)\n",
    "measurement_bases_in_specific_format = []\n",
    "\n",
    "for _ in tqdm(range(n_sample)):\n",
    "    # Create a quantum circuit with N qubits\n",
    "    qc = initialize_all_zeros(nr_qubits)\n",
    "\n",
    "    control_qubit = 0 #Usually just the first qubit. Hardcoded because we don't need the control\n",
    "\n",
    "\n",
    "    # Apply a Hadamard gate to qubit 0\n",
    "    qc.h(control_qubit)\n",
    "\n",
    "    apply_cnot_chain(qc, control_qubit, nr_qubits)\n",
    "\n",
    "    # Choose random measurement basis for each qubit\n",
    "    measurement_bases = measurement_bases_N(nr_qubits)\n",
    "    \n",
    "    # measurement_bases = np.array([1, 1, 1, 3]) #To check a specific case\n",
    "    # print('measurement_bases', measurement_bases)\n",
    "\n",
    "    # Store the measurement bases in the list    \n",
    "    measurement_bases_in_specific_format.append(measurement_bases)\n",
    "    \n",
    "\n",
    "    # Apply the measurement bases to the qubits\n",
    "    for qubit in range(nr_qubits):\n",
    "        if measurement_bases[qubit] == 1:\n",
    "            qc.h(qubit)\n",
    "        elif measurement_bases[qubit] == 2:\n",
    "            qc.sdg(qubit)\n",
    "            qc.h(qubit)\n",
    "\n",
    "    # Add measurements for all qubits in the Z basis\n",
    "    qc.measure_all()\n",
    "    \n",
    "\n",
    "\n",
    "    \n",
    "    backend_sim = AerSimulator.from_backend(backend)\n",
    "    \n",
    "    job = execute(qc, backend_sim, shots=1)\n",
    "    result = job.result()\n",
    "    counts = result.get_counts(qc)\n",
    "\n",
    "    # Iterate through the qubits and add their measurement results to the list\n",
    "    for qubit in range(nr_qubits):\n",
    "        basis = measurement_bases[qubit]\n",
    "        result = int(list(counts.keys())[0][nr_qubits - 1 - qubit])  # Extract the result\n",
    "        rows.append(pd.DataFrame({\"Measurement Basis\": [basis], \"Measured Result\": [result]}))\n",
    "        \n",
    "        measurement_results_in_specific_format[_][qubit] = result\n",
    "    \n",
    "    # print(measurement_results_in_specific_format[_]) #To compare them to the ones in the paper\n",
    "\n",
    "    # Concatenate the rows into the DataFrame and reset the index\n",
    "    df = pd.concat(rows, ignore_index=True)\n",
    "\n",
    "    \n",
    "\n",
    "# Display the DataFrame\n",
    "# print('df',df)\n",
    "\n",
    "obs_before_tensor = measurement_bases_in_specific_format\n",
    "# print('obs_before_tensor', obs_before_tensor)\n",
    "\n",
    "out_before_tensor = [np.array(row) for row in measurement_results_in_specific_format]\n",
    "# print('out_before_tensor', out_before_tensor)\n",
    "\n",
    "\n",
    "\n",
    "\n",
    "# Create a dictionary to store your variables\n",
    "variables_to_export = {\n",
    "    'obs_before_tensor': obs_before_tensor,\n",
    "    'out_before_tensor': out_before_tensor\n",
    "}\n",
    "\n",
    "# Export the dictionary to a file\n",
    "with open(f'data/exported_noisy_qubits_{nr_qubits}_samples_{n_sample}.pkl', 'wb') as file:\n",
    "    pickle.dump(variables_to_export, file)\n",
    "\n"
   ]
  },
  {
   "cell_type": "code",
   "execution_count": null,
   "id": "74f007b6",
   "metadata": {},
   "outputs": [],
   "source": []
  }
 ],
 "metadata": {
  "kernelspec": {
   "display_name": "Python 3 (ipykernel)",
   "language": "python",
   "name": "python3"
  },
  "language_info": {
   "codemirror_mode": {
    "name": "ipython",
    "version": 3
   },
   "file_extension": ".py",
   "mimetype": "text/x-python",
   "name": "python",
   "nbconvert_exporter": "python",
   "pygments_lexer": "ipython3",
   "version": "3.7.0"
  }
 },
 "nbformat": 4,
 "nbformat_minor": 5
}
