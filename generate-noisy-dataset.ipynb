{
 "cells": [
  {
   "cell_type": "code",
   "execution_count": 1,
   "id": "a178c5ff",
   "metadata": {},
   "outputs": [],
   "source": [
    "from qiskit import QuantumCircuit, transpile, Aer, execute\n",
    "import matplotlib.pyplot as plt\n",
    "import random\n",
    "import pandas as pd\n",
    "import numpy as np\n",
    "from qiskit.quantum_info import DensityMatrix\n",
    "import torch\n",
    "import pickle  # For exporting the variables\n",
    "from tqdm import tqdm\n"
   ]
  },
  {
   "cell_type": "code",
   "execution_count": 2,
   "id": "8b467d89",
   "metadata": {},
   "outputs": [],
   "source": [
    "def initialize_all_zeros(nr_qubits):\n",
    "    # Create a quantum circuit with N qubits\n",
    "    qc = QuantumCircuit(nr_qubits)\n",
    "\n",
    "    # Initialize all qubits in the |0⟩ state\n",
    "    for qubit in range(nr_qubits):\n",
    "        qc.initialize([1, 0], qubit)\n",
    "\n",
    "    return qc"
   ]
  },
  {
   "cell_type": "code",
   "execution_count": 3,
   "id": "fc7a56f8",
   "metadata": {},
   "outputs": [],
   "source": [
    "def apply_cnot_chain(qc, control_qubit, nr_qubits):\n",
    "    # Apply CNOT gates from the control qubit to the list of target qubits\n",
    "    for target_qubit in range(nr_qubits-1):\n",
    "        qc.cx(control_qubit, target_qubit+1)\n",
    "\n",
    "# def random_measurement_basis(nr_qubits): #applies to 1 qubit\n",
    "#     measurement_basis = [1, 2, 3]\n",
    "#     return [random.choice(measurement_basis) for _ in range(nr_qubits)]\n",
    "\n",
    "\n",
    "def measurement_bases_N(nr_qubits):\n",
    "    # Generate nr_qubits random numbers from the set {x=1, y=2, z=3}\n",
    "    # random_bases = np.random.choice([1, 2, 3], size=nr_qubits) # X=1 Y=2 Z=3\n",
    "\n",
    "    random_bases = np.random.choice([1, 2, 3], size=nr_qubits)\n",
    "\n",
    "    return random_bases"
   ]
  },
  {
   "cell_type": "code",
   "execution_count": 4,
   "id": "690e5edf",
   "metadata": {},
   "outputs": [
    {
     "name": "stderr",
     "output_type": "stream",
     "text": [
      "100%|███████████████████████████████████████| 200/200 [00:00<00:00, 1205.06it/s]\n"
     ]
    }
   ],
   "source": [
    "if __name__ == \"__main__\":\n",
    "    nr_qubits = 7\n",
    "    n_sample = 200  # amount of times the shadows are generated and measured with 1 shot each\n",
    "\n",
    "    # Initialize a list to store the rows\n",
    "    rows = []\n",
    "\n",
    "    # Initialize an empty list to store the measured result and bases in the correct format for the AI model\n",
    "    measurement_results_in_specific_format = np.zeros(\n",
    "        (n_sample, nr_qubits), dtype=int)\n",
    "    measurement_bases_in_specific_format = []\n",
    "\n",
    "    simulator = Aer.get_backend('aer_simulator')\n",
    "\n",
    "    for i in tqdm(range(n_sample)):\n",
    "        # Create a quantum circuit with N qubits\n",
    "        qc = initialize_all_zeros(nr_qubits)\n",
    "\n",
    "        # Usually just the first qubit. Hardcoded because we don't need the control\n",
    "        control_qubit = 0\n",
    "\n",
    "        # Apply a Hadamard gate to qubit 0\n",
    "        qc.h(control_qubit)\n",
    "\n",
    "        apply_cnot_chain(qc, control_qubit, nr_qubits)\n",
    "\n",
    "        # Choose random measurement basis for each qubit\n",
    "        measurement_bases = measurement_bases_N(nr_qubits)\n",
    "\n",
    "        # measurement_bases = np.array([1, 1, 1, 3]) #To check a specific case\n",
    "        # print('measurement_bases', measurement_bases)\n",
    "\n",
    "        # Store the measurement bases in the list\n",
    "        measurement_bases_in_specific_format.append(measurement_bases)\n",
    "\n",
    "        # Apply the measurement bases to the qubits\n",
    "        for qubit in range(nr_qubits):\n",
    "            if measurement_bases[qubit] == 1:\n",
    "                qc.h(qubit)\n",
    "            elif measurement_bases[qubit] == 2:\n",
    "                qc.sdg(qubit)\n",
    "                qc.h(qubit)\n",
    "\n",
    "        # Add measurements for all qubits in the Z basis\n",
    "        qc.measure_all()\n"
   ]
  },
  {
   "cell_type": "code",
   "execution_count": 11,
   "id": "3c3ff808",
   "metadata": {},
   "outputs": [
    {
     "name": "stdout",
     "output_type": "stream",
     "text": [
      "200\n"
     ]
    }
   ],
   "source": [
    "job = execute(qc, simulator, shots=1)\n",
    "result = job.result()\n",
    "counts = result.get_counts(qc)\n",
    "\n",
    "        # Iterate through the qubits and add their measurement results to the list\n",
    "for qubit in range(nr_qubits):\n",
    "    basis = measurement_bases[qubit]\n",
    "            # Extract the result\n",
    "    result = int(list(counts.keys())[0][nr_qubits - 1 - qubit])\n",
    "    rows.append(pd.DataFrame(\n",
    "                {\"Measurement Basis\": [basis], \"Measured Result\": [result]}))\n",
    "\n",
    "    measurement_results_in_specific_format[i][qubit] = result\n",
    "\n",
    "        # print(measurement_results_in_specific_format[_]) #To compare them to the ones in the paper\n",
    "\n",
    "        # Concatenate the rows into the DataFrame and reset the index\n",
    "    df = pd.concat(rows, ignore_index=True)\n",
    "\n",
    "        # Display the DataFrame\n",
    "        # print('df',df)\n",
    "\n",
    "obs_before_tensor = measurement_bases_in_specific_format\n",
    "    # print('obs_before_tensor', obs_before_tensor)\n",
    "\n",
    "out_before_tensor = [np.array(row) for row in measurement_results_in_specific_format]\n",
    "    # print('out_before_tensor', out_before_tensor)\n",
    "    # Create a dictionary to store your variables\n",
    "variables_to_export = {\n",
    "    'obs_before_tensor': obs_before_tensor,\n",
    "    'out_before_tensor': out_before_tensor\n",
    "    }\n",
    "    \n",
    "path = f'data/exported_qubits_{nr_qubits}_samples_{n_sample}.pkl'\n",
    "\n",
    "try:\n",
    "    with open(path, 'rb') as file:\n",
    "        loaded_variables = pickle.load(file)\n",
    "except FileNotFoundError:\n",
    "    loaded_variables = {\n",
    "    'obs_before_tensor': [],\n",
    "    'out_before_tensor': []\n",
    "}\n",
    "except Exception:\n",
    "    loaded_variables = None\n",
    "\n",
    "\n",
    "if loaded_variables is not None:\n",
    "# Export the dictionary to a file\n",
    "    with open(path, 'wb') as file:\n",
    "\n",
    "\n",
    "        loaded_variables['obs_before_tensor'] += obs_before_tensor\n",
    "        loaded_variables['out_before_tensor'] += out_before_tensor\n",
    "        print(len(loaded_variables['obs_before_tensor']))\n",
    "        pickle.dump(loaded_variables, file)\n"
   ]
  },
  {
   "cell_type": "code",
   "execution_count": null,
   "id": "6c4c1afd",
   "metadata": {},
   "outputs": [],
   "source": []
  }
 ],
 "metadata": {
  "kernelspec": {
   "display_name": "Python 3 (ipykernel)",
   "language": "python",
   "name": "python3"
  },
  "language_info": {
   "codemirror_mode": {
    "name": "ipython",
    "version": 3
   },
   "file_extension": ".py",
   "mimetype": "text/x-python",
   "name": "python",
   "nbconvert_exporter": "python",
   "pygments_lexer": "ipython3",
   "version": "3.7.0"
  }
 },
 "nbformat": 4,
 "nbformat_minor": 5
}
