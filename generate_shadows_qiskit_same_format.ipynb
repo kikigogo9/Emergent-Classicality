{
 "cells": [
  {
   "cell_type": "code",
   "execution_count": 99,
   "metadata": {},
   "outputs": [],
   "source": [
    "# Import the necessary libraries\n",
    "from qiskit import QuantumCircuit, transpile, Aer, execute\n",
    "import matplotlib.pyplot as plt\n",
    "import random\n",
    "import pandas as pd\n",
    "import numpy as np\n",
    "from qiskit.quantum_info import DensityMatrix\n",
    "import torch\n"
   ]
  },
  {
   "cell_type": "code",
   "execution_count": 100,
   "metadata": {},
   "outputs": [],
   "source": [
    "def initialize_all_zeros(nr_qubits):\n",
    "    # Create a quantum circuit with N qubits\n",
    "    qc = QuantumCircuit(nr_qubits)\n",
    "    \n",
    "    # Initialize all qubits in the |0⟩ state\n",
    "    for qubit in range(nr_qubits):\n",
    "        qc.initialize([1, 0], qubit)\n",
    "    \n",
    "    return qc\n",
    "\n",
    "def apply_cnot_chain(qc, control_qubit, nr_qubits):\n",
    "    # Apply CNOT gates from the control qubit to the list of target qubits\n",
    "    for target_qubit in range(nr_qubits-1):\n",
    "        qc.cx(control_qubit, target_qubit+1)\n",
    "\n",
    "# def random_measurement_basis(nr_qubits): #applied to 1 qubit\n",
    "#     measurement_basis = [1, 2, 3]\n",
    "#     return [random.choice(measurement_basis) for _ in range(nr_qubits)]\n",
    "\n",
    "# def measurement_bases_N(nr_qubits): #instantly works for all nr_qubits\n",
    "#     # Generate 4 random numbers from the set {1, 2, 3}\n",
    "#     random_bases = [random.choice([1, 2, 3]) for _ in range(nr_qubits)]\n",
    "#     random_array = np.array(random_bases)\n",
    "#     return [random_array]\n",
    "\n",
    "def measurement_bases_N(nr_qubits):\n",
    "    # Generate nr_qubits random numbers from the set {x=1, y=2, z=3}\n",
    "    random_bases = np.random.choice([1, 2, 3], size=nr_qubits)\n",
    "    return random_bases\n"
   ]
  },
  {
   "cell_type": "code",
   "execution_count": 101,
   "metadata": {},
   "outputs": [],
   "source": [
    "nr_qubits = 4\n",
    "control_qubit = 0 #Usually just the first qubit\n",
    "\n",
    "n_sample = 2 #amount of times the shadows are generated and measured with 1 shot each\n",
    "\n"
   ]
  },
  {
   "cell_type": "code",
   "execution_count": 102,
   "metadata": {},
   "outputs": [
    {
     "name": "stdout",
     "output_type": "stream",
     "text": [
      "df    Measurement Basis  Measured Result\n",
      "0                  2                1\n",
      "1                  2                0\n",
      "2                  1                0\n",
      "3                  3                0\n",
      "4                  2                0\n",
      "5                  3                0\n",
      "6                  1                1\n",
      "7                  2                1\n",
      "obs_before_tensor [array([2, 2, 1, 3]), array([2, 3, 1, 2])]\n",
      "out_before_tensor [array([1, 0, 0, 0]), array([0, 0, 1, 1])]\n"
     ]
    }
   ],
   "source": [
    "# Create an empty DataFrame with columns for measurement basis and result\n",
    "# df = pd.DataFrame(columns=[\"Measurement Basis\", \"Measured Result\"])\n",
    "\n",
    "# Initialize a list to store the rows\n",
    "rows = []\n",
    "\n",
    "# Initialize an empty list to store the measured result and bases in the correct format for the AI model\n",
    "measurement_results_in_specific_format = np.zeros((n_sample,nr_qubits), dtype=int)\n",
    "measurement_bases_in_specific_format = []\n",
    "\n",
    "for _ in range(n_sample):\n",
    "    # Create a quantum circuit with N qubits\n",
    "    qc = initialize_all_zeros(nr_qubits)\n",
    "\n",
    "    # Apply a Hadamard gate to qubit 0\n",
    "    qc.h(control_qubit)\n",
    "\n",
    "    apply_cnot_chain(qc, control_qubit, nr_qubits)\n",
    "\n",
    "    # Choose random measurement basis for each qubit\n",
    "    measurement_bases = measurement_bases_N(nr_qubits)\n",
    "\n",
    "    # Store the measurement bases in the list    \n",
    "    measurement_bases_in_specific_format.append(measurement_bases)\n",
    "    \n",
    "\n",
    "    # Apply the measurement bases to the qubits\n",
    "    for qubit in range(nr_qubits):\n",
    "        if measurement_bases[qubit] == 1:\n",
    "            qc.h(qubit)\n",
    "        elif measurement_bases[qubit] == 2:\n",
    "            qc.sdg(qubit)\n",
    "            qc.h(qubit)\n",
    "\n",
    "    # Add measurements for all qubits in the Z basis\n",
    "    qc.measure_all()\n",
    "    \n",
    "    # Simulate the circuit and get measurement results\n",
    "    simulator = Aer.get_backend('qasm_simulator')\n",
    "    job = execute(qc, simulator, shots=1)\n",
    "    result = job.result()\n",
    "    counts = result.get_counts(qc)\n",
    "\n",
    "    # Iterate through the qubits and add their measurement results to the list\n",
    "    for qubit in range(nr_qubits):\n",
    "        basis = measurement_bases[qubit]\n",
    "        result = int(list(counts.keys())[0][nr_qubits - 1 - qubit])  # Extract the result\n",
    "        rows.append(pd.DataFrame({\"Measurement Basis\": [basis], \"Measured Result\": [result]}))\n",
    "        \n",
    "        measurement_results_in_specific_format[_][qubit] = result\n",
    "\n",
    "    # Concatenate the rows into the DataFrame and reset the index\n",
    "    df = pd.concat(rows, ignore_index=True)\n",
    "\n",
    "    \n",
    "\n",
    "# Display the DataFrame\n",
    "print('df',df)\n",
    "\n",
    "obs_before_tensor = measurement_bases_in_specific_format\n",
    "print('obs_before_tensor', obs_before_tensor)\n",
    "\n",
    "out_before_tensor = [np.array(row) for row in measurement_results_in_specific_format]\n",
    "print('out_before_tensor', out_before_tensor)\n",
    "\n"
   ]
  },
  {
   "cell_type": "code",
   "execution_count": 6,
   "metadata": {},
   "outputs": [
    {
     "name": "stdout",
     "output_type": "stream",
     "text": [
      "tok [1 1 1 3]\n",
      "1\n"
     ]
    }
   ],
   "source": [
    "# print(measurement_bases)\n",
    "\n",
    "tok = measurement_bases_N(nr_qubits)\n",
    "print('tok', tok)\n",
    "\n",
    "print(tok[0])"
   ]
  },
  {
   "cell_type": "code",
   "execution_count": null,
   "metadata": {},
   "outputs": [],
   "source": [
    "# X=1 Y=2 Z=3\n",
    "\n",
    "\n",
    "measurement_bases_in_specific_format = []\n",
    "out = []\n"
   ]
  },
  {
   "cell_type": "code",
   "execution_count": null,
   "metadata": {},
   "outputs": [],
   "source": []
  },
  {
   "cell_type": "code",
   "execution_count": null,
   "metadata": {},
   "outputs": [],
   "source": [
    "measurement_bases_in_specific_format = []\n",
    "out = []\n",
    "for _ in range(n_sample):\n",
    "    sigma = qst.random_pauli_state(n_qubit)\n",
    "    bit = rho.copy().measure(sigma)[0]\n",
    "    tok = sigma.tokenize()\n",
    "    measurement_bases_in_specific_format.append(tok[:n_qubit,:n_qubit].diagonal())\n",
    "    out.append((tok[:,-1]+bit)%2)\n",
    "    print('tok[:n_qubit,:n_qubit].diagonal()',tok[:n_qubit,:n_qubit].diagonal())\n",
    "    print('tok[:,-1]+bit)%2',(tok[:,-1]+bit)%2)\n",
    "measurement_bases_in_specific_format = torch.tensor(numpy.stack(measurement_bases_in_specific_format))\n",
    "out = torch.tensor(numpy.stack(out))\n",
    "\n",
    "print('obs', measurement_bases_in_specific_format)\n",
    "print('out', out)\n",
    "print('shadow', Shadow(measurement_bases_in_specific_format, out))\n",
    "return Shadow(measurement_bases_in_specific_format, out)"
   ]
  },
  {
   "cell_type": "code",
   "execution_count": 29,
   "metadata": {},
   "outputs": [
    {
     "data": {
      "image/png": "[encoded data removed]",
      "text/plain": [
       "<Figure size 899.479x325.08 with 1 Axes>"
      ]
     },
     "execution_count": 29,
     "metadata": {},
     "output_type": "execute_result"
    }
   ],
   "source": [
    "qc.draw(output='mpl')\n"
   ]
  },
  {
   "cell_type": "code",
   "execution_count": null,
   "metadata": {},
   "outputs": [],
   "source": []
  },
  {
   "cell_type": "code",
   "execution_count": null,
   "metadata": {},
   "outputs": [],
   "source": []
  },
  {
   "cell_type": "code",
   "execution_count": null,
   "metadata": {},
   "outputs": [],
   "source": []
  },
  {
   "cell_type": "code",
   "execution_count": null,
   "metadata": {},
   "outputs": [],
   "source": []
  },
  {
   "cell_type": "code",
   "execution_count": null,
   "metadata": {},
   "outputs": [],
   "source": []
  },
  {
   "cell_type": "code",
   "execution_count": 69,
   "metadata": {},
   "outputs": [
    {
     "name": "stdout",
     "output_type": "stream",
     "text": [
      "[array([0, 0, 1, 0]), array([0, 1, 1, 0])]\n"
     ]
    }
   ],
   "source": [
    "# Initialize an empty list to store the arrays\n",
    "measured_result_array = []\n",
    "\n",
    "# Iterate through the measurements\n",
    "for i in range(n_sample):\n",
    "    # Initialize an array of zeros for each measurement\n",
    "    result_array = np.zeros(nr_qubits, dtype=int)\n",
    "    \n",
    "    # Filter the DataFrame for the current measurement\n",
    "    measurement_df = df[df.index % n_sample == i]\n",
    "    \n",
    "    # Fill in the results in the array based on the measurement basis\n",
    "    for index, row in measurement_df.iterrows():\n",
    "        basis = row[\"Measurement Basis\"]\n",
    "        result = row[\"Measured Result\"]\n",
    "        result_array[basis - 1] = result  # Subtract 1 as basis is 1-indexed\n",
    "    \n",
    "    # Append the array to the result_arrays list\n",
    "    measured_result_array.append(result_array)\n",
    "\n",
    "# result_arrays now contains the desired format\n",
    "print(measured_result_array)"
   ]
  },
  {
   "cell_type": "code",
   "execution_count": 87,
   "metadata": {},
   "outputs": [
    {
     "ename": "AttributeError",
     "evalue": "'list' object has no attribute 'shape'",
     "output_type": "error",
     "traceback": [
      "\u001b[0;31m---------------------------------------------------------------------------\u001b[0m",
      "\u001b[0;31mAttributeError\u001b[0m                            Traceback (most recent call last)",
      "\u001b[1;32m/Users/thijs/Documents/Studiejaar5/Orientation Team Project/Python/Emergent-Classicality/generate_shadows_qiskit_same_format.ipynb Cell 16\u001b[0m line \u001b[0;36m4\n\u001b[1;32m      <a href='vscode-notebook-cell:/Users/thijs/Documents/Studiejaar5/Orientation%20Team%20Project/Python/Emergent-Classicality/generate_shadows_qiskit_same_format.ipynb#X21sZmlsZQ%3D%3D?line=0'>1</a>\u001b[0m hardcoded_array \u001b[39m=\u001b[39m [np\u001b[39m.\u001b[39marray([\u001b[39m0\u001b[39m, \u001b[39m0\u001b[39m, \u001b[39m1\u001b[39m, \u001b[39m0\u001b[39m]), np\u001b[39m.\u001b[39marray([\u001b[39m0\u001b[39m, \u001b[39m1\u001b[39m, \u001b[39m1\u001b[39m, \u001b[39m0\u001b[39m])]\n\u001b[1;32m      <a href='vscode-notebook-cell:/Users/thijs/Documents/Studiejaar5/Orientation%20Team%20Project/Python/Emergent-Classicality/generate_shadows_qiskit_same_format.ipynb#X21sZmlsZQ%3D%3D?line=1'>2</a>\u001b[0m hardcoded_array[\u001b[39m0\u001b[39m][\u001b[39m1\u001b[39m]\n\u001b[0;32m----> <a href='vscode-notebook-cell:/Users/thijs/Documents/Studiejaar5/Orientation%20Team%20Project/Python/Emergent-Classicality/generate_shadows_qiskit_same_format.ipynb#X21sZmlsZQ%3D%3D?line=3'>4</a>\u001b[0m hardcoded_array\u001b[39m.\u001b[39mshape\n",
      "\u001b[0;31mAttributeError\u001b[0m: 'list' object has no attribute 'shape'"
     ]
    }
   ],
   "source": [
    "hardcoded_array = [np.array([0, 0, 1, 0]), np.array([0, 1, 1, 0])]\n",
    "hardcoded_array[0][1]\n"
   ]
  },
  {
   "cell_type": "code",
   "execution_count": null,
   "metadata": {},
   "outputs": [],
   "source": []
  }
 ],
 "metadata": {
  "kernelspec": {
   "display_name": "emergent_classicality",
   "language": "python",
   "name": "python3"
  },
  "language_info": {
   "codemirror_mode": {
    "name": "ipython",
    "version": 3
   },
   "file_extension": ".py",
   "mimetype": "text/x-python",
   "name": "python",
   "nbconvert_exporter": "python",
   "pygments_lexer": "ipython3",
   "version": "3.11.5"
  },
  "orig_nbformat": 4
 },
 "nbformat": 4,
 "nbformat_minor": 2
}
