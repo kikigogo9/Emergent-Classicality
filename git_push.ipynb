{
 "cells": [
  {
   "cell_type": "code",
   "execution_count": 1,
   "metadata": {},
   "outputs": [
    {
     "name": "stdout",
     "output_type": "stream",
     "text": [
      "\n",
      "CommandNotFoundError: Your shell has not been properly configured to use 'conda activate'.\n",
      "To initialize your shell, run\n",
      "\n",
      "    $ conda init <SHELL_NAME>\n",
      "\n",
      "Currently supported shells are:\n",
      "  - bash\n",
      "  - fish\n",
      "  - tcsh\n",
      "  - xonsh\n",
      "  - zsh\n",
      "  - powershell\n",
      "\n",
      "See 'conda init --help' for more information and options.\n",
      "\n",
      "IMPORTANT: You may need to close and restart your shell after running 'conda init'.\n",
      "\n",
      "\n"
     ]
    }
   ],
   "source": [
    "! conda activate emergent_classicality"
   ]
  },
  {
   "cell_type": "code",
   "execution_count": 6,
   "metadata": {},
   "outputs": [],
   "source": [
    "! git add ."
   ]
  },
  {
   "cell_type": "code",
   "execution_count": 7,
   "metadata": {},
   "outputs": [
    {
     "name": "stdout",
     "output_type": "stream",
     "text": [
      "[thijs 4a85d0f] Simply import generate_shadows_qiskit_importable.py and generate shadow yourself\n"
     ]
    }
   ],
   "source": [
    "! git commit -m \"Simply import generate_shadows_qiskit_importable.py and generate shadow yourself\""
   ]
  },
  {
   "cell_type": "code",
   "execution_count": 8,
   "metadata": {},
   "outputs": [
    {
     "name": "stdout",
     "output_type": "stream",
     "text": [
      "Enumerating objects: 22, done.\n",
      "Counting objects: 100% (22/22), done.\n",
      "Delta compression using up to 8 threads\n",
      "Compressing objects: 100% (15/15), done.\n",
      "Writing objects: 100% (15/15), 11.99 KiB | 3.00 MiB/s, done.\n",
      "Total 15 (delta 8), reused 0 (delta 0), pack-reused 0\n",
      "remote: Resolving deltas: 100% (8/8), completed with 6 local objects.\u001b[K\n",
      "To https://github.com/kikigogo9/Emergent-Classicality.git\n",
      "   0faa158..4a85d0f  thijs -> thijs\n"
     ]
    }
   ],
   "source": [
    "! git push"
   ]
  },
  {
   "cell_type": "code",
   "execution_count": 5,
   "metadata": {},
   "outputs": [
    {
     "name": "stdout",
     "output_type": "stream",
     "text": [
      "error: unknown switch `m'\n",
      "usage: git pull [<options>] [<repository> [<refspec>...]]\n",
      "\n",
      "    -v, --verbose         be more verbose\n",
      "    -q, --quiet           be more quiet\n",
      "    --progress            force progress reporting\n",
      "    --recurse-submodules[=<on-demand>]\n",
      "                          control for recursive fetching of submodules\n",
      "\n",
      "Options related to merging\n",
      "    -r, --rebase[=(false|true|merges|interactive)]\n",
      "                          incorporate changes by rebasing rather than merging\n",
      "    -n                    do not show a diffstat at the end of the merge\n",
      "    --stat                show a diffstat at the end of the merge\n",
      "    --log[=<n>]           add (at most <n>) entries from shortlog to merge commit message\n",
      "    --signoff[=...]       add a Signed-off-by trailer\n",
      "    --squash              create a single commit instead of doing a merge\n",
      "    --commit              perform a commit if the merge succeeds (default)\n",
      "    --edit                edit message before committing\n",
      "    --cleanup <mode>      how to strip spaces and #comments from message\n",
      "    --ff                  allow fast-forward\n",
      "    --ff-only             abort if fast-forward is not possible\n",
      "    --verify              control use of pre-merge-commit and commit-msg hooks\n",
      "    --verify-signatures   verify that the named commit has a valid GPG signature\n",
      "    --autostash           automatically stash/stash pop before and after\n",
      "    -s, --strategy <strategy>\n",
      "                          merge strategy to use\n",
      "    -X, --strategy-option <option=value>\n",
      "                          option for selected merge strategy\n",
      "    -S, --gpg-sign[=<key-id>]\n",
      "                          GPG sign commit\n",
      "    --allow-unrelated-histories\n",
      "                          allow merging unrelated histories\n",
      "\n",
      "Options related to fetching\n",
      "    --all                 fetch from all remotes\n",
      "    -a, --append          append to .git/FETCH_HEAD instead of overwriting\n",
      "    --upload-pack <path>  path to upload pack on remote end\n",
      "    -f, --force           force overwrite of local branch\n",
      "    -t, --tags            fetch all tags and associated objects\n",
      "    -p, --prune           prune remote-tracking branches no longer on remote\n",
      "    -j, --jobs[=<n>]      number of submodules pulled in parallel\n",
      "    --dry-run             dry run\n",
      "    -k, --keep            keep downloaded pack\n",
      "    --depth <depth>       deepen history of shallow clone\n",
      "    --shallow-since <time>\n",
      "                          deepen history of shallow repository based on time\n",
      "    --shallow-exclude <revision>\n",
      "                          deepen history of shallow clone, excluding rev\n",
      "    --deepen <n>          deepen history of shallow clone\n",
      "    --unshallow           convert to a complete repository\n",
      "    --update-shallow      accept refs that update .git/shallow\n",
      "    --refmap <refmap>     specify fetch refmap\n",
      "    -o, --server-option <server-specific>\n",
      "                          option to transmit\n",
      "    -4, --ipv4            use IPv4 addresses only\n",
      "    -6, --ipv6            use IPv6 addresses only\n",
      "    --negotiation-tip <revision>\n",
      "                          report that we have only objects reachable from this object\n",
      "    --show-forced-updates check for forced-updates on all updated branches\n",
      "    --set-upstream        set upstream for git pull/fetch\n",
      "\n"
     ]
    }
   ],
   "source": [
    "! git pull -m \"I had to pull before pushing, idk why but I ran git config pull.rebase false\""
   ]
  },
  {
   "cell_type": "code",
   "execution_count": 3,
   "metadata": {},
   "outputs": [],
   "source": [
    "! git config pull.rebase false"
   ]
  },
  {
   "cell_type": "code",
   "execution_count": null,
   "metadata": {},
   "outputs": [],
   "source": []
  }
 ],
 "metadata": {
  "kernelspec": {
   "display_name": "emergent_classicality",
   "language": "python",
   "name": "python3"
  },
  "language_info": {
   "codemirror_mode": {
    "name": "ipython",
    "version": 3
   },
   "file_extension": ".py",
   "mimetype": "text/x-python",
   "name": "python",
   "nbconvert_exporter": "python",
   "pygments_lexer": "ipython3",
   "version": "3.11.5"
  },
  "orig_nbformat": 4
 },
 "nbformat": 4,
 "nbformat_minor": 2
}
