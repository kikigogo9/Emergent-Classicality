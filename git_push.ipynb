{
 "cells": [
  {
   "cell_type": "code",
   "execution_count": 1,
   "metadata": {},
   "outputs": [
    {
     "name": "stdout",
     "output_type": "stream",
     "text": [
      "\n",
      "CommandNotFoundError: Your shell has not been properly configured to use 'conda activate'.\n",
      "To initialize your shell, run\n",
      "\n",
      "    $ conda init <SHELL_NAME>\n",
      "\n",
      "Currently supported shells are:\n",
      "  - bash\n",
      "  - fish\n",
      "  - tcsh\n",
      "  - xonsh\n",
      "  - zsh\n",
      "  - powershell\n",
      "\n",
      "See 'conda init --help' for more information and options.\n",
      "\n",
      "IMPORTANT: You may need to close and restart your shell after running 'conda init'.\n",
      "\n",
      "\n"
     ]
    }
   ],
   "source": [
    "! conda activate emergent_classicality"
   ]
  },
  {
   "cell_type": "code",
   "execution_count": 6,
   "metadata": {},
   "outputs": [],
   "source": [
    "! git add ."
   ]
  },
  {
   "cell_type": "code",
   "execution_count": 7,
   "metadata": {},
   "outputs": [
    {
     "name": "stdout",
     "output_type": "stream",
     "text": [
      "[thijs 28cb1fa] Simply import generate_shadows_qiskit_importable.py and generate shadow yourself\n",
      " 8 files changed, 372 insertions(+), 177 deletions(-)\n",
      " create mode 100644 __pycache__/generate_shadows_qiskit_importable.cpython-311.pyc\n",
      " create mode 100644 exported_variables.pkl\n",
      " create mode 100644 generate_shadows_qiskit_importable.py\n"
     ]
    }
   ],
   "source": [
    "! git commit -m \"Simply import generate_shadows_qiskit_importable.py and generate shadow yourself\""
   ]
  },
  {
   "cell_type": "code",
   "execution_count": 8,
   "metadata": {},
   "outputs": [
    {
     "name": "stdout",
     "output_type": "stream",
     "text": [
      "To https://github.com/kikigogo9/Emergent-Classicality.git\n",
      " \u001b[31m! [rejected]       \u001b[m thijs -> thijs (non-fast-forward)\n",
      "\u001b[31merror: failed to push some refs to 'https://github.com/kikigogo9/Emergent-Classicality.git'\n",
      "\u001b[m\u001b[33mhint: Updates were rejected because the tip of your current branch is behind\u001b[m\n",
      "\u001b[33mhint: its remote counterpart. If you want to integrate the remote changes,\u001b[m\n",
      "\u001b[33mhint: use 'git pull' before pushing again.\u001b[m\n",
      "\u001b[33mhint: See the 'Note about fast-forwards' in 'git push --help' for details.\u001b[m\n"
     ]
    }
   ],
   "source": [
    "! git push"
   ]
  },
  {
   "cell_type": "code",
   "execution_count": 4,
   "metadata": {},
   "outputs": [
    {
     "name": "stdout",
     "output_type": "stream",
     "text": [
      "<Orientation Team Project/Python/Emergent-Classicality/.git/MERGE_MSG\" 6L, 312B\u001b[2;1H▽\u001b[6n\u001b[2;1H  \u001b[3;1H\u001bPzz\u001b\\\u001b[0%m\u001b[6n\u001b[3;1H           \u001b[1;1H\u001b[>c\u001b]10;?\u0007\u001b]11;?\u0007\u001b[1;1HMerge branch 'thijs' of https://github.com/kikigogo9/Emergent-Classicality into  \u001b[2;1Hthijs\u001b[2;6H\u001b[K\u001b[3;1H# Please enter a commit message to explain why this merge is necessary,\u001b[3;72H\u001b[K\u001b[4;1H# especially if it merges an updated upstream into a topic branch.\n",
      "#\n",
      "# Lines starting with '#' will be ignored, and an empty message aborts\n",
      "# the commit.\n",
      "\u001b[1m\u001b[34m~                                                                               \u001b[9;1H~                                                                               \u001b[10;1H~                                                                               \u001b[11;1H~                                                                               \u001b[12;1H~                                                                               \u001b[13;1H~                                                                               \u001b[14;1H~                                                                               \u001b[15;1H~                                                                               \u001b[16;1H~                                                                               \u001b[17;1H~                                                                               \u001b[18;1H~                                                                               \u001b[19;1H~                                                                               \u001b[20;1H~                                                                               \u001b[21;1H~                                                                               \u001b[22;1H~                                                                               \u001b[23;1H~                                                                               \u001b[1;1H\u001b[?25h"
     ]
    }
   ],
   "source": [
    "! git pull"
   ]
  },
  {
   "cell_type": "code",
   "execution_count": 3,
   "metadata": {},
   "outputs": [],
   "source": [
    "! git config pull.rebase false"
   ]
  },
  {
   "cell_type": "code",
   "execution_count": null,
   "metadata": {},
   "outputs": [],
   "source": []
  }
 ],
 "metadata": {
  "kernelspec": {
   "display_name": "emergent_classicality",
   "language": "python",
   "name": "python3"
  },
  "language_info": {
   "codemirror_mode": {
    "name": "ipython",
    "version": 3
   },
   "file_extension": ".py",
   "mimetype": "text/x-python",
   "name": "python",
   "nbconvert_exporter": "python",
   "pygments_lexer": "ipython3",
   "version": "3.11.5"
  },
  "orig_nbformat": 4
 },
 "nbformat": 4,
 "nbformat_minor": 2
}
